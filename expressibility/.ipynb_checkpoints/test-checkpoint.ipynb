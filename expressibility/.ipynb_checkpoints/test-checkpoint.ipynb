{
 "cells": [
  {
   "cell_type": "code",
   "execution_count": 26,
   "id": "6c457be5",
   "metadata": {},
   "outputs": [],
   "source": [
    "import numpy as np\n",
    "import qiskit\n",
    "from qiskit import QuantumCircuit\n",
    "from qiskit import Aer, execute\n",
    "from qiskit.quantum_info import state_fidelity\n",
    "\n",
    "qasm_backend = Aer.get_backend('qasm_simulator')"
   ]
  },
  {
   "cell_type": "code",
   "execution_count": 8,
   "id": "48fbc3b4",
   "metadata": {},
   "outputs": [],
   "source": [
    "from qiskit.quantum_info import DensityMatrix, Statevector\n",
    "\n",
    "def getDensityMatrix(circuit):\n",
    "    return DensityMatrix(circuit).data\n",
    "\n",
    "def getStatevector(circuit):\n",
    "    return Statevector(circuit).data"
   ]
  },
  {
   "cell_type": "code",
   "execution_count": 9,
   "id": "65cd10eb",
   "metadata": {},
   "outputs": [],
   "source": [
    "import warnings\n",
    "warnings.filterwarnings('ignore')"
   ]
  },
  {
   "cell_type": "markdown",
   "id": "9731fd35",
   "metadata": {},
   "source": [
    "# 1. Extimating experssibility"
   ]
  },
  {
   "cell_type": "markdown",
   "id": "b3438b6b",
   "metadata": {},
   "source": [
    "## 1.1 tool functions"
   ]
  },
  {
   "cell_type": "code",
   "execution_count": 189,
   "id": "b6f24238",
   "metadata": {},
   "outputs": [],
   "source": [
    "def P_haar(N, F):\n",
    "    if F == 1:\n",
    "        return 0\n",
    "    return (N - 1) * ((1 - F) ** (N - 2))"
   ]
  },
  {
   "cell_type": "code",
   "execution_count": 434,
   "id": "8f8bd795",
   "metadata": {},
   "outputs": [],
   "source": [
    "def Ft(N, t):\n",
    "    f = np.math.factorial\n",
    "    return f(t) * f(N-1) / f(t + N - 1)"
   ]
  },
  {
   "cell_type": "code",
   "execution_count": 437,
   "id": "567c0cd5",
   "metadata": {},
   "outputs": [
    {
     "data": {
      "text/plain": [
       "0.16666666666666666"
      ]
     },
     "execution_count": 437,
     "metadata": {},
     "output_type": "execute_result"
    }
   ],
   "source": [
    "Ft(2, 5)"
   ]
  },
  {
   "cell_type": "code",
   "execution_count": 416,
   "id": "7de0c172",
   "metadata": {},
   "outputs": [],
   "source": [
    "def KL(P, Q):\n",
    "    epsilon = 1e-8\n",
    "    kl_divergence = 0.0\n",
    "    \n",
    "    for p, q in zip(P, Q):\n",
    "        kl_divergence += p * np.log( (p + epsilon) / (q + epsilon) )\n",
    "    \n",
    "    return abs(kl_divergence)"
   ]
  },
  {
   "cell_type": "markdown",
   "id": "9466eff6",
   "metadata": {},
   "source": [
    "## 1.2 Examples"
   ]
  },
  {
   "cell_type": "markdown",
   "id": "c606c0db",
   "metadata": {},
   "source": [
    "### 1.2.1 circuit idle"
   ]
  },
  {
   "cell_type": "code",
   "execution_count": 276,
   "id": "e8d72369",
   "metadata": {},
   "outputs": [
    {
     "data": {
      "text/plain": [
       "<qiskit.circuit.instructionset.InstructionSet at 0x1c1474ae2b0>"
      ]
     },
     "execution_count": 276,
     "metadata": {},
     "output_type": "execute_result"
    }
   ],
   "source": [
    "circuit_idle = QuantumCircuit(1)\n",
    "circuit_idle.i(0)"
   ]
  },
  {
   "cell_type": "code",
   "execution_count": 277,
   "id": "34c87104",
   "metadata": {},
   "outputs": [
    {
     "data": {
      "image/png": "[encoded data removed]",
      "text/plain": [
       "<Figure size 185.453x117.056 with 1 Axes>"
      ]
     },
     "execution_count": 277,
     "metadata": {},
     "output_type": "execute_result"
    }
   ],
   "source": [
    "circuit_idle.draw(output='mpl')"
   ]
  },
  {
   "cell_type": "code",
   "execution_count": 278,
   "id": "760c4405",
   "metadata": {},
   "outputs": [
    {
     "data": {
      "text/plain": [
       "1.0"
      ]
     },
     "execution_count": 278,
     "metadata": {},
     "output_type": "execute_result"
    }
   ],
   "source": [
    "state_fidelity(getStatevector(circuit_idle), getStatevector(circuit_idle))"
   ]
  },
  {
   "cell_type": "code",
   "execution_count": 279,
   "id": "940bd6e6",
   "metadata": {},
   "outputs": [
    {
     "data": {
      "text/plain": [
       "0"
      ]
     },
     "execution_count": 279,
     "metadata": {},
     "output_type": "execute_result"
    }
   ],
   "source": [
    "P_haar(2, 1.0)"
   ]
  },
  {
   "cell_type": "code",
   "execution_count": 417,
   "id": "a73d484e",
   "metadata": {},
   "outputs": [],
   "source": [
    "pPQC = np.array([0] * 75)\n",
    "pPQC[74] = 1\n",
    "pHaar = np.array([1/75] * 75)"
   ]
  },
  {
   "cell_type": "code",
   "execution_count": 418,
   "id": "91107ce6",
   "metadata": {},
   "outputs": [
    {
     "data": {
      "text/plain": [
       "4.317487373536592"
      ]
     },
     "execution_count": 418,
     "metadata": {},
     "output_type": "execute_result"
    }
   ],
   "source": [
    "KL(pPQC, pHaar)"
   ]
  },
  {
   "cell_type": "markdown",
   "id": "cdd4609c",
   "metadata": {},
   "source": [
    "### 1.2.2 circuit A"
   ]
  },
  {
   "cell_type": "code",
   "execution_count": 331,
   "id": "459042bf",
   "metadata": {},
   "outputs": [],
   "source": [
    "def sampleCircuitA():\n",
    "    circuit_A = QuantumCircuit(1)\n",
    "    circuit_A.h(0)\n",
    "    circuit_A.rz(np.random.uniform(0, 2 * np.pi), 0)\n",
    "    \n",
    "    return circuit_A"
   ]
  },
  {
   "cell_type": "code",
   "execution_count": 332,
   "id": "22c85763",
   "metadata": {},
   "outputs": [
    {
     "data": {
      "image/png": "[encoded data removed]",
      "text/plain": [
       "<Figure size 269.064x117.056 with 1 Axes>"
      ]
     },
     "execution_count": 332,
     "metadata": {},
     "output_type": "execute_result"
    }
   ],
   "source": [
    "circuit_A_example1 = sampleCircuitA()\n",
    "circuit_A_example1.draw(output='mpl')"
   ]
  },
  {
   "cell_type": "code",
   "execution_count": 333,
   "id": "2860b18a",
   "metadata": {},
   "outputs": [
    {
     "data": {
      "image/png": "[encoded data removed]",
      "text/plain": [
       "<Figure size 269.064x117.056 with 1 Axes>"
      ]
     },
     "execution_count": 333,
     "metadata": {},
     "output_type": "execute_result"
    }
   ],
   "source": [
    "circuit_A_example2 = sampleCircuitA()\n",
    "circuit_A_example2.draw(output='mpl')"
   ]
  },
  {
   "cell_type": "code",
   "execution_count": 334,
   "id": "c91485bb",
   "metadata": {},
   "outputs": [
    {
     "data": {
      "text/plain": [
       "0.009839055699261787"
      ]
     },
     "execution_count": 334,
     "metadata": {},
     "output_type": "execute_result"
    }
   ],
   "source": [
    "state_fidelity(\n",
    "    getStatevector(circuit_A_example1),\n",
    "    getStatevector(circuit_A_example2)\n",
    ")"
   ]
  },
  {
   "cell_type": "code",
   "execution_count": 419,
   "id": "41a0ec93",
   "metadata": {},
   "outputs": [],
   "source": [
    "unit = 1/75\n",
    "limits = []\n",
    "probabilities = np.array([0] * 75)\n",
    "for i in range(1, 76):\n",
    "    limits.append(unit * i)\n",
    "    \n",
    "for i in range(1000):\n",
    "    circuit_1 = sampleCircuitA()\n",
    "    circuit_2 = sampleCircuitA()\n",
    "    f = state_fidelity(\n",
    "        getStatevector(circuit_1),\n",
    "        getStatevector(circuit_2)\n",
    "    )\n",
    "    \n",
    "    for j in range(75):\n",
    "        if f <= limits[j]:\n",
    "            probabilities[j] += 1\n",
    "            break"
   ]
  },
  {
   "cell_type": "code",
   "execution_count": 420,
   "id": "6b0f0fac",
   "metadata": {},
   "outputs": [],
   "source": [
    "probabilities = [ p / 1000 for p in probabilities ]"
   ]
  },
  {
   "cell_type": "code",
   "execution_count": 421,
   "id": "b2292f4b",
   "metadata": {},
   "outputs": [
    {
     "data": {
      "text/plain": [
       "0.2140082099427037"
      ]
     },
     "execution_count": 421,
     "metadata": {},
     "output_type": "execute_result"
    }
   ],
   "source": [
    "pHaar = np.array([1/75] * 75)\n",
    "KL(probabilities, pHaar)"
   ]
  },
  {
   "cell_type": "markdown",
   "id": "24bf1ace",
   "metadata": {},
   "source": [
    "### 1.2.3 circuit B"
   ]
  },
  {
   "cell_type": "code",
   "execution_count": 379,
   "id": "47c8b18a",
   "metadata": {},
   "outputs": [],
   "source": [
    "def sampleCircuitB():\n",
    "    circuit_B = QuantumCircuit(1)\n",
    "    circuit_B.h(0)\n",
    "    circuit_B.rz(np.random.uniform(0, 2 * np.pi), 0)\n",
    "    circuit_B.rx(np.random.uniform(0, 2 * np.pi), 0)\n",
    "    \n",
    "    return circuit_B"
   ]
  },
  {
   "cell_type": "code",
   "execution_count": 425,
   "id": "fb2f20bc",
   "metadata": {},
   "outputs": [],
   "source": [
    "unit = 1/75\n",
    "limits = []\n",
    "probabilities = np.array([0] * 75)\n",
    "for i in range(1, 76):\n",
    "    limits.append(unit * i)\n",
    "    \n",
    "for i in range(1000):\n",
    "    circuit_1 = sampleCircuitB()\n",
    "    circuit_2 = sampleCircuitB()\n",
    "    f = state_fidelity(\n",
    "        getStatevector(circuit_1),\n",
    "        getStatevector(circuit_2)\n",
    "    )\n",
    "    \n",
    "    for j in range(75):\n",
    "        if f <= limits[j]:\n",
    "            probabilities[j] += 1\n",
    "            break"
   ]
  },
  {
   "cell_type": "code",
   "execution_count": 426,
   "id": "422bf183",
   "metadata": {},
   "outputs": [],
   "source": [
    "probabilities = [ p / 1000 for p in probabilities ]"
   ]
  },
  {
   "cell_type": "code",
   "execution_count": 427,
   "id": "de6c5e9b",
   "metadata": {},
   "outputs": [
    {
     "data": {
      "text/plain": [
       "0.044405881846006474"
      ]
     },
     "execution_count": 427,
     "metadata": {},
     "output_type": "execute_result"
    }
   ],
   "source": [
    "pHaar = np.array([1/75] * 75)\n",
    "KL(probabilities, pHaar)"
   ]
  },
  {
   "cell_type": "markdown",
   "id": "865bc8ce",
   "metadata": {},
   "source": [
    "### 1.2.4 VQC Circuit "
   ]
  },
  {
   "cell_type": "code",
   "execution_count": 428,
   "id": "23ca5620",
   "metadata": {},
   "outputs": [],
   "source": [
    "def sampleVQCCircuit():\n",
    "    circuit_vqc = QuantumCircuit(4)\n",
    "    circuit_vqc.rx(np.random.uniform(0, 2 * np.pi), 0)\n",
    "    circuit_vqc.rx(np.random.uniform(0, 2 * np.pi), 1)\n",
    "    circuit_vqc.rx(np.random.uniform(0, 2 * np.pi), 2)\n",
    "    circuit_vqc.rx(np.random.uniform(0, 2 * np.pi), 3)\n",
    "    \n",
    "    circuit_vqc.rz(np.random.uniform(0, 2 * np.pi), 0)\n",
    "    circuit_vqc.rz(np.random.uniform(0, 2 * np.pi), 1)\n",
    "    circuit_vqc.rz(np.random.uniform(0, 2 * np.pi), 2)\n",
    "    circuit_vqc.rz(np.random.uniform(0, 2 * np.pi), 3)\n",
    "    \n",
    "    circuit_vqc.crz(np.random.uniform(0, 2 * np.pi), 3, 2)\n",
    "    circuit_vqc.crz(np.random.uniform(0, 2 * np.pi), 2, 1)\n",
    "    circuit_vqc.crz(np.random.uniform(0, 2 * np.pi), 1, 0)\n",
    "    \n",
    "    return circuit_vqc"
   ]
  },
  {
   "cell_type": "code",
   "execution_count": 429,
   "id": "44bfa033",
   "metadata": {},
   "outputs": [
    {
     "data": {
      "image/png": "[encoded data removed]",
      "text/plain": [
       "<Figure size 538.33x367.889 with 1 Axes>"
      ]
     },
     "execution_count": 429,
     "metadata": {},
     "output_type": "execute_result"
    }
   ],
   "source": [
    "circuit_vqc_example = sampleVQCCircuit()\n",
    "circuit_vqc_example.draw(output='mpl')"
   ]
  },
  {
   "cell_type": "code",
   "execution_count": 430,
   "id": "ee7d801c",
   "metadata": {},
   "outputs": [],
   "source": [
    "unit = 1/75\n",
    "limits = []\n",
    "probabilities = np.array([0] * 75)\n",
    "for i in range(1, 76):\n",
    "    limits.append(unit * i)\n",
    "    \n",
    "for i in range(1000):\n",
    "    circuit_1 = sampleVQCCircuit()\n",
    "    circuit_2 = sampleVQCCircuit()\n",
    "    f = state_fidelity(\n",
    "        getStatevector(circuit_1),\n",
    "        getStatevector(circuit_2)\n",
    "    )\n",
    "    \n",
    "    for j in range(75):\n",
    "        if f <= limits[j]:\n",
    "            probabilities[j] += 1\n",
    "            break"
   ]
  },
  {
   "cell_type": "code",
   "execution_count": 431,
   "id": "ed2bbc83",
   "metadata": {},
   "outputs": [],
   "source": [
    "probabilities = [ p / 1000 for p in probabilities ]"
   ]
  },
  {
   "cell_type": "code",
   "execution_count": 432,
   "id": "5198fffd",
   "metadata": {},
   "outputs": [
    {
     "data": {
      "text/plain": [
       "1.9674764636823079"
      ]
     },
     "execution_count": 432,
     "metadata": {},
     "output_type": "execute_result"
    }
   ],
   "source": [
    "pHaar = np.array([1/75] * 75)\n",
    "KL(probabilities, pHaar)"
   ]
  },
  {
   "cell_type": "markdown",
   "id": "d1fc8c66",
   "metadata": {},
   "source": [
    "# 2. Entanglement capability"
   ]
  },
  {
   "cell_type": "code",
   "execution_count": null,
   "id": "ed4b4ecc",
   "metadata": {},
   "outputs": [],
   "source": []
  }
 ],
 "metadata": {
  "kernelspec": {
   "display_name": "Python 3 (ipykernel)",
   "language": "python",
   "name": "python3"
  },
  "language_info": {
   "codemirror_mode": {
    "name": "ipython",
    "version": 3
   },
   "file_extension": ".py",
   "mimetype": "text/x-python",
   "name": "python",
   "nbconvert_exporter": "python",
   "pygments_lexer": "ipython3",
   "version": "3.9.13"
  }
 },
 "nbformat": 4,
 "nbformat_minor": 5
}
