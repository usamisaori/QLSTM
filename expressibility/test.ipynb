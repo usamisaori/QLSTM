{
 "cells": [
  {
   "cell_type": "code",
   "execution_count": 26,
   "id": "f2117a08",
   "metadata": {},
   "outputs": [],
   "source": [
    "import numpy as np\n",
    "import qiskit\n",
    "from qiskit import QuantumCircuit\n",
    "from qiskit import Aer, execute\n",
    "from qiskit.quantum_info import state_fidelity\n",
    "\n",
    "qasm_backend = Aer.get_backend('qasm_simulator')"
   ]
  },
  {
   "cell_type": "code",
   "execution_count": 636,
   "id": "943c58c7",
   "metadata": {},
   "outputs": [],
   "source": [
    "from qiskit.quantum_info import DensityMatrix, Statevector, partial_trace\n",
    "\n",
    "def getDensityMatrix(circuit):\n",
    "    return DensityMatrix(circuit).data\n",
    "\n",
    "def getStatevector(circuit):\n",
    "    return Statevector(circuit).data"
   ]
  },
  {
   "cell_type": "code",
   "execution_count": 9,
   "id": "6bb24c6e",
   "metadata": {},
   "outputs": [],
   "source": [
    "import warnings\n",
    "warnings.filterwarnings('ignore')"
   ]
  },
  {
   "cell_type": "markdown",
   "id": "031cb1af",
   "metadata": {},
   "source": [
    "# 1. Extimating experssibility"
   ]
  },
  {
   "cell_type": "markdown",
   "id": "c324f57a",
   "metadata": {},
   "source": [
    "## 1.1 tool functions"
   ]
  },
  {
   "cell_type": "code",
   "execution_count": 504,
   "id": "ae45130e",
   "metadata": {},
   "outputs": [],
   "source": [
    "def P_haar(N, F):\n",
    "    if F == 1:\n",
    "        return 0\n",
    "    return (N - 1) * ((1 - F) ** (N - 2))"
   ]
  },
  {
   "cell_type": "code",
   "execution_count": 434,
   "id": "77f60217",
   "metadata": {},
   "outputs": [],
   "source": [
    "def Ft(N, t):\n",
    "    f = np.math.factorial\n",
    "    return f(t) * f(N-1) / f(t + N - 1)"
   ]
  },
  {
   "cell_type": "code",
   "execution_count": 416,
   "id": "cef845bf",
   "metadata": {},
   "outputs": [],
   "source": [
    "def KL(P, Q):\n",
    "    epsilon = 1e-8\n",
    "    kl_divergence = 0.0\n",
    "    \n",
    "    for p, q in zip(P, Q):\n",
    "        kl_divergence += p * np.log( (p + epsilon) / (q + epsilon) )\n",
    "    \n",
    "    return abs(kl_divergence)"
   ]
  },
  {
   "cell_type": "markdown",
   "id": "2647275a",
   "metadata": {},
   "source": [
    "## 1.2 Examples"
   ]
  },
  {
   "cell_type": "markdown",
   "id": "5101ad6d",
   "metadata": {},
   "source": [
    "### 1.2.1 circuit idle"
   ]
  },
  {
   "cell_type": "code",
   "execution_count": 276,
   "id": "b2a40f38",
   "metadata": {},
   "outputs": [
    {
     "data": {
      "text/plain": [
       "<qiskit.circuit.instructionset.InstructionSet at 0x1c1474ae2b0>"
      ]
     },
     "execution_count": 276,
     "metadata": {},
     "output_type": "execute_result"
    }
   ],
   "source": [
    "circuit_idle = QuantumCircuit(1)\n",
    "circuit_idle.i(0)"
   ]
  },
  {
   "cell_type": "code",
   "execution_count": 277,
   "id": "c73a74a2",
   "metadata": {},
   "outputs": [
    {
     "data": {
      "image/png": "[encoded data removed]",
      "text/plain": [
       "<Figure size 185.453x117.056 with 1 Axes>"
      ]
     },
     "execution_count": 277,
     "metadata": {},
     "output_type": "execute_result"
    }
   ],
   "source": [
    "circuit_idle.draw(output='mpl')"
   ]
  },
  {
   "cell_type": "code",
   "execution_count": 278,
   "id": "ceca6b61",
   "metadata": {},
   "outputs": [
    {
     "data": {
      "text/plain": [
       "1.0"
      ]
     },
     "execution_count": 278,
     "metadata": {},
     "output_type": "execute_result"
    }
   ],
   "source": [
    "state_fidelity(getStatevector(circuit_idle), getStatevector(circuit_idle))"
   ]
  },
  {
   "cell_type": "code",
   "execution_count": 279,
   "id": "2d73efa7",
   "metadata": {},
   "outputs": [
    {
     "data": {
      "text/plain": [
       "0"
      ]
     },
     "execution_count": 279,
     "metadata": {},
     "output_type": "execute_result"
    }
   ],
   "source": [
    "P_haar(2, 1.0)"
   ]
  },
  {
   "cell_type": "code",
   "execution_count": 417,
   "id": "86ed83e8",
   "metadata": {},
   "outputs": [],
   "source": [
    "pPQC = np.array([0] * 75)\n",
    "pPQC[74] = 1\n",
    "pHaar = np.array([1/75] * 75)"
   ]
  },
  {
   "cell_type": "code",
   "execution_count": 418,
   "id": "bc402772",
   "metadata": {},
   "outputs": [
    {
     "data": {
      "text/plain": [
       "4.317487373536592"
      ]
     },
     "execution_count": 418,
     "metadata": {},
     "output_type": "execute_result"
    }
   ],
   "source": [
    "KL(pPQC, pHaar)"
   ]
  },
  {
   "cell_type": "markdown",
   "id": "a73043c1",
   "metadata": {},
   "source": [
    "### 1.2.2 circuit A"
   ]
  },
  {
   "cell_type": "code",
   "execution_count": 331,
   "id": "a208fd8c",
   "metadata": {},
   "outputs": [],
   "source": [
    "def sampleCircuitA():\n",
    "    circuit_A = QuantumCircuit(1)\n",
    "    circuit_A.h(0)\n",
    "    circuit_A.rz(np.random.uniform(0, 2 * np.pi), 0)\n",
    "    \n",
    "    return circuit_A"
   ]
  },
  {
   "cell_type": "code",
   "execution_count": 332,
   "id": "4101118e",
   "metadata": {},
   "outputs": [
    {
     "data": {
      "image/png": "[encoded data removed]",
      "text/plain": [
       "<Figure size 269.064x117.056 with 1 Axes>"
      ]
     },
     "execution_count": 332,
     "metadata": {},
     "output_type": "execute_result"
    }
   ],
   "source": [
    "circuit_A_example1 = sampleCircuitA()\n",
    "circuit_A_example1.draw(output='mpl')"
   ]
  },
  {
   "cell_type": "code",
   "execution_count": 333,
   "id": "0265f3e3",
   "metadata": {},
   "outputs": [
    {
     "data": {
      "image/png": "[encoded data removed]",
      "text/plain": [
       "<Figure size 269.064x117.056 with 1 Axes>"
      ]
     },
     "execution_count": 333,
     "metadata": {},
     "output_type": "execute_result"
    }
   ],
   "source": [
    "circuit_A_example2 = sampleCircuitA()\n",
    "circuit_A_example2.draw(output='mpl')"
   ]
  },
  {
   "cell_type": "code",
   "execution_count": 334,
   "id": "4ee07a04",
   "metadata": {},
   "outputs": [
    {
     "data": {
      "text/plain": [
       "0.009839055699261787"
      ]
     },
     "execution_count": 334,
     "metadata": {},
     "output_type": "execute_result"
    }
   ],
   "source": [
    "state_fidelity(\n",
    "    getStatevector(circuit_A_example1),\n",
    "    getStatevector(circuit_A_example2)\n",
    ")"
   ]
  },
  {
   "cell_type": "code",
   "execution_count": 419,
   "id": "0b3b05c8",
   "metadata": {},
   "outputs": [],
   "source": [
    "unit = 1/75\n",
    "limits = []\n",
    "probabilities = np.array([0] * 75)\n",
    "for i in range(1, 76):\n",
    "    limits.append(unit * i)\n",
    "    \n",
    "for i in range(1000):\n",
    "    circuit_1 = sampleCircuitA()\n",
    "    circuit_2 = sampleCircuitA()\n",
    "    f = state_fidelity(\n",
    "        getStatevector(circuit_1),\n",
    "        getStatevector(circuit_2)\n",
    "    )\n",
    "    \n",
    "    for j in range(75):\n",
    "        if f <= limits[j]:\n",
    "            probabilities[j] += 1\n",
    "            break"
   ]
  },
  {
   "cell_type": "code",
   "execution_count": 420,
   "id": "6b4df056",
   "metadata": {},
   "outputs": [],
   "source": [
    "probabilities = [ p / 1000 for p in probabilities ]"
   ]
  },
  {
   "cell_type": "code",
   "execution_count": 421,
   "id": "3300d24f",
   "metadata": {},
   "outputs": [
    {
     "data": {
      "text/plain": [
       "0.2140082099427037"
      ]
     },
     "execution_count": 421,
     "metadata": {},
     "output_type": "execute_result"
    }
   ],
   "source": [
    "pHaar = np.array([1/75] * 75)\n",
    "KL(probabilities, pHaar)"
   ]
  },
  {
   "cell_type": "markdown",
   "id": "208825e4",
   "metadata": {},
   "source": [
    "### 1.2.3 circuit B"
   ]
  },
  {
   "cell_type": "code",
   "execution_count": 379,
   "id": "7dddf407",
   "metadata": {},
   "outputs": [],
   "source": [
    "def sampleCircuitB():\n",
    "    circuit_B = QuantumCircuit(1)\n",
    "    circuit_B.h(0)\n",
    "    circuit_B.rz(np.random.uniform(0, 2 * np.pi), 0)\n",
    "    circuit_B.rx(np.random.uniform(0, 2 * np.pi), 0)\n",
    "    \n",
    "    return circuit_B"
   ]
  },
  {
   "cell_type": "code",
   "execution_count": 425,
   "id": "ca3f2917",
   "metadata": {},
   "outputs": [],
   "source": [
    "unit = 1/75\n",
    "limits = []\n",
    "probabilities = np.array([0] * 75)\n",
    "for i in range(1, 76):\n",
    "    limits.append(unit * i)\n",
    "    \n",
    "for i in range(1000):\n",
    "    circuit_1 = sampleCircuitB()\n",
    "    circuit_2 = sampleCircuitB()\n",
    "    f = state_fidelity(\n",
    "        getStatevector(circuit_1),\n",
    "        getStatevector(circuit_2)\n",
    "    )\n",
    "    \n",
    "    for j in range(75):\n",
    "        if f <= limits[j]:\n",
    "            probabilities[j] += 1\n",
    "            break"
   ]
  },
  {
   "cell_type": "code",
   "execution_count": 426,
   "id": "b65880a6",
   "metadata": {},
   "outputs": [],
   "source": [
    "probabilities = [ p / 1000 for p in probabilities ]"
   ]
  },
  {
   "cell_type": "code",
   "execution_count": 427,
   "id": "44a95f2a",
   "metadata": {},
   "outputs": [
    {
     "data": {
      "text/plain": [
       "0.044405881846006474"
      ]
     },
     "execution_count": 427,
     "metadata": {},
     "output_type": "execute_result"
    }
   ],
   "source": [
    "pHaar = np.array([1/75] * 75)\n",
    "KL(probabilities, pHaar)"
   ]
  },
  {
   "cell_type": "markdown",
   "id": "c96f9a2f",
   "metadata": {},
   "source": [
    "### 1.2.4 VQC Circuit type 3"
   ]
  },
  {
   "cell_type": "code",
   "execution_count": 573,
   "id": "e472f286",
   "metadata": {},
   "outputs": [],
   "source": [
    "def sampleVQCCircuit3():\n",
    "    circuit_vqc = QuantumCircuit(4)\n",
    "    circuit_vqc.rx(np.random.uniform(0, 2 * np.pi), 0)\n",
    "    circuit_vqc.rx(np.random.uniform(0, 2 * np.pi), 1)\n",
    "    circuit_vqc.rx(np.random.uniform(0, 2 * np.pi), 2)\n",
    "    circuit_vqc.rx(np.random.uniform(0, 2 * np.pi), 3)\n",
    "    \n",
    "    circuit_vqc.rz(np.random.uniform(0, 2 * np.pi), 0)\n",
    "    circuit_vqc.rz(np.random.uniform(0, 2 * np.pi), 1)\n",
    "    circuit_vqc.rz(np.random.uniform(0, 2 * np.pi), 2)\n",
    "    circuit_vqc.rz(np.random.uniform(0, 2 * np.pi), 3)\n",
    "    \n",
    "    circuit_vqc.crz(np.random.uniform(0, 2 * np.pi), 3, 2)\n",
    "    circuit_vqc.crz(np.random.uniform(0, 2 * np.pi), 2, 1)\n",
    "    circuit_vqc.crz(np.random.uniform(0, 2 * np.pi), 1, 0)\n",
    "    \n",
    "    return circuit_vqc"
   ]
  },
  {
   "cell_type": "code",
   "execution_count": 574,
   "id": "b55aa19c",
   "metadata": {},
   "outputs": [
    {
     "data": {
      "image/png": "[encoded data removed]",
      "text/plain": [
       "<Figure size 538.33x367.889 with 1 Axes>"
      ]
     },
     "execution_count": 574,
     "metadata": {},
     "output_type": "execute_result"
    }
   ],
   "source": [
    "circuit_vqc_example = sampleVQCCircuit3()\n",
    "circuit_vqc_example.draw(output='mpl')"
   ]
  },
  {
   "cell_type": "code",
   "execution_count": 670,
   "id": "4777efc3",
   "metadata": {},
   "outputs": [],
   "source": [
    "unit = 1/75\n",
    "limits = []\n",
    "probabilities = np.array([0] * 75)\n",
    "for i in range(1, 76):\n",
    "    limits.append(unit * i)\n",
    "    \n",
    "for i in range(2500):\n",
    "    circuit_1 = sampleVQCCircuit3()\n",
    "    circuit_2 = sampleVQCCircuit3()\n",
    "    f = state_fidelity(\n",
    "        getStatevector(circuit_1),\n",
    "        getStatevector(circuit_2)\n",
    "    )\n",
    "    \n",
    "    for j in range(75):\n",
    "        if f <= limits[j]:\n",
    "            probabilities[j] += 1\n",
    "            break"
   ]
  },
  {
   "cell_type": "code",
   "execution_count": 671,
   "id": "9edc8bb7",
   "metadata": {},
   "outputs": [],
   "source": [
    "pHaar_vqc = [ P_haar(2 ** 4, f - (unit/2)) / 75 for f in limits]"
   ]
  },
  {
   "cell_type": "code",
   "execution_count": 672,
   "id": "eae15d6a",
   "metadata": {},
   "outputs": [],
   "source": [
    "probabilities = [ p / 2500 for p in probabilities ]"
   ]
  },
  {
   "cell_type": "code",
   "execution_count": 673,
   "id": "aaeb64e1",
   "metadata": {},
   "outputs": [
    {
     "data": {
      "text/plain": [
       "0.2345793665330672"
      ]
     },
     "execution_count": 673,
     "metadata": {},
     "output_type": "execute_result"
    }
   ],
   "source": [
    "KL(probabilities, pHaar_vqc)"
   ]
  },
  {
   "cell_type": "markdown",
   "id": "a6cc20b2",
   "metadata": {},
   "source": [
    "### 1.2.5 VQC circuit type 6"
   ]
  },
  {
   "cell_type": "code",
   "execution_count": 606,
   "id": "6f3aa170",
   "metadata": {},
   "outputs": [],
   "source": [
    "def sampleVQCCircuit6():\n",
    "    circuit_vqc = QuantumCircuit(4)\n",
    "    circuit_vqc.rx(np.random.uniform(0, 2 * np.pi), 0)\n",
    "    circuit_vqc.rx(np.random.uniform(0, 2 * np.pi), 1)\n",
    "    circuit_vqc.rx(np.random.uniform(0, 2 * np.pi), 2)\n",
    "    circuit_vqc.rx(np.random.uniform(0, 2 * np.pi), 3)\n",
    "    \n",
    "    circuit_vqc.rz(np.random.uniform(0, 2 * np.pi), 0)\n",
    "    circuit_vqc.rz(np.random.uniform(0, 2 * np.pi), 1)\n",
    "    circuit_vqc.rz(np.random.uniform(0, 2 * np.pi), 2)\n",
    "    circuit_vqc.rz(np.random.uniform(0, 2 * np.pi), 3)\n",
    "    \n",
    "    circuit_vqc.crx(np.random.uniform(0, 2 * np.pi), 3, 2)\n",
    "    circuit_vqc.crx(np.random.uniform(0, 2 * np.pi), 3, 1)\n",
    "    circuit_vqc.crx(np.random.uniform(0, 2 * np.pi), 3, 0)\n",
    "    \n",
    "    circuit_vqc.crx(np.random.uniform(0, 2 * np.pi), 2, 3)\n",
    "    circuit_vqc.crx(np.random.uniform(0, 2 * np.pi), 2, 1)\n",
    "    circuit_vqc.crx(np.random.uniform(0, 2 * np.pi), 2, 0)\n",
    "    \n",
    "    circuit_vqc.crx(np.random.uniform(0, 2 * np.pi), 1, 3)\n",
    "    circuit_vqc.crx(np.random.uniform(0, 2 * np.pi), 1, 2)\n",
    "    circuit_vqc.crx(np.random.uniform(0, 2 * np.pi), 1, 0)\n",
    "    \n",
    "    circuit_vqc.crx(np.random.uniform(0, 2 * np.pi), 0, 3)\n",
    "    circuit_vqc.crx(np.random.uniform(0, 2 * np.pi), 0, 2)\n",
    "    circuit_vqc.crx(np.random.uniform(0, 2 * np.pi), 0, 1)\n",
    "    \n",
    "    circuit_vqc.rx(np.random.uniform(0, 2 * np.pi), 0)\n",
    "    circuit_vqc.rx(np.random.uniform(0, 2 * np.pi), 1)\n",
    "    circuit_vqc.rx(np.random.uniform(0, 2 * np.pi), 2)\n",
    "    circuit_vqc.rx(np.random.uniform(0, 2 * np.pi), 3)\n",
    "    \n",
    "    circuit_vqc.rz(np.random.uniform(0, 2 * np.pi), 0)\n",
    "    circuit_vqc.rz(np.random.uniform(0, 2 * np.pi), 1)\n",
    "    circuit_vqc.rz(np.random.uniform(0, 2 * np.pi), 2)\n",
    "    circuit_vqc.rz(np.random.uniform(0, 2 * np.pi), 3)\n",
    "    \n",
    "    return circuit_vqc"
   ]
  },
  {
   "cell_type": "code",
   "execution_count": 628,
   "id": "af55dff3",
   "metadata": {},
   "outputs": [
    {
     "data": {
      "image/png": "[encoded data removed]",
      "text/plain": [
       "<Figure size 1458.05x367.889 with 1 Axes>"
      ]
     },
     "execution_count": 628,
     "metadata": {},
     "output_type": "execute_result"
    }
   ],
   "source": [
    "circuit_vqc_example = sampleVQCCircuit6()\n",
    "circuit_vqc_example.draw(output='mpl')"
   ]
  },
  {
   "cell_type": "code",
   "execution_count": 674,
   "id": "fc579f7e",
   "metadata": {},
   "outputs": [],
   "source": [
    "unit = 1/75\n",
    "limits = []\n",
    "probabilities = np.array([0] * 75)\n",
    "for i in range(1, 76):\n",
    "    limits.append(unit * i)\n",
    "    \n",
    "for i in range(2500):\n",
    "    circuit_1 = sampleVQCCircuit6().compose(sampleVQCCircuit6())\n",
    "    circuit_2 = sampleVQCCircuit6().compose(sampleVQCCircuit6())\n",
    "    f = state_fidelity(\n",
    "        getStatevector(circuit_1),\n",
    "        getStatevector(circuit_2)\n",
    "    )\n",
    "    \n",
    "    for j in range(75):\n",
    "        if f <= limits[j]:\n",
    "            probabilities[j] += 1\n",
    "            break"
   ]
  },
  {
   "cell_type": "code",
   "execution_count": 675,
   "id": "37a5167d",
   "metadata": {},
   "outputs": [],
   "source": [
    "pHaar_vqc = [ P_haar(2 ** 4, f - (unit/2)) / 75 for f in limits]"
   ]
  },
  {
   "cell_type": "code",
   "execution_count": 676,
   "id": "e69d3b91",
   "metadata": {},
   "outputs": [],
   "source": [
    "probabilities = [ p / 2500 for p in probabilities ]"
   ]
  },
  {
   "cell_type": "code",
   "execution_count": 677,
   "id": "57556f9d",
   "metadata": {},
   "outputs": [
    {
     "data": {
      "text/plain": [
       "0.011677241272621668"
      ]
     },
     "execution_count": 677,
     "metadata": {},
     "output_type": "execute_result"
    }
   ],
   "source": [
    "KL(probabilities, pHaar_vqc)"
   ]
  },
  {
   "cell_type": "markdown",
   "id": "e7000ae5",
   "metadata": {},
   "source": [
    "### 1.2.5 VQC circuit type 4"
   ]
  },
  {
   "cell_type": "code",
   "execution_count": 687,
   "id": "81818983",
   "metadata": {},
   "outputs": [],
   "source": [
    "def sampleVQCCircuit4():\n",
    "    circuit_vqc = QuantumCircuit(4)\n",
    "    circuit_vqc.rx(np.random.uniform(0, 2 * np.pi), 0)\n",
    "    circuit_vqc.rx(np.random.uniform(0, 2 * np.pi), 1)\n",
    "    circuit_vqc.rx(np.random.uniform(0, 2 * np.pi), 2)\n",
    "    circuit_vqc.rx(np.random.uniform(0, 2 * np.pi), 3)\n",
    "    \n",
    "    circuit_vqc.rz(np.random.uniform(0, 2 * np.pi), 0)\n",
    "    circuit_vqc.rz(np.random.uniform(0, 2 * np.pi), 1)\n",
    "    circuit_vqc.rz(np.random.uniform(0, 2 * np.pi), 2)\n",
    "    circuit_vqc.rz(np.random.uniform(0, 2 * np.pi), 3)\n",
    "    \n",
    "    circuit_vqc.crx(np.random.uniform(0, 2 * np.pi), 3, 2)\n",
    "    circuit_vqc.crx(np.random.uniform(0, 2 * np.pi), 2, 1)\n",
    "    circuit_vqc.crx(np.random.uniform(0, 2 * np.pi), 1, 0)\n",
    "    \n",
    "    return circuit_vqc"
   ]
  },
  {
   "cell_type": "code",
   "execution_count": 689,
   "id": "01c045b4",
   "metadata": {},
   "outputs": [
    {
     "data": {
      "image/png": "[encoded data removed]",
      "text/plain": [
       "<Figure size 538.33x367.889 with 1 Axes>"
      ]
     },
     "execution_count": 689,
     "metadata": {},
     "output_type": "execute_result"
    }
   ],
   "source": [
    "circuit_vqc_example = sampleVQCCircuit4()\n",
    "circuit_vqc_example.draw(output='mpl')"
   ]
  },
  {
   "cell_type": "code",
   "execution_count": 688,
   "id": "66c4f95a",
   "metadata": {},
   "outputs": [],
   "source": [
    "unit = 1/75\n",
    "limits = []\n",
    "probabilities = np.array([0] * 75)\n",
    "for i in range(1, 76):\n",
    "    limits.append(unit * i)\n",
    "    \n",
    "for i in range(2500):\n",
    "    circuit_1 = sampleVQCCircuit4()\n",
    "    circuit_2 = sampleVQCCircuit4()\n",
    "    f = state_fidelity(\n",
    "        getStatevector(circuit_1),\n",
    "        getStatevector(circuit_2)\n",
    "    )\n",
    "    \n",
    "    for j in range(75):\n",
    "        if f <= limits[j]:\n",
    "            probabilities[j] += 1\n",
    "            break"
   ]
  },
  {
   "cell_type": "code",
   "execution_count": 690,
   "id": "352f3e78",
   "metadata": {},
   "outputs": [],
   "source": [
    "pHaar_vqc = [ P_haar(2 ** 4, f - (unit/2)) / 75 for f in limits]"
   ]
  },
  {
   "cell_type": "code",
   "execution_count": 691,
   "id": "5bd5f6cc",
   "metadata": {},
   "outputs": [],
   "source": [
    "probabilities = [ p / 2500 for p in probabilities ]"
   ]
  },
  {
   "cell_type": "code",
   "execution_count": 692,
   "id": "3c4d2337",
   "metadata": {},
   "outputs": [
    {
     "data": {
      "text/plain": [
       "0.1285636391283769"
      ]
     },
     "execution_count": 692,
     "metadata": {},
     "output_type": "execute_result"
    }
   ],
   "source": [
    "KL(probabilities, pHaar_vqc)"
   ]
  },
  {
   "cell_type": "markdown",
   "id": "e728bacc",
   "metadata": {},
   "source": [
    "# 2. Entanglement capability"
   ]
  },
  {
   "cell_type": "markdown",
   "id": "28e3262d",
   "metadata": {},
   "source": [
    "## 2.1 VQC circuit type 3"
   ]
  },
  {
   "cell_type": "code",
   "execution_count": 648,
   "id": "4380ab1f",
   "metadata": {},
   "outputs": [
    {
     "data": {
      "image/png": "[encoded data removed]",
      "text/plain": [
       "<Figure size 538.33x367.889 with 1 Axes>"
      ]
     },
     "execution_count": 648,
     "metadata": {},
     "output_type": "execute_result"
    }
   ],
   "source": [
    "circuit_vqc3 = sampleVQCCircuit3()\n",
    "circuit_vqc3.draw(output='mpl')"
   ]
  },
  {
   "cell_type": "code",
   "execution_count": 649,
   "id": "6a752e63",
   "metadata": {},
   "outputs": [],
   "source": [
    "matrix = getDensityMatrix(circuit_vqc3)"
   ]
  },
  {
   "cell_type": "code",
   "execution_count": 650,
   "id": "2e1e5e83",
   "metadata": {},
   "outputs": [
    {
     "name": "stdout",
     "output_type": "stream",
     "text": [
      "DensityMatrix([[ 0.14134592+5.42101086e-18j, -0.16306779-2.48105477e-01j],\n",
      "               [-0.16306779+2.48105477e-01j,  0.85865408-5.20417043e-18j]],\n",
      "              dims=(2,))\n"
     ]
    }
   ],
   "source": [
    "partial_trace(matrix, [1, 2, 3])"
   ]
  },
  {
   "cell_type": "code",
   "execution_count": 651,
   "id": "4b06437f",
   "metadata": {},
   "outputs": [],
   "source": [
    "rou0 = partial_trace(matrix, [1, 2, 3])\n",
    "rou1 = partial_trace(matrix, [0, 2, 3])\n",
    "rou2 = partial_trace(matrix, [0, 1, 3])\n",
    "rou3 = partial_trace(matrix, [0, 1, 2])"
   ]
  },
  {
   "cell_type": "code",
   "execution_count": 652,
   "id": "883abac1",
   "metadata": {},
   "outputs": [],
   "source": [
    "tr0 = np.trace(rou0.data @ rou0.data)\n",
    "tr1 = np.trace(rou1.data @ rou1.data)\n",
    "tr2 = np.trace(rou2.data @ rou2.data)\n",
    "tr3 = np.trace(rou3.data @ rou3.data)"
   ]
  },
  {
   "cell_type": "code",
   "execution_count": 653,
   "id": "20418a11",
   "metadata": {},
   "outputs": [
    {
     "data": {
      "text/plain": [
       "3.445655127812972"
      ]
     },
     "execution_count": 653,
     "metadata": {},
     "output_type": "execute_result"
    }
   ],
   "source": [
    "tr = tr0 + tr1 + tr2 + tr3\n",
    "np.abs(tr)"
   ]
  },
  {
   "cell_type": "code",
   "execution_count": 654,
   "id": "be412007",
   "metadata": {},
   "outputs": [
    {
     "data": {
      "text/plain": [
       "0.861413781953243"
      ]
     },
     "execution_count": 654,
     "metadata": {},
     "output_type": "execute_result"
    }
   ],
   "source": [
    "np.abs(tr) / 4"
   ]
  },
  {
   "cell_type": "code",
   "execution_count": 655,
   "id": "73c1dca6",
   "metadata": {},
   "outputs": [
    {
     "data": {
      "text/plain": [
       "0.13858621804675697"
      ]
     },
     "execution_count": 655,
     "metadata": {},
     "output_type": "execute_result"
    }
   ],
   "source": [
    "1 - np.abs(tr) / 4"
   ]
  },
  {
   "cell_type": "code",
   "execution_count": 656,
   "id": "95582b1d",
   "metadata": {},
   "outputs": [
    {
     "data": {
      "text/plain": [
       "0.27717243609351394"
      ]
     },
     "execution_count": 656,
     "metadata": {},
     "output_type": "execute_result"
    }
   ],
   "source": [
    "2 * (1 - np.abs(tr) / 4)"
   ]
  },
  {
   "cell_type": "code",
   "execution_count": 683,
   "id": "53ceee99",
   "metadata": {},
   "outputs": [],
   "source": [
    "def Q(circuit):\n",
    "    matrix = getDensityMatrix(circuit)\n",
    "    \n",
    "    rou0 = partial_trace(matrix, [1, 2, 3])\n",
    "    rou1 = partial_trace(matrix, [0, 2, 3])\n",
    "    rou2 = partial_trace(matrix, [0, 1, 3])\n",
    "    rou3 = partial_trace(matrix, [0, 1, 2])\n",
    "    \n",
    "    tr0 = np.trace(rou0.data @ rou0.data)\n",
    "    tr1 = np.trace(rou1.data @ rou1.data)\n",
    "    tr2 = np.trace(rou2.data @ rou2.data)\n",
    "    tr3 = np.trace(rou3.data @ rou3.data)\n",
    "    \n",
    "    tr = tr0 + tr1 + tr2 + tr3\n",
    "    \n",
    "    return 2 * (1 - np.abs(tr) / 4)"
   ]
  },
  {
   "cell_type": "code",
   "execution_count": 679,
   "id": "44070abf",
   "metadata": {},
   "outputs": [
    {
     "data": {
      "text/plain": [
       "0.27717243609351394"
      ]
     },
     "execution_count": 679,
     "metadata": {},
     "output_type": "execute_result"
    }
   ],
   "source": [
    "Q3(circuit_vqc3)"
   ]
  },
  {
   "cell_type": "code",
   "execution_count": 684,
   "id": "bb8f69d7",
   "metadata": {},
   "outputs": [],
   "source": [
    "def Ent(sampler):\n",
    "    ent = 0\n",
    "    for i in range(5000):\n",
    "        ent += Q(sampler())\n",
    "    return ent / 5000"
   ]
  },
  {
   "cell_type": "code",
   "execution_count": 685,
   "id": "192f4d39",
   "metadata": {},
   "outputs": [
    {
     "data": {
      "text/plain": [
       "0.16736949937979317"
      ]
     },
     "execution_count": 685,
     "metadata": {},
     "output_type": "execute_result"
    }
   ],
   "source": [
    "Ent(sampleVQCCircuit3)"
   ]
  },
  {
   "cell_type": "code",
   "execution_count": 686,
   "id": "fcfac7ad",
   "metadata": {},
   "outputs": [
    {
     "data": {
      "text/plain": [
       "0.6872311429193363"
      ]
     },
     "execution_count": 686,
     "metadata": {},
     "output_type": "execute_result"
    }
   ],
   "source": [
    "Ent(sampleVQCCircuit6)"
   ]
  },
  {
   "cell_type": "code",
   "execution_count": 693,
   "id": "852cae53",
   "metadata": {},
   "outputs": [
    {
     "data": {
      "text/plain": [
       "0.31307926397581776"
      ]
     },
     "execution_count": 693,
     "metadata": {},
     "output_type": "execute_result"
    }
   ],
   "source": [
    "Ent(sampleVQCCircuit4)"
   ]
  },
  {
   "cell_type": "code",
   "execution_count": null,
   "id": "02e01262",
   "metadata": {},
   "outputs": [],
   "source": []
  }
 ],
 "metadata": {
  "kernelspec": {
   "display_name": "Python 3 (ipykernel)",
   "language": "python",
   "name": "python3"
  },
  "language_info": {
   "codemirror_mode": {
    "name": "ipython",
    "version": 3
   },
   "file_extension": ".py",
   "mimetype": "text/x-python",
   "name": "python",
   "nbconvert_exporter": "python",
   "pygments_lexer": "ipython3",
   "version": "3.9.13"
  }
 },
 "nbformat": 4,
 "nbformat_minor": 5
}
