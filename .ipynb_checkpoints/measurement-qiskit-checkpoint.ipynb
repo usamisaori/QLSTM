{
 "cells": [
  {
   "cell_type": "code",
   "execution_count": 3,
   "id": "820c5fca",
   "metadata": {},
   "outputs": [],
   "source": [
    "import numpy as np\n",
    "import qiskit\n",
    "from qiskit import QuantumCircuit\n",
    "from qiskit.quantum_info import partial_trace"
   ]
  },
  {
   "cell_type": "code",
   "execution_count": 2,
   "id": "ff3c6d13",
   "metadata": {},
   "outputs": [],
   "source": [
    "from qiskit.quantum_info import DensityMatrix, Statevector\n",
    "\n",
    "def getDensityMatrix(circuit):\n",
    "    return DensityMatrix(circuit).data\n",
    "\n",
    "def getStatevector(circuit):\n",
    "    return Statevector(circuit).data"
   ]
  },
  {
   "cell_type": "code",
   "execution_count": 36,
   "id": "0952d3b7",
   "metadata": {},
   "outputs": [],
   "source": [
    "from functools import reduce\n",
    "\n",
    "Dag = lambda matrix: matrix.conj().T\n",
    "Kron = lambda *matrices: reduce(np.kron, matrices)"
   ]
  },
  {
   "cell_type": "markdown",
   "id": "b189f0b1",
   "metadata": {},
   "source": [
    "# 1. Circuit simulation"
   ]
  },
  {
   "cell_type": "code",
   "execution_count": 34,
   "id": "e523b016",
   "metadata": {},
   "outputs": [
    {
     "data": {
      "text/plain": [
       "<qiskit.circuit.instructionset.InstructionSet at 0x26cefcf43a0>"
      ]
     },
     "execution_count": 34,
     "metadata": {},
     "output_type": "execute_result"
    }
   ],
   "source": [
    "circuit = QuantumCircuit(2)\n",
    "\n",
    "circuit.h(0)\n",
    "circuit.h(1)\n",
    "\n",
    "circuit.ry(0.3 * np.pi/2, 0)\n",
    "circuit.ry(0.4 * np.pi/2, 1)\n",
    "\n",
    "circuit.cx(0, 1)"
   ]
  },
  {
   "cell_type": "code",
   "execution_count": 35,
   "id": "8c6b506f",
   "metadata": {},
   "outputs": [
    {
     "data": {
      "image/png": "[encoded data removed]",
      "text/plain": [
       "<Figure size 370.906x200.667 with 1 Axes>"
      ]
     },
     "execution_count": 35,
     "metadata": {},
     "output_type": "execute_result"
    }
   ],
   "source": [
    "circuit.draw(output='mpl')"
   ]
  },
  {
   "cell_type": "code",
   "execution_count": 9,
   "id": "666ac62d",
   "metadata": {},
   "outputs": [],
   "source": [
    "Z = np.matrix([[1,0],[0,-1]])"
   ]
  },
  {
   "cell_type": "code",
   "execution_count": 37,
   "id": "6e89711e",
   "metadata": {},
   "outputs": [
    {
     "data": {
      "text/plain": [
       "array([[0.05626829+0.j, 0.18020986+0.j, 0.11043274+0.j, 0.09182151+0.j],\n",
       "       [0.18020986+0.j, 0.57715617+0.j, 0.35368175+0.j, 0.29407576+0.j],\n",
       "       [0.11043274+0.j, 0.35368175+0.j, 0.21673646+0.j, 0.18020986+0.j],\n",
       "       [0.09182151+0.j, 0.29407576+0.j, 0.18020986+0.j, 0.14983908+0.j]])"
      ]
     },
     "execution_count": 37,
     "metadata": {},
     "output_type": "execute_result"
    }
   ],
   "source": [
    "matrix = getDensityMatrix(circuit)\n",
    "matrix"
   ]
  },
  {
   "cell_type": "code",
   "execution_count": 30,
   "id": "8192cd76",
   "metadata": {},
   "outputs": [],
   "source": [
    "q0_state = partial_trace(matrix, [1])"
   ]
  },
  {
   "cell_type": "code",
   "execution_count": 31,
   "id": "f5bbc439",
   "metadata": {},
   "outputs": [
    {
     "data": {
      "text/plain": [
       "(-0.4539904997395462+0j)"
      ]
     },
     "execution_count": 31,
     "metadata": {},
     "output_type": "execute_result"
    }
   ],
   "source": [
    "np.trace(Dag(q0_state.data) @ Z @ q0_state.data)"
   ]
  },
  {
   "cell_type": "code",
   "execution_count": 32,
   "id": "e2b9e399",
   "metadata": {},
   "outputs": [],
   "source": [
    "q1_state = partial_trace(matrix, [0])"
   ]
  },
  {
   "cell_type": "code",
   "execution_count": 33,
   "id": "b77abe57",
   "metadata": {},
   "outputs": [
    {
     "data": {
      "text/plain": [
       "(0.2668489204277951+0j)"
      ]
     },
     "execution_count": 33,
     "metadata": {},
     "output_type": "execute_result"
    }
   ],
   "source": [
    "np.trace(Dag(q1_state.data) @ Z @ q1_state.data)"
   ]
  },
  {
   "cell_type": "markdown",
   "id": "f0ccc434",
   "metadata": {},
   "source": [
    "# 2. matrix computaion"
   ]
  },
  {
   "cell_type": "code",
   "execution_count": null,
   "id": "f90bb2d1",
   "metadata": {},
   "outputs": [],
   "source": []
  }
 ],
 "metadata": {
  "kernelspec": {
   "display_name": "Python 3 (ipykernel)",
   "language": "python",
   "name": "python3"
  },
  "language_info": {
   "codemirror_mode": {
    "name": "ipython",
    "version": 3
   },
   "file_extension": ".py",
   "mimetype": "text/x-python",
   "name": "python",
   "nbconvert_exporter": "python",
   "pygments_lexer": "ipython3",
   "version": "3.9.13"
  }
 },
 "nbformat": 4,
 "nbformat_minor": 5
}
