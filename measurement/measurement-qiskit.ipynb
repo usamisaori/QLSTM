{
 "cells": [
  {
   "cell_type": "code",
   "execution_count": 1,
   "id": "7fb6a6da",
   "metadata": {},
   "outputs": [],
   "source": [
    "import numpy as np\n",
    "import qiskit\n",
    "from qiskit import QuantumCircuit\n",
    "from qiskit.quantum_info import partial_trace"
   ]
  },
  {
   "cell_type": "code",
   "execution_count": 2,
   "id": "fcece752",
   "metadata": {},
   "outputs": [],
   "source": [
    "from qiskit.quantum_info import DensityMatrix, Statevector\n",
    "\n",
    "def getDensityMatrix(circuit):\n",
    "    return DensityMatrix(circuit).data\n",
    "\n",
    "def getStatevector(circuit):\n",
    "    return Statevector(circuit).data"
   ]
  },
  {
   "cell_type": "code",
   "execution_count": 3,
   "id": "9cf67627",
   "metadata": {},
   "outputs": [],
   "source": [
    "from functools import reduce\n",
    "\n",
    "Dag = lambda matrix: matrix.conj().T\n",
    "Kron = lambda *matrices: reduce(np.kron, matrices)"
   ]
  },
  {
   "cell_type": "markdown",
   "id": "20dbfb70",
   "metadata": {},
   "source": [
    "# 1. Circuit simulation"
   ]
  },
  {
   "cell_type": "code",
   "execution_count": 4,
   "id": "c28c156e",
   "metadata": {},
   "outputs": [
    {
     "data": {
      "text/plain": [
       "<qiskit.circuit.instructionset.InstructionSet at 0x2184bf2a100>"
      ]
     },
     "execution_count": 4,
     "metadata": {},
     "output_type": "execute_result"
    }
   ],
   "source": [
    "circuit = QuantumCircuit(2)\n",
    "\n",
    "circuit.h(0)\n",
    "circuit.h(1)\n",
    "\n",
    "circuit.ry(0.3 * np.pi/2, 0)\n",
    "circuit.ry(0.4 * np.pi/2, 1)\n",
    "\n",
    "circuit.cx(0, 1)"
   ]
  },
  {
   "cell_type": "code",
   "execution_count": 5,
   "id": "cad862f0",
   "metadata": {},
   "outputs": [
    {
     "data": {
      "image/png": "[encoded data removed]",
      "text/plain": [
       "<Figure size 370.906x200.667 with 1 Axes>"
      ]
     },
     "execution_count": 5,
     "metadata": {},
     "output_type": "execute_result"
    }
   ],
   "source": [
    "circuit.draw(output='mpl')"
   ]
  },
  {
   "cell_type": "code",
   "execution_count": 6,
   "id": "256390b5",
   "metadata": {},
   "outputs": [],
   "source": [
    "Z = np.matrix([[1,0],[0,-1]])"
   ]
  },
  {
   "cell_type": "code",
   "execution_count": 7,
   "id": "49c5e67e",
   "metadata": {},
   "outputs": [
    {
     "data": {
      "text/plain": [
       "array([[0.05626829+0.j, 0.18020986+0.j, 0.11043274+0.j, 0.09182151+0.j],\n",
       "       [0.18020986+0.j, 0.57715617+0.j, 0.35368175+0.j, 0.29407576+0.j],\n",
       "       [0.11043274+0.j, 0.35368175+0.j, 0.21673646+0.j, 0.18020986+0.j],\n",
       "       [0.09182151+0.j, 0.29407576+0.j, 0.18020986+0.j, 0.14983908+0.j]])"
      ]
     },
     "execution_count": 7,
     "metadata": {},
     "output_type": "execute_result"
    }
   ],
   "source": [
    "matrix = getDensityMatrix(circuit)\n",
    "matrix"
   ]
  },
  {
   "cell_type": "code",
   "execution_count": 8,
   "id": "bf0a2ebb",
   "metadata": {},
   "outputs": [],
   "source": [
    "q0_state = partial_trace(matrix, [1])"
   ]
  },
  {
   "cell_type": "code",
   "execution_count": 9,
   "id": "d25c08eb",
   "metadata": {},
   "outputs": [
    {
     "data": {
      "text/plain": [
       "(-0.45399049973954647+0j)"
      ]
     },
     "execution_count": 9,
     "metadata": {},
     "output_type": "execute_result"
    }
   ],
   "source": [
    "np.trace(q0_state.data @ Z)"
   ]
  },
  {
   "cell_type": "code",
   "execution_count": 10,
   "id": "61f02cd1",
   "metadata": {},
   "outputs": [],
   "source": [
    "q1_state = partial_trace(matrix, [0])"
   ]
  },
  {
   "cell_type": "code",
   "execution_count": 11,
   "id": "ad07ad5f",
   "metadata": {},
   "outputs": [
    {
     "data": {
      "text/plain": [
       "(0.2668489204277953+0j)"
      ]
     },
     "execution_count": 11,
     "metadata": {},
     "output_type": "execute_result"
    }
   ],
   "source": [
    "np.trace(q1_state.data @ Z)"
   ]
  },
  {
   "cell_type": "markdown",
   "id": "12318bf1",
   "metadata": {},
   "source": [
    "# 2. matrix computaion"
   ]
  },
  {
   "cell_type": "code",
   "execution_count": 12,
   "id": "c8ae9ac6",
   "metadata": {},
   "outputs": [],
   "source": [
    "s0 = np.array([1, 0])\n",
    "s1 = np.array([0, 1])"
   ]
  },
  {
   "cell_type": "code",
   "execution_count": 13,
   "id": "8dfeb67a",
   "metadata": {},
   "outputs": [],
   "source": [
    "H = np.matrix([[1, 1], [1, -1]]) / np.sqrt(2)"
   ]
  },
  {
   "cell_type": "code",
   "execution_count": 14,
   "id": "19e2c3e7",
   "metadata": {},
   "outputs": [],
   "source": [
    "I = np.eye(2)"
   ]
  },
  {
   "cell_type": "code",
   "execution_count": 15,
   "id": "e9d31176",
   "metadata": {},
   "outputs": [],
   "source": [
    "def Ry(angle):\n",
    "    matrix = np.matrix([\n",
    "        [np.cos(angle/2), -np.sin(angle/2)],\n",
    "        [np.sin(angle/2), np.cos(angle/2)]\n",
    "    ])\n",
    "    return matrix"
   ]
  },
  {
   "cell_type": "code",
   "execution_count": 16,
   "id": "5404c64d",
   "metadata": {},
   "outputs": [],
   "source": [
    "Ry0 = Ry(0.3 * np.pi/2)"
   ]
  },
  {
   "cell_type": "code",
   "execution_count": 17,
   "id": "7de1e763",
   "metadata": {},
   "outputs": [],
   "source": [
    "Ry1 = Ry(0.4 * np.pi/2)"
   ]
  },
  {
   "cell_type": "code",
   "execution_count": 18,
   "id": "633ca337",
   "metadata": {},
   "outputs": [],
   "source": [
    "CNOT = np.matrix([\n",
    "    [1,0,0,0],\n",
    "    [0,1,0,0],\n",
    "    [0,0,0,1],\n",
    "    [0,0,1,0]\n",
    "])"
   ]
  },
  {
   "cell_type": "code",
   "execution_count": 19,
   "id": "dccefa27",
   "metadata": {},
   "outputs": [],
   "source": [
    "init = Kron(s0, s0)"
   ]
  },
  {
   "cell_type": "code",
   "execution_count": 20,
   "id": "f34d27f9",
   "metadata": {},
   "outputs": [
    {
     "data": {
      "text/plain": [
       "array([1, 0, 0, 0])"
      ]
     },
     "execution_count": 20,
     "metadata": {},
     "output_type": "execute_result"
    }
   ],
   "source": [
    "init"
   ]
  },
  {
   "cell_type": "code",
   "execution_count": 21,
   "id": "6f7ea3e7",
   "metadata": {},
   "outputs": [
    {
     "data": {
      "text/plain": [
       "matrix([[0.5],\n",
       "        [0.5],\n",
       "        [0.5],\n",
       "        [0.5]])"
      ]
     },
     "execution_count": 21,
     "metadata": {},
     "output_type": "execute_result"
    }
   ],
   "source": [
    "after_H = Kron(H, I) @ Kron(I, H) @ init.reshape(4, 1)\n",
    "after_H"
   ]
  },
  {
   "cell_type": "code",
   "execution_count": 22,
   "id": "68b8a6cb",
   "metadata": {},
   "outputs": [
    {
     "data": {
      "text/plain": [
       "matrix([[0.23720938],\n",
       "        [0.46554963],\n",
       "        [0.38709053],\n",
       "        [0.75970795]])"
      ]
     },
     "execution_count": 22,
     "metadata": {},
     "output_type": "execute_result"
    }
   ],
   "source": [
    "after_Ry = Kron(Ry0, I) @ Kron(I, Ry1) @ after_H\n",
    "after_Ry"
   ]
  },
  {
   "cell_type": "code",
   "execution_count": 23,
   "id": "29a32967",
   "metadata": {},
   "outputs": [
    {
     "data": {
      "text/plain": [
       "matrix([[0.23720938],\n",
       "        [0.46554963],\n",
       "        [0.75970795],\n",
       "        [0.38709053]])"
      ]
     },
     "execution_count": 23,
     "metadata": {},
     "output_type": "execute_result"
    }
   ],
   "source": [
    "after_CNOT = CNOT @ after_Ry\n",
    "after_CNOT"
   ]
  },
  {
   "cell_type": "code",
   "execution_count": 24,
   "id": "17d1f8de",
   "metadata": {},
   "outputs": [
    {
     "data": {
      "text/plain": [
       "array([0.23720938+0.j, 0.75970795+0.j, 0.46554963+0.j, 0.38709053+0.j])"
      ]
     },
     "execution_count": 24,
     "metadata": {},
     "output_type": "execute_result"
    }
   ],
   "source": [
    "getStatevector(circuit)"
   ]
  },
  {
   "cell_type": "code",
   "execution_count": 25,
   "id": "2942360f",
   "metadata": {},
   "outputs": [
    {
     "name": "stdout",
     "output_type": "stream",
     "text": [
      "DensityMatrix([[0.27300475+0.j, 0.36041971+0.j],\n",
      "               [0.36041971+0.j, 0.72699525+0.j]],\n",
      "              dims=(2,))\n"
     ]
    }
   ],
   "source": [
    "partial_trace(after_CNOT, [0])"
   ]
  },
  {
   "cell_type": "markdown",
   "id": "e10a9d2e",
   "metadata": {},
   "source": [
    "# 3. single qubit test"
   ]
  },
  {
   "cell_type": "code",
   "execution_count": 150,
   "id": "7cda0b39",
   "metadata": {},
   "outputs": [
    {
     "name": "stderr",
     "output_type": "stream",
     "text": [
      "C:\\Users\\Lee\\AppData\\Local\\Temp\\ipykernel_17096\\1648811612.py:6: DeprecationWarning: The QuantumCircuit.u2 method is deprecated as of 0.16.0. It will be removed no earlier than 3 months after the release date. You can use the general 1-qubit gate QuantumCircuit.u instead: u2(φ,λ) = u(π/2, φ, λ). Alternatively, you can decompose it interms of QuantumCircuit.p and QuantumCircuit.sx: u2(φ,λ) = p(π/2+φ) sx p(λ-π/2) (1 pulse on hardware).\n",
      "  circuit.u2(np.pi/2, 0, 0)\n"
     ]
    },
    {
     "data": {
      "image/png": "[encoded data removed]",
      "text/plain": [
       "<Figure size 352.675x117.056 with 1 Axes>"
      ]
     },
     "execution_count": 150,
     "metadata": {},
     "output_type": "execute_result"
    }
   ],
   "source": [
    "circuit = QuantumCircuit(1)\n",
    "\n",
    "circuit.h(0)\n",
    "circuit.ry(np.pi/3, 0)\n",
    "\n",
    "circuit.u2(np.pi/2, 0, 0)\n",
    "\n",
    "circuit.draw(output='mpl')"
   ]
  },
  {
   "cell_type": "code",
   "execution_count": 151,
   "id": "e0fa3efd",
   "metadata": {},
   "outputs": [
    {
     "data": {
      "text/plain": [
       "array([[ 2.5000000e-01+0.j       , -2.6514381e-17+0.4330127j],\n",
       "       [-2.6514381e-17-0.4330127j,  7.5000000e-01+0.j       ]])"
      ]
     },
     "execution_count": 151,
     "metadata": {},
     "output_type": "execute_result"
    }
   ],
   "source": [
    "matrix = getDensityMatrix(circuit)\n",
    "matrix"
   ]
  },
  {
   "cell_type": "code",
   "execution_count": 152,
   "id": "6234e173",
   "metadata": {},
   "outputs": [
    {
     "data": {
      "text/plain": [
       "(-0.4999999999999999+0j)"
      ]
     },
     "execution_count": 152,
     "metadata": {},
     "output_type": "execute_result"
    }
   ],
   "source": [
    "np.trace(matrix @ Z)"
   ]
  },
  {
   "cell_type": "code",
   "execution_count": 153,
   "id": "b5c2b3ca",
   "metadata": {},
   "outputs": [
    {
     "data": {
      "text/plain": [
       "matrix([[0.70710678, 0.70710678]])"
      ]
     },
     "execution_count": 153,
     "metadata": {},
     "output_type": "execute_result"
    }
   ],
   "source": [
    "H @ s0"
   ]
  },
  {
   "cell_type": "code",
   "execution_count": 154,
   "id": "beee6bd0",
   "metadata": {},
   "outputs": [],
   "source": [
    "Ry = np.matrix([\n",
    "    [np.cos(np.pi/6), -np.sin(np.pi/6)],\n",
    "    [np.sin(np.pi/6), np.cos(np.pi/6)]\n",
    "])"
   ]
  },
  {
   "cell_type": "code",
   "execution_count": 155,
   "id": "1e75fb69",
   "metadata": {},
   "outputs": [
    {
     "data": {
      "text/plain": [
       "matrix([[0.25881905, 0.96592583]])"
      ]
     },
     "execution_count": 155,
     "metadata": {},
     "output_type": "execute_result"
    }
   ],
   "source": [
    "Ry @ H @ s0"
   ]
  },
  {
   "cell_type": "code",
   "execution_count": 162,
   "id": "89303fee",
   "metadata": {},
   "outputs": [],
   "source": [
    "U2 = np.matrix([\n",
    "    [1, -1],\n",
    "    [-1j, -1j]\n",
    "]) / np.sqrt(2)"
   ]
  },
  {
   "cell_type": "code",
   "execution_count": 163,
   "id": "dc5c4138",
   "metadata": {},
   "outputs": [
    {
     "data": {
      "text/plain": [
       "matrix([[-0.5+0.j       ,  0. -0.8660254j]])"
      ]
     },
     "execution_count": 163,
     "metadata": {},
     "output_type": "execute_result"
    }
   ],
   "source": [
    "result = U2 @ Ry @ H @ s0\n",
    "result"
   ]
  },
  {
   "cell_type": "code",
   "execution_count": 164,
   "id": "b406f42b",
   "metadata": {},
   "outputs": [
    {
     "data": {
      "text/plain": [
       "matrix([[-0.5+0.j]])"
      ]
     },
     "execution_count": 164,
     "metadata": {},
     "output_type": "execute_result"
    }
   ],
   "source": [
    "result @ Z @ Dag(result)"
   ]
  },
  {
   "cell_type": "code",
   "execution_count": null,
   "id": "2fc3ec94",
   "metadata": {},
   "outputs": [],
   "source": []
  }
 ],
 "metadata": {
  "kernelspec": {
   "display_name": "Python 3 (ipykernel)",
   "language": "python",
   "name": "python3"
  },
  "language_info": {
   "codemirror_mode": {
    "name": "ipython",
    "version": 3
   },
   "file_extension": ".py",
   "mimetype": "text/x-python",
   "name": "python",
   "nbconvert_exporter": "python",
   "pygments_lexer": "ipython3",
   "version": "3.8.13"
  }
 },
 "nbformat": 4,
 "nbformat_minor": 5
}
