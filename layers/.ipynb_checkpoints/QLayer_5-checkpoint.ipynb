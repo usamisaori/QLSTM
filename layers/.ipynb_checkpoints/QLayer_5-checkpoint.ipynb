{
 "cells": [
  {
   "cell_type": "code",
   "execution_count": 1,
   "id": "6581af8d",
   "metadata": {},
   "outputs": [],
   "source": [
    "import math\n",
    "import time\n",
    "import pickle\n",
    "import pandas as pd\n",
    "import numpy as np"
   ]
  },
  {
   "cell_type": "code",
   "execution_count": 2,
   "id": "94243045",
   "metadata": {},
   "outputs": [],
   "source": [
    "import torch\n",
    "import sklearn"
   ]
  },
  {
   "cell_type": "code",
   "execution_count": 3,
   "id": "fff0ae78",
   "metadata": {},
   "outputs": [],
   "source": [
    "from pyqpanda import *"
   ]
  },
  {
   "cell_type": "code",
   "execution_count": 4,
   "id": "455c7f76",
   "metadata": {},
   "outputs": [],
   "source": [
    "%matplotlib inline"
   ]
  },
  {
   "cell_type": "markdown",
   "id": "2a618a3a",
   "metadata": {},
   "source": [
    "# 1. Prepare Dadaset"
   ]
  },
  {
   "cell_type": "code",
   "execution_count": 5,
   "id": "c64faba7",
   "metadata": {},
   "outputs": [],
   "source": [
    "# https://www.kaggle.com/datasets/sumanthvrao/daily-climate-time-series-data"
   ]
  },
  {
   "cell_type": "code",
   "execution_count": 6,
   "id": "de627766",
   "metadata": {},
   "outputs": [],
   "source": [
    "train_path = './../data/DailyDelhiClimateTrain.csv'\n",
    "test_path = './../data/DailyDelhiClimateTest.csv'"
   ]
  },
  {
   "cell_type": "code",
   "execution_count": 7,
   "id": "6d0827fb",
   "metadata": {},
   "outputs": [],
   "source": [
    "cols = [1,2,3,4]\n",
    "\n",
    "train = pd.read_csv(train_path, usecols=cols, engine=\"python\")\n",
    "test = pd.read_csv(test_path, usecols=cols, engine=\"python\")"
   ]
  },
  {
   "cell_type": "code",
   "execution_count": 8,
   "id": "5c3039c3",
   "metadata": {},
   "outputs": [
    {
     "name": "stdout",
     "output_type": "stream",
     "text": [
      "len(train)=1462\n",
      "len(test)=114\n"
     ]
    }
   ],
   "source": [
    "print(f'len(train)={len(train)}')\n",
    "print(f'len(test)={len(test)}')"
   ]
  },
  {
   "cell_type": "markdown",
   "id": "b941db2e",
   "metadata": {},
   "source": [
    "## 1.1 Outlier Detection"
   ]
  },
  {
   "cell_type": "code",
   "execution_count": 9,
   "id": "e59fddc0",
   "metadata": {},
   "outputs": [
    {
     "name": "stdout",
     "output_type": "stream",
     "text": [
      "remove outliers num: 9\n"
     ]
    }
   ],
   "source": [
    "unnormal_num = 0\n",
    "for i in range(len(train)):\n",
    "    mp = train.iloc[i][3]\n",
    "    if mp > 1200 or mp < 950:\n",
    "        unnormal_num += 1\n",
    "        train.iloc[i][3] = train.iloc[i + 1][3]\n",
    "print(f'remove outliers num: {unnormal_num}')"
   ]
  },
  {
   "cell_type": "code",
   "execution_count": 10,
   "id": "5fefec4f",
   "metadata": {},
   "outputs": [],
   "source": [
    "test.iloc[0][3] = test.iloc[1][3]"
   ]
  },
  {
   "cell_type": "markdown",
   "id": "6035297e",
   "metadata": {},
   "source": [
    "## 1.2 Transfer data to LSTM representation"
   ]
  },
  {
   "cell_type": "code",
   "execution_count": 11,
   "id": "4a1277fc",
   "metadata": {},
   "outputs": [],
   "source": [
    "from sklearn.preprocessing import StandardScaler"
   ]
  },
  {
   "cell_type": "code",
   "execution_count": 12,
   "id": "884bc13f",
   "metadata": {},
   "outputs": [],
   "source": [
    "def data_process(data, window_size, predict_size):\n",
    "    scaler = StandardScaler()\n",
    "    data = scaler.fit_transform(np.array(data).reshape(-1, 1))\n",
    "    \n",
    "    data_in = []\n",
    "    data_out = []\n",
    "    \n",
    "    for i in range(data.shape[0] - window_size - predict_size):\n",
    "        data_in.append(data[i:i + window_size].reshape(1, window_size)[0])\n",
    "        data_out.append(data[i + window_size:i + window_size + predict_size].reshape(1, predict_size)[0])\n",
    "        \n",
    "    data_in = np.array(data_in).reshape(-1, window_size)\n",
    "    data_out = np.array(data_out).reshape(-1, predict_size)\n",
    "    \n",
    "    data_process = {'datain': data_in, 'dataout': data_out}\n",
    "    \n",
    "    return data_process, scaler"
   ]
  },
  {
   "cell_type": "markdown",
   "id": "6517fe60",
   "metadata": {},
   "source": [
    "## 1.3 prepare train/test dataset"
   ]
  },
  {
   "cell_type": "code",
   "execution_count": 13,
   "id": "d333c7bc",
   "metadata": {},
   "outputs": [],
   "source": [
    "features_size = 4\n",
    "window_size = features_size * 3 # features num * time steps\n",
    "predict_size = features_size # features"
   ]
  },
  {
   "cell_type": "code",
   "execution_count": 14,
   "id": "0ef548b3",
   "metadata": {},
   "outputs": [],
   "source": [
    "train_processed, train_scaler = data_process(train, window_size, predict_size)\n",
    "X_train, y_train = train_processed['datain'], train_processed['dataout']\n",
    "\n",
    "test_processed, test_scaler = data_process(test, window_size, predict_size)\n",
    "X_test, y_test = test_processed['datain'], test_processed['dataout']"
   ]
  },
  {
   "cell_type": "code",
   "execution_count": 15,
   "id": "f779325c",
   "metadata": {},
   "outputs": [],
   "source": [
    "X_train = torch.from_numpy(X_train.astype(np.float32))\n",
    "X_test = torch.from_numpy(X_test.astype(np.float32))\n",
    "\n",
    "y_train = torch.from_numpy(y_train.astype(np.float32))\n",
    "y_test = torch.from_numpy(y_test.astype(np.float32))"
   ]
  },
  {
   "cell_type": "code",
   "execution_count": 16,
   "id": "dda516d1",
   "metadata": {},
   "outputs": [],
   "source": [
    "import torch.utils.data as Data\n",
    "\n",
    "train_data = Data.TensorDataset(X_train, y_train)\n",
    "test_data = Data.TensorDataset(X_test, y_test)"
   ]
  },
  {
   "cell_type": "markdown",
   "id": "70cb132c",
   "metadata": {},
   "source": [
    "# 2. Quantum Enhanced LSTM"
   ]
  },
  {
   "cell_type": "markdown",
   "id": "d517f5f3",
   "metadata": {},
   "source": [
    "## 2.1 initiate quantum environment"
   ]
  },
  {
   "cell_type": "code",
   "execution_count": 17,
   "id": "ffc85d3f",
   "metadata": {},
   "outputs": [],
   "source": [
    "class InitQMachine:\n",
    "    def __init__(self, qubitsCount, cbitsCount = 0, machineType = QMachineType.CPU):\n",
    "        self.machine = init_quantum_machine(machineType)\n",
    "        \n",
    "        self.qubits = self.machine.qAlloc_many(qubitsCount)\n",
    "        self.cbits = self.machine.cAlloc_many(cbitsCount)\n",
    "        \n",
    "        print(f'Init Quantum Machine with qubits:[{qubitsCount}] / cbits:[{cbitsCount}] Successfully')\n",
    "    \n",
    "    def __del__(self):\n",
    "        destroy_quantum_machine(self.machine)"
   ]
  },
  {
   "cell_type": "code",
   "execution_count": 18,
   "id": "741a6a13",
   "metadata": {},
   "outputs": [
    {
     "name": "stdout",
     "output_type": "stream",
     "text": [
      "Init Quantum Machine with qubits:[4] / cbits:[0] Successfully\n"
     ]
    }
   ],
   "source": [
    "# maximum qubits size\n",
    "ctx = InitQMachine(4)"
   ]
  },
  {
   "cell_type": "markdown",
   "id": "63a39cf3",
   "metadata": {},
   "source": [
    "## 2.2 Quantum Layer"
   ]
  },
  {
   "cell_type": "markdown",
   "id": "e63b029d",
   "metadata": {},
   "source": [
    "### 2.2.1 Quantum layer base"
   ]
  },
  {
   "cell_type": "code",
   "execution_count": 19,
   "id": "5570e76d",
   "metadata": {},
   "outputs": [],
   "source": [
    "import torch.nn as nn\n",
    "from torch import Tensor\n",
    "from torch.nn import Parameter"
   ]
  },
  {
   "cell_type": "code",
   "execution_count": 20,
   "id": "4f9cfd0b",
   "metadata": {},
   "outputs": [],
   "source": [
    "class QuantumLayerBase(nn.Module):\n",
    "    def __init__(self, input_size, output_size, *, n_qubits, n_layers = 1, ctx = None):\n",
    "        super(QuantumLayerBase, self).__init__()\n",
    "        \n",
    "        self.data = None # need to input during forward\n",
    "    \n",
    "        self.input_size = input_size\n",
    "        self.output_size = output_size # hidden size, not n_qubits\n",
    "        \n",
    "        # quantum infos\n",
    "        self.n_qubits = n_qubits\n",
    "        self.n_layers = n_layers\n",
    "        \n",
    "        self.ctx = ctx\n",
    "        self.qubits = ctx.qubits\n",
    "        self.machine = ctx.machine\n",
    "        \n",
    "        # convert quantum input/output to match classical computation\n",
    "        self.qin = nn.Linear(self.input_size, self.n_qubits)\n",
    "        self.qout = nn.Linear(self.n_qubits, self.output_size)\n",
    "        \n",
    "    @property\n",
    "    def circuit(self):\n",
    "        raise NotImplementedError('Should init circuit')"
   ]
  },
  {
   "cell_type": "code",
   "execution_count": 21,
   "id": "94c5bbcf",
   "metadata": {},
   "outputs": [],
   "source": [
    "def measure(self):\n",
    "    HamiZ = [ PauliOperator({f'Z{i}': 1}) for i in range(len(self.qubits)) ]\n",
    "    res = [ eval(qop(self.circuit, Hami, self.machine, self.qubits))[0,0] for Hami in HamiZ ]\n",
    "    \n",
    "    return Parameter(Tensor(res[:self.n_qubits]))\n",
    "\n",
    "QuantumLayerBase.measure = measure"
   ]
  },
  {
   "cell_type": "code",
   "execution_count": 22,
   "id": "4341341c",
   "metadata": {},
   "outputs": [],
   "source": [
    "def forward(self, inputs):\n",
    "    y_t = self.qin(Parameter(inputs))\n",
    "    self.data = y_t[0]\n",
    "    \n",
    "    return self.qout(self.measure())\n",
    "\n",
    "QuantumLayerBase.forward = forward"
   ]
  },
  {
   "cell_type": "markdown",
   "id": "fd4f794b",
   "metadata": {},
   "source": [
    "### 2.2.2 Quantum layer design"
   ]
  },
  {
   "cell_type": "code",
   "execution_count": 23,
   "id": "b98a8984",
   "metadata": {},
   "outputs": [],
   "source": [
    "class QuantumLayer(QuantumLayerBase):\n",
    "    def __init__(self, input_size, output_size, *, n_qubits, degree = 1, n_layers = 1, ctx = None):\n",
    "        super(QuantumLayer, self).__init__(input_size, output_size, \n",
    "                                         n_qubits = n_qubits, n_layers = n_layers, ctx = ctx)\n",
    "        \n",
    "        self.degree = degree\n",
    "        self.angles = Parameter(torch.rand(n_layers * 5, degree, self.n_qubits))\n",
    "        \n",
    "    @property\n",
    "    def qparameters_size(self):\n",
    "        return self.angles.flatten().size()[0]\n",
    "        \n",
    "    @property\n",
    "    def circuit(self):\n",
    "        if self.data == None:\n",
    "            raise ValueError('Need to feed a input data!')\n",
    "        \n",
    "        n = self.n_qubits\n",
    "        q = self.qubits\n",
    "        x = self.data\n",
    "        p = self.angles\n",
    "        degree = self.degree\n",
    "        \n",
    "        h = VariationalQuantumGate_H\n",
    "        rx = VariationalQuantumGate_RX\n",
    "        ry = VariationalQuantumGate_RY\n",
    "        rz = VariationalQuantumGate_RZ\n",
    "        crx = VariationalQuantumGate_CRX\n",
    "        \n",
    "        # init variational quantum circuit\n",
    "        vqc = VariationalQuantumCircuit()\n",
    "\n",
    "        # encoding layer\n",
    "        [ vqc.insert( h(q[i]) ) for i in range(n) ]\n",
    "        [ vqc.insert( ry(q[i], var(x[i] * torch.pi / 2)) ) for i in range(n) ]\n",
    "        \n",
    "        # variational layer\n",
    "        [ vqc.insert( rx(q[i], var(p[0][0][i]) )) for i in range(n) ]\n",
    "        [ vqc.insert( rz(q[i], var(p[1][0][i]) )) for i in range(n) ]\n",
    "        \n",
    "        vqc.insert(crx(q[0], q[1], var(p[2][0][0])))\n",
    "        vqc.insert(crx(q[2], q[3], var(p[2][0][1])))\n",
    "        \n",
    "        [ vqc.insert( rx(q[i], var(p[3][0][i]) )) for i in range(n) ]\n",
    "        [ vqc.insert( rz(q[i], var(p[4][0][i]) )) for i in range(n) ]\n",
    "        \n",
    "        vqc.insert(crx(q[1], q[2], var(p[2][0][2])))\n",
    "        \n",
    "        return vqc"
   ]
  },
  {
   "cell_type": "markdown",
   "id": "766692de",
   "metadata": {},
   "source": [
    "### 2.2.3 Plot Quantum Layer"
   ]
  },
  {
   "cell_type": "code",
   "execution_count": 24,
   "id": "88ff286b",
   "metadata": {},
   "outputs": [
    {
     "data": {
      "text/plain": [
       "<pyqpanda.pyQPanda.QProg at 0x19bedd37470>"
      ]
     },
     "execution_count": 24,
     "metadata": {},
     "output_type": "execute_result"
    }
   ],
   "source": [
    "data = Tensor([[0.1, 0.2, 0.3, 0.4]])\n",
    "layer = QuantumLayer(4, 4, n_qubits=4, n_layers=1, degree=3, ctx=ctx)\n",
    "layer.data = data[0]\n",
    "vqc = layer.circuit\n",
    "prog = create_empty_qprog()\n",
    "prog.insert(vqc.feed())"
   ]
  },
  {
   "cell_type": "code",
   "execution_count": 25,
   "id": "2fd364d1",
   "metadata": {},
   "outputs": [
    {
     "data": {
      "text/plain": [
       "'null'"
      ]
     },
     "execution_count": 25,
     "metadata": {},
     "output_type": "execute_result"
    }
   ],
   "source": [
    "draw_qprog(prog, 'pic', filename=f'pic/layer5')"
   ]
  },
  {
   "cell_type": "markdown",
   "id": "50742459",
   "metadata": {},
   "source": [
    "## 2.3 Quantum-LSTM"
   ]
  },
  {
   "cell_type": "code",
   "execution_count": 26,
   "id": "e53ae0ad",
   "metadata": {},
   "outputs": [],
   "source": [
    "class QLSTMBase(nn.Module):\n",
    "    def __init__(self, input_size, hidden_size, *, ctx):\n",
    "        super().__init__()\n",
    "        \n",
    "        self.input_size = input_size\n",
    "        self.hidden_size = hidden_size\n",
    "        self.ctx = ctx\n",
    "        \n",
    "    @property\n",
    "    def qparameters_size(self):\n",
    "        num = 0\n",
    "        for attr in dir(self):\n",
    "            if attr.endswith('_circuit'):\n",
    "                num += getattr(self, attr).qparameters_size\n",
    "        return num"
   ]
  },
  {
   "cell_type": "code",
   "execution_count": 27,
   "id": "582b17af",
   "metadata": {},
   "outputs": [],
   "source": [
    "def forward(self, inputs, init_states = None):\n",
    "    sequence_size, batch_size, _ = inputs.size()\n",
    "    hidden_sequence = []\n",
    "    \n",
    "    if init_states == None:\n",
    "        h_t, c_t = (\n",
    "            torch.zeros(1, batch_size, self.hidden_size).to(inputs.device),\n",
    "            torch.zeros(1, batch_size, self.hidden_size).to(inputs.device),\n",
    "        )\n",
    "    else:\n",
    "        h_t, c_t = init_states\n",
    "    \n",
    "    return hidden_sequence, (h_t, c_t)\n",
    "\n",
    "QLSTMBase.forward = forward"
   ]
  },
  {
   "cell_type": "markdown",
   "id": "63d6b0af",
   "metadata": {},
   "source": [
    "## - classical quatum enhanced LSTM"
   ]
  },
  {
   "cell_type": "code",
   "execution_count": 28,
   "id": "adc8fb35",
   "metadata": {},
   "outputs": [],
   "source": [
    "class QLSTM(QLSTMBase):\n",
    "    def __init__(self, input_size, hidden_size, *, ctx):\n",
    "        super().__init__(input_size, hidden_size, ctx = ctx)\n",
    "    \n",
    "        # input gates\n",
    "        self.input_circuit = QuantumLayer(input_size + hidden_size, hidden_size, \n",
    "                                        n_qubits = 4, ctx = ctx) # 15\n",
    "        # forget gates\n",
    "        self.forget_circuit = QuantumLayer(input_size + hidden_size, hidden_size, \n",
    "                                         n_qubits = 4, ctx = ctx) # 15\n",
    "        # candidate\n",
    "        self.candidate_circuit = QuantumLayer(input_size + hidden_size, hidden_size, \n",
    "                                       n_qubits = 4, ctx = ctx) # 15\n",
    "        # output gates\n",
    "        self.output_circuit = QuantumLayer(input_size + hidden_size, hidden_size, \n",
    "                                         n_qubits = 4, ctx = ctx) # 15\n",
    "        \n",
    "    def forward(self, inputs, init_states = None):\n",
    "        hidden_sequence, (h_t, c_t) = super(QLSTM, self).forward(inputs, init_states)\n",
    "\n",
    "        for t in range(inputs.size()[0]):\n",
    "            x_t = inputs[t, :, :]\n",
    "            v_t = torch.cat((h_t[0], x_t), dim = 1)\n",
    "\n",
    "            # input gates\n",
    "            i_t = torch.sigmoid(self.input_circuit(v_t))\n",
    "            # forget gates\n",
    "            f_t = torch.sigmoid(self.forget_circuit(v_t))\n",
    "            # candidate for cell state update\n",
    "            g_t = torch.tanh(self.candidate_circuit(v_t))\n",
    "            c_t = (f_t * c_t) + (i_t * g_t)\n",
    "\n",
    "            # output gates\n",
    "            o_t = torch.sigmoid(self.output_circuit(v_t))\n",
    "            # update output ht\n",
    "            h_t = o_t * (torch.tanh(c_t))\n",
    "\n",
    "            hidden_sequence.append(h_t)\n",
    "\n",
    "        # reshape hidden_seq p/ retornar\n",
    "        #\n",
    "        # [tensor([[[0.0444, ...]]] => tensor([[[0.0444, ...]]]\n",
    "        # \n",
    "        hidden_sequence = torch.cat(hidden_sequence, dim = 0)\n",
    "\n",
    "        return hidden_sequence, (h_t, c_t)"
   ]
  },
  {
   "cell_type": "markdown",
   "id": "28836475",
   "metadata": {},
   "source": [
    "## 2.4 Stacked QLSTM"
   ]
  },
  {
   "cell_type": "code",
   "execution_count": 29,
   "id": "9ec06c93",
   "metadata": {},
   "outputs": [],
   "source": [
    "from collections import OrderedDict\n",
    "\n",
    "class StackedQLSTM(nn.Module):\n",
    "    def __init__(self, input_size, hidden_size, *, num_layers = 1, ctx = None, mode = 'classical'):\n",
    "        super().__init__()\n",
    "        \n",
    "        self.qlstms = nn.Sequential(OrderedDict([\n",
    "            (f'QLSTM {i + 1}', QLSTM(input_size if i == 0 else hidden_size , hidden_size, ctx = ctx)) \n",
    "                for i in range(num_layers)\n",
    "        ]))\n",
    "\n",
    "    def forward(self, inputs, parameters = None):\n",
    "        outputs = None\n",
    "        \n",
    "        for i, qlstm in enumerate(self.qlstms):\n",
    "            if i != 0:\n",
    "                inputs = outputs\n",
    "            \n",
    "            outputs, parameters = qlstm(inputs, parameters)\n",
    "        \n",
    "        return outputs, parameters"
   ]
  },
  {
   "cell_type": "markdown",
   "id": "0389535c",
   "metadata": {},
   "source": [
    "# 3. Quantum Model and Train"
   ]
  },
  {
   "cell_type": "code",
   "execution_count": 30,
   "id": "413150bd",
   "metadata": {},
   "outputs": [],
   "source": [
    "class QModel(nn.Module):\n",
    "    def __init__(self, input_size, hidden_size, num_output, *, num_layers = 1, ctx = None, mode = 'classical'):\n",
    "        super(QModel, self).__init__()\n",
    "        \n",
    "        self.hidden_size = hidden_size\n",
    "        self.num_layers = num_layers\n",
    "        \n",
    "        self.qlstm = StackedQLSTM(input_size, hidden_size, \n",
    "                                  num_layers = num_layers, ctx = ctx, mode = mode)\n",
    "        self.predict = nn.Linear(hidden_size, num_output)\n",
    "\n",
    "    def forward(self, x):\n",
    "        x = x.unsqueeze(0)\n",
    "        \n",
    "        # sequence lenth , batch_size, features length\n",
    "        # \n",
    "        h0 = torch.zeros(1, x.size(1), self.hidden_size)\n",
    "        c0 = torch.zeros(1, x.size(1), self.hidden_size)\n",
    "        \n",
    "        out, _ = self.qlstm(x, (h0, c0))\n",
    "        out = self.predict(out[0])\n",
    "        \n",
    "        return out"
   ]
  },
  {
   "cell_type": "markdown",
   "id": "111aebe4",
   "metadata": {},
   "source": [
    "## 3.1 train QModel"
   ]
  },
  {
   "cell_type": "code",
   "execution_count": 31,
   "id": "bc1d1439",
   "metadata": {},
   "outputs": [],
   "source": [
    "from torch.utils.data import RandomSampler\n",
    "\n",
    "def train_model(model, datas, batch_size, *, loss_func, optimizer, epoch = 50):\n",
    "    losses = []\n",
    "    sampler = RandomSampler(datas, num_samples = batch_size)\n",
    "    \n",
    "    for step in range(epoch):\n",
    "        train_loss = 0.0\n",
    "        \n",
    "        for index in sampler:\n",
    "            batch_x, batch_y = datas[index][0], datas[index][1]\n",
    "            b_x = batch_x.unsqueeze(0)\n",
    "            b_y = batch_y.unsqueeze(0)\n",
    "            \n",
    "            output = model(b_x)\n",
    "\n",
    "            loss = loss_func(output, b_y)\n",
    "            optimizer.zero_grad()\n",
    "            loss.backward()\n",
    "            optimizer.step()\n",
    "\n",
    "            train_loss += loss.item()\n",
    "\n",
    "        print(f'Epoch {step + 1}/{epoch}: Loss: {train_loss / batch_size}')\n",
    "        losses.append(train_loss / batch_size)\n",
    "    \n",
    "    return losses"
   ]
  },
  {
   "cell_type": "markdown",
   "id": "ef07934f",
   "metadata": {},
   "source": [
    "## 3.2 Evaluate Model"
   ]
  },
  {
   "cell_type": "code",
   "execution_count": 32,
   "id": "57e9b387",
   "metadata": {},
   "outputs": [],
   "source": [
    "from sklearn.metrics import mean_squared_error, mean_absolute_error, mean_absolute_percentage_error\n",
    "\n",
    "def MAE_naive(actuals, predicteds):\n",
    "    n = len(actuals)\n",
    "    err = 0.0\n",
    "    \n",
    "    for i in range(1, n):\n",
    "        err += np.abs(actuals[i] - actuals[i - 1])\n",
    "    return err / (n - 1)\n",
    "\n",
    "def calculate_accuarcy(model, X_test, y_test, scaler=test_scaler):\n",
    "    n = len(X_test)\n",
    "    \n",
    "    actuals = []\n",
    "    predicteds = []\n",
    "    \n",
    "    for i in range(0, n, predict_size):\n",
    "        actual = scaler.inverse_transform(y_test[i:i+1].data)\n",
    "        actuals.append(np.array(actual[0]))\n",
    "        predicted = scaler.inverse_transform(model(X_test[i:i+1]).data)\n",
    "        predicteds.append(np.array(predicted[0]))\n",
    "    \n",
    "    actuals = np.array(actuals)\n",
    "    predicteds = np.array(predicteds)\n",
    "    \n",
    "    mae = mean_absolute_error(actuals, predicteds)\n",
    "    mase = mae / MAE_naive(actuals.flatten(), predicteds.flatten())\n",
    "    mape = mean_absolute_percentage_error(actuals, predicteds)\n",
    "    mse = mean_squared_error(actuals, predicteds)\n",
    "    rmse = mse ** 0.5\n",
    "    \n",
    "    return np.array([(1 - mase) * 100, rmse, mse, mae, mape])"
   ]
  },
  {
   "cell_type": "markdown",
   "id": "6407f969",
   "metadata": {},
   "source": [
    "## 3.3 Train Model"
   ]
  },
  {
   "cell_type": "code",
   "execution_count": 33,
   "id": "305c9471",
   "metadata": {},
   "outputs": [],
   "source": [
    "features_size = 4\n",
    "window_size = features_size * 3 # \n",
    "predict_size = features_size # features\n",
    "\n",
    "input_size = window_size\n",
    "num_output = predict_size\n",
    "\n",
    "hidden_size = 32\n",
    "num_layers = 2"
   ]
  },
  {
   "cell_type": "code",
   "execution_count": 34,
   "id": "50472565",
   "metadata": {
    "scrolled": true
   },
   "outputs": [
    {
     "name": "stdout",
     "output_type": "stream",
     "text": [
      "training epoch: 1\n",
      "Epoch 1/200: Loss: 0.9680915772914886\n",
      "Epoch 2/200: Loss: 1.05063054561615\n",
      "Epoch 3/200: Loss: 0.983835083246231\n",
      "Epoch 4/200: Loss: 0.9684093356132507\n",
      "Epoch 5/200: Loss: 1.0070262163877488\n",
      "Epoch 6/200: Loss: 0.9408970773220062\n",
      "Epoch 7/200: Loss: 0.9537714660167694\n",
      "Epoch 8/200: Loss: 0.9427031487226486\n",
      "Epoch 9/200: Loss: 1.0240200400352477\n",
      "Epoch 10/200: Loss: 0.894900169968605\n",
      "Epoch 11/200: Loss: 0.9742491066455841\n",
      "Epoch 12/200: Loss: 0.9506807059049607\n",
      "Epoch 13/200: Loss: 0.9334903746843338\n",
      "Epoch 14/200: Loss: 0.9353594154119491\n",
      "Epoch 15/200: Loss: 0.9139660507440567\n",
      "Epoch 16/200: Loss: 0.9254499793052673\n",
      "Epoch 17/200: Loss: 0.881099745631218\n",
      "Epoch 18/200: Loss: 0.8576587080955506\n",
      "Epoch 19/200: Loss: 0.8537273913621902\n",
      "Epoch 20/200: Loss: 0.8160686701536178\n",
      "Epoch 21/200: Loss: 0.8231054544448853\n",
      "Epoch 22/200: Loss: 0.7618945568799973\n",
      "Epoch 23/200: Loss: 0.7851573258638382\n",
      "Epoch 24/200: Loss: 0.7183982133865356\n",
      "Epoch 25/200: Loss: 0.6802841156721116\n",
      "Epoch 26/200: Loss: 0.6609325140714646\n",
      "Epoch 27/200: Loss: 0.6459056705236434\n",
      "Epoch 28/200: Loss: 0.5314330384135246\n",
      "Epoch 29/200: Loss: 0.5296231433749199\n",
      "Epoch 30/200: Loss: 0.503892270475626\n",
      "Epoch 31/200: Loss: 0.4186560198664665\n",
      "Epoch 32/200: Loss: 0.45955430418252946\n",
      "Epoch 33/200: Loss: 0.45678927525877955\n",
      "Epoch 34/200: Loss: 0.37865712903439996\n",
      "Epoch 35/200: Loss: 0.28287714943289755\n",
      "Epoch 36/200: Loss: 0.37673575468361375\n",
      "Epoch 37/200: Loss: 0.3155878145247698\n",
      "Epoch 38/200: Loss: 0.3797851515933871\n",
      "Epoch 39/200: Loss: 0.285481006745249\n",
      "Epoch 40/200: Loss: 0.3385441199410707\n",
      "Epoch 41/200: Loss: 0.3278991043567657\n",
      "Epoch 42/200: Loss: 0.3638834238285199\n",
      "Epoch 43/200: Loss: 0.2242182048968971\n",
      "Epoch 44/200: Loss: 0.22035819415468721\n",
      "Epoch 45/200: Loss: 0.3477261162828654\n",
      "Epoch 46/200: Loss: 0.3606990861007944\n",
      "Epoch 47/200: Loss: 0.15366200433345512\n",
      "Epoch 48/200: Loss: 0.35044297302374616\n",
      "Epoch 49/200: Loss: 0.39728000494651494\n",
      "Epoch 50/200: Loss: 0.34273503425065427\n",
      "Epoch 51/200: Loss: 0.30370037360698915\n",
      "Epoch 52/200: Loss: 0.31434025446651503\n",
      "Epoch 53/200: Loss: 0.13725926636252553\n",
      "Epoch 54/200: Loss: 0.3130097594112158\n",
      "Epoch 55/200: Loss: 0.26326919759158046\n",
      "Epoch 56/200: Loss: 0.2580123414751142\n",
      "Epoch 57/200: Loss: 0.18203054716577755\n",
      "Epoch 58/200: Loss: 0.3590042815601919\n",
      "Epoch 59/200: Loss: 0.33587968221399933\n",
      "Epoch 60/200: Loss: 0.2644160493509844\n",
      "Epoch 61/200: Loss: 0.29022256083553655\n",
      "Epoch 62/200: Loss: 0.17886114699067548\n",
      "Epoch 63/200: Loss: 0.3507462706125807\n",
      "Epoch 64/200: Loss: 0.30723504319321365\n",
      "Epoch 65/200: Loss: 0.4288078145124018\n",
      "Epoch 66/200: Loss: 0.21361317869159394\n",
      "Epoch 67/200: Loss: 0.21192839654395357\n",
      "Epoch 68/200: Loss: 0.2861725789727643\n",
      "Epoch 69/200: Loss: 0.2921686828602105\n",
      "Epoch 70/200: Loss: 0.28965088641271\n",
      "Epoch 71/200: Loss: 0.31592089985497296\n",
      "Epoch 72/200: Loss: 0.31626152477692815\n",
      "Epoch 73/200: Loss: 0.16621623623650522\n",
      "Epoch 74/200: Loss: 0.28606710641179234\n",
      "Epoch 75/200: Loss: 0.3383628458948806\n",
      "Epoch 76/200: Loss: 0.3247902296250686\n",
      "Epoch 77/200: Loss: 0.33243459671502934\n",
      "Epoch 78/200: Loss: 0.1705213880049996\n",
      "Epoch 79/200: Loss: 0.25083637624047694\n",
      "Epoch 80/200: Loss: 0.3072193009080365\n",
      "Epoch 81/200: Loss: 0.37126690782606603\n",
      "Epoch 82/200: Loss: 0.3499867571517825\n",
      "Epoch 83/200: Loss: 0.32004950805567206\n",
      "Epoch 84/200: Loss: 0.24232411740813403\n",
      "Epoch 85/200: Loss: 0.3147143756505102\n",
      "Epoch 86/200: Loss: 0.24226945044938475\n",
      "Epoch 87/200: Loss: 0.2348302282160148\n",
      "Epoch 88/200: Loss: 0.25854800182860344\n",
      "Epoch 89/200: Loss: 0.28452357621863483\n",
      "Epoch 90/200: Loss: 0.2578114395961165\n",
      "Epoch 91/200: Loss: 0.1515739869326353\n",
      "Epoch 92/200: Loss: 0.26869154688902197\n",
      "Epoch 93/200: Loss: 0.12424854265991599\n",
      "Epoch 94/200: Loss: 0.27154131974093615\n",
      "Epoch 95/200: Loss: 0.1870375537488144\n",
      "Epoch 96/200: Loss: 0.2970180528835044\n",
      "Epoch 97/200: Loss: 0.18545693634077906\n",
      "Epoch 98/200: Loss: 0.2103833059343742\n",
      "Epoch 99/200: Loss: 0.12044994613388553\n",
      "Epoch 100/200: Loss: 0.141764344566036\n",
      "Epoch 101/200: Loss: 0.19694998271297665\n",
      "Epoch 102/200: Loss: 0.24134275073884054\n",
      "Epoch 103/200: Loss: 0.24383509169565515\n",
      "Epoch 104/200: Loss: 0.2217162357410416\n",
      "Epoch 105/200: Loss: 0.1319324529962614\n",
      "Epoch 106/200: Loss: 0.29391825178172437\n",
      "Epoch 107/200: Loss: 0.23033349871984682\n",
      "Epoch 108/200: Loss: 0.2151431776903337\n",
      "Epoch 109/200: Loss: 0.18196835346752777\n",
      "Epoch 110/200: Loss: 0.17628789282753132\n",
      "Epoch 111/200: Loss: 0.21554680887493305\n",
      "Epoch 112/200: Loss: 0.3032106287384522\n",
      "Epoch 113/200: Loss: 0.2692311950362637\n",
      "Epoch 114/200: Loss: 0.19228150668204763\n",
      "Epoch 115/200: Loss: 0.21424474112864117\n",
      "Epoch 116/200: Loss: 0.22334241031639976\n",
      "Epoch 117/200: Loss: 0.20614705924526788\n",
      "Epoch 118/200: Loss: 0.16427609773818402\n",
      "Epoch 119/200: Loss: 0.2064379770308733\n",
      "Epoch 120/200: Loss: 0.09933139961212874\n",
      "Epoch 121/200: Loss: 0.15501025239937008\n",
      "Epoch 122/200: Loss: 0.16238140713248866\n",
      "Epoch 123/200: Loss: 0.11617109137732769\n",
      "Epoch 124/200: Loss: 0.13224881877249572\n",
      "Epoch 125/200: Loss: 0.11660461117862723\n",
      "Epoch 126/200: Loss: 0.14291341392963658\n",
      "Epoch 127/200: Loss: 0.18155062654986978\n",
      "Epoch 128/200: Loss: 0.1421864278090652\n",
      "Epoch 129/200: Loss: 0.12973372340202333\n",
      "Epoch 130/200: Loss: 0.17455189049942418\n",
      "Epoch 131/200: Loss: 0.09896281177716446\n",
      "Epoch 132/200: Loss: 0.1495842260948848\n",
      "Epoch 133/200: Loss: 0.09012800544587662\n",
      "Epoch 134/200: Loss: 0.08134940908275894\n",
      "Epoch 135/200: Loss: 0.07731462858064334\n",
      "Epoch 136/200: Loss: 0.09939666816062527\n",
      "Epoch 137/200: Loss: 0.16777480702730826\n",
      "Epoch 138/200: Loss: 0.13558886954560875\n",
      "Epoch 139/200: Loss: 0.09549054453382269\n",
      "Epoch 140/200: Loss: 0.09480847378727049\n",
      "Epoch 141/200: Loss: 0.08367886267515132\n",
      "Epoch 142/200: Loss: 0.08157574632641626\n",
      "Epoch 143/200: Loss: 0.13997349066776224\n",
      "Epoch 144/200: Loss: 0.08944400492182467\n",
      "Epoch 145/200: Loss: 0.105714589409763\n",
      "Epoch 146/200: Loss: 0.06170199036714621\n",
      "Epoch 147/200: Loss: 0.10884250696399249\n",
      "Epoch 148/200: Loss: 0.1066576714758412\n",
      "Epoch 149/200: Loss: 0.07817430973809678\n",
      "Epoch 150/200: Loss: 0.0831469667602505\n",
      "Epoch 151/200: Loss: 0.08875276124454104\n",
      "Epoch 152/200: Loss: 0.046885959414066744\n",
      "Epoch 153/200: Loss: 0.0447116939118132\n",
      "Epoch 154/200: Loss: 0.06442759098536044\n",
      "Epoch 155/200: Loss: 0.03438880242902087\n",
      "Epoch 156/200: Loss: 0.0631052303191609\n",
      "Epoch 157/200: Loss: 0.041744141482195116\n",
      "Epoch 158/200: Loss: 0.0531752328373841\n",
      "Epoch 159/200: Loss: 0.04923202608988504\n",
      "Epoch 160/200: Loss: 0.02444948152406141\n",
      "Epoch 161/200: Loss: 0.03856623710817075\n",
      "Epoch 162/200: Loss: 0.028394631794071756\n",
      "Epoch 163/200: Loss: 0.030471274312185416\n",
      "Epoch 164/200: Loss: 0.02833476445885026\n",
      "Epoch 165/200: Loss: 0.03744955680158455\n",
      "Epoch 166/200: Loss: 0.034963314147898925\n",
      "Epoch 167/200: Loss: 0.029606529517332093\n",
      "Epoch 168/200: Loss: 0.017804922825234826\n",
      "Epoch 169/200: Loss: 0.01828971035865834\n",
      "Epoch 170/200: Loss: 0.020450664467716706\n",
      "Epoch 171/200: Loss: 0.020014956811792217\n",
      "Epoch 172/200: Loss: 0.014929125028720592\n",
      "Epoch 173/200: Loss: 0.014267654818740993\n",
      "Epoch 174/200: Loss: 0.010324602299078833\n",
      "Epoch 175/200: Loss: 0.03049250729382038\n",
      "Epoch 176/200: Loss: 0.013213340260699624\n",
      "Epoch 177/200: Loss: 0.01335125317418715\n",
      "Epoch 178/200: Loss: 0.012200124140690605\n",
      "Epoch 179/200: Loss: 0.013576760263822507\n",
      "Epoch 180/200: Loss: 0.010203949770220789\n",
      "Epoch 181/200: Loss: 0.0076873356054420585\n",
      "Epoch 182/200: Loss: 0.008966246271211276\n",
      "Epoch 183/200: Loss: 0.008601222107245121\n",
      "Epoch 184/200: Loss: 0.009255685814059689\n",
      "Epoch 185/200: Loss: 0.0026451687603184838\n",
      "Epoch 186/200: Loss: 0.00554089057186502\n",
      "Epoch 187/200: Loss: 0.006198666907221195\n",
      "Epoch 188/200: Loss: 0.006233004249952501\n",
      "Epoch 189/200: Loss: 0.00393329879079829\n",
      "Epoch 190/200: Loss: 0.004172113300955971\n",
      "Epoch 191/200: Loss: 0.006087876067613252\n",
      "Epoch 192/200: Loss: 0.0028459459332225378\n",
      "Epoch 193/200: Loss: 0.0037328618640458445\n",
      "Epoch 194/200: Loss: 0.005031784637503733\n",
      "Epoch 195/200: Loss: 0.0037387895481515443\n",
      "Epoch 196/200: Loss: 0.0022370787542968173\n",
      "Epoch 197/200: Loss: 0.0037054006357720936\n",
      "Epoch 198/200: Loss: 0.0019807942175248173\n",
      "Epoch 199/200: Loss: 0.0033197294138517463\n",
      "Epoch 200/200: Loss: 0.002565970297837339\n",
      "time costs: 923.6567785739899\n",
      "--------------------\n"
     ]
    }
   ],
   "source": [
    "accuarcies = []\n",
    "times = []\n",
    "\n",
    "for i in range(1):\n",
    "    print(f'training epoch: {i + 1}')\n",
    "    qmodel = QModel(input_size, hidden_size, num_output, \n",
    "                num_layers = num_layers, ctx = ctx, mode='classical')\n",
    "    optimizer = torch.optim.Adam(qmodel.parameters(), lr = 0.001)\n",
    "    loss_func = nn.MSELoss()\n",
    "    start = time.time()\n",
    "    losses = train_model(qmodel, train_data, batch_size=20,          \n",
    "                   loss_func = loss_func, optimizer = optimizer, epoch = 200)\n",
    "    end = time.time()\n",
    "\n",
    "    print(f'time costs: {end - start}')\n",
    "    times.append(end - start)\n",
    "    \n",
    "    acc = calculate_accuarcy(qmodel, X_test, y_test)[0]\n",
    "    accuarcies.append(acc)\n",
    "    \n",
    "    with open(f'loss/layer5/loss_layer5_{i + 1}.pkl', 'wb') as pkl_file:\n",
    "        pickle.dump(losses, pkl_file)\n",
    "    torch.save(qmodel.state_dict(), f\"model/layer5/model_layer5_{i+1}.pt\")\n",
    "    \n",
    "    print('-' * 20)"
   ]
  },
  {
   "cell_type": "code",
   "execution_count": 35,
   "id": "6ac9c597",
   "metadata": {},
   "outputs": [
    {
     "data": {
      "text/plain": [
       "[<matplotlib.lines.Line2D at 0x19bee467670>]"
      ]
     },
     "execution_count": 35,
     "metadata": {},
     "output_type": "execute_result"
    },
    {
     "data": {
      "image/png": "[encoded data removed]",
      "text/plain": [
       "<Figure size 640x480 with 1 Axes>"
      ]
     },
     "metadata": {},
     "output_type": "display_data"
    }
   ],
   "source": [
    "import matplotlib.pyplot as plt\n",
    "\n",
    "plt.plot(losses, color=\"#FF6666\")"
   ]
  },
  {
   "cell_type": "code",
   "execution_count": 36,
   "id": "d3343ae1",
   "metadata": {},
   "outputs": [
    {
     "name": "stdout",
     "output_type": "stream",
     "text": [
      "quantum paramers: 80\n"
     ]
    }
   ],
   "source": [
    "print(f'quantum paramers: {QLSTM(1, 1, ctx = ctx).qparameters_size}')"
   ]
  },
  {
   "cell_type": "code",
   "execution_count": 37,
   "id": "8b656707",
   "metadata": {},
   "outputs": [
    {
     "data": {
      "text/plain": [
       "[97.72365651751944]"
      ]
     },
     "execution_count": 37,
     "metadata": {},
     "output_type": "execute_result"
    }
   ],
   "source": [
    "accuarcies"
   ]
  },
  {
   "cell_type": "code",
   "execution_count": 43,
   "id": "d5af0126",
   "metadata": {},
   "outputs": [
    {
     "data": {
      "text/plain": [
       "74.79572025759605"
      ]
     },
     "execution_count": 43,
     "metadata": {},
     "output_type": "execute_result"
    }
   ],
   "source": [
    "# 74.79572025759605\n",
    "# \n",
    "# [98.82381280862327,\n",
    "#  83.22808867318577,\n",
    "#  59.09642942803672,\n",
    "#  93.0518759963944,\n",
    "#  54.807727214247,\n",
    "#  97.06692206095165,\n",
    "#  48.226590330717166,\n",
    "#  70.55347690709341,\n",
    "#  54.295215606373425,\n",
    "#  88.80706355033765]\n",
    "np.mean(accuarcies)"
   ]
  },
  {
   "cell_type": "code",
   "execution_count": 41,
   "id": "5e317ee3",
   "metadata": {},
   "outputs": [
    {
     "data": {
      "text/plain": [
       "719.4608846426011"
      ]
     },
     "execution_count": 41,
     "metadata": {},
     "output_type": "execute_result"
    }
   ],
   "source": [
    "# 719.4608846426011\n",
    "np.mean(times)"
   ]
  },
  {
   "cell_type": "code",
   "execution_count": null,
   "id": "e2370cb4",
   "metadata": {},
   "outputs": [],
   "source": []
  }
 ],
 "metadata": {
  "kernelspec": {
   "display_name": "Python 3 (ipykernel)",
   "language": "python",
   "name": "python3"
  },
  "language_info": {
   "codemirror_mode": {
    "name": "ipython",
    "version": 3
   },
   "file_extension": ".py",
   "mimetype": "text/x-python",
   "name": "python",
   "nbconvert_exporter": "python",
   "pygments_lexer": "ipython3",
   "version": "3.8.13"
  }
 },
 "nbformat": 4,
 "nbformat_minor": 5
}
