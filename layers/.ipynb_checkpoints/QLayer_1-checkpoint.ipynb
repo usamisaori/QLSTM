{
 "cells": [
  {
   "cell_type": "code",
   "execution_count": 1,
   "id": "fa5c1935",
   "metadata": {},
   "outputs": [],
   "source": [
    "import math\n",
    "import time\n",
    "import pickle\n",
    "import pandas as pd\n",
    "import numpy as np"
   ]
  },
  {
   "cell_type": "code",
   "execution_count": 2,
   "id": "893efdb5",
   "metadata": {},
   "outputs": [],
   "source": [
    "import torch\n",
    "import sklearn"
   ]
  },
  {
   "cell_type": "code",
   "execution_count": 3,
   "id": "e26e3c7d",
   "metadata": {},
   "outputs": [],
   "source": [
    "from pyqpanda import *"
   ]
  },
  {
   "cell_type": "code",
   "execution_count": 4,
   "id": "d0db7732",
   "metadata": {},
   "outputs": [],
   "source": [
    "%matplotlib inline"
   ]
  },
  {
   "cell_type": "markdown",
   "id": "3f7d79f4",
   "metadata": {},
   "source": [
    "# 1. Prepare Dadaset"
   ]
  },
  {
   "cell_type": "code",
   "execution_count": 5,
   "id": "f4d95614",
   "metadata": {},
   "outputs": [],
   "source": [
    "# https://www.kaggle.com/datasets/sumanthvrao/daily-climate-time-series-data"
   ]
  },
  {
   "cell_type": "code",
   "execution_count": 6,
   "id": "06831119",
   "metadata": {},
   "outputs": [],
   "source": [
    "train_path = './../data/DailyDelhiClimateTrain.csv'\n",
    "test_path = './../data/DailyDelhiClimateTest.csv'"
   ]
  },
  {
   "cell_type": "code",
   "execution_count": 7,
   "id": "a1d6a47e",
   "metadata": {},
   "outputs": [],
   "source": [
    "cols = [1,2,3,4]\n",
    "\n",
    "train = pd.read_csv(train_path, usecols=cols, engine=\"python\")\n",
    "test = pd.read_csv(test_path, usecols=cols, engine=\"python\")"
   ]
  },
  {
   "cell_type": "code",
   "execution_count": 8,
   "id": "280b5215",
   "metadata": {},
   "outputs": [
    {
     "name": "stdout",
     "output_type": "stream",
     "text": [
      "len(train)=1462\n",
      "len(test)=114\n"
     ]
    }
   ],
   "source": [
    "print(f'len(train)={len(train)}')\n",
    "print(f'len(test)={len(test)}')"
   ]
  },
  {
   "cell_type": "markdown",
   "id": "bb80fb36",
   "metadata": {},
   "source": [
    "## 1.1 Outlier Detection"
   ]
  },
  {
   "cell_type": "code",
   "execution_count": 9,
   "id": "6a50f7c4",
   "metadata": {},
   "outputs": [
    {
     "name": "stdout",
     "output_type": "stream",
     "text": [
      "remove outliers num: 9\n"
     ]
    }
   ],
   "source": [
    "unnormal_num = 0\n",
    "for i in range(len(train)):\n",
    "    mp = train.iloc[i][3]\n",
    "    if mp > 1200 or mp < 950:\n",
    "        unnormal_num += 1\n",
    "        train.iloc[i][3] = train.iloc[i + 1][3]\n",
    "print(f'remove outliers num: {unnormal_num}')"
   ]
  },
  {
   "cell_type": "code",
   "execution_count": 10,
   "id": "f0a583ee",
   "metadata": {},
   "outputs": [],
   "source": [
    "test.iloc[0][3] = test.iloc[1][3]"
   ]
  },
  {
   "cell_type": "markdown",
   "id": "3e71c74b",
   "metadata": {},
   "source": [
    "## 1.2 Transfer data to LSTM representation"
   ]
  },
  {
   "cell_type": "code",
   "execution_count": 11,
   "id": "8d5b3163",
   "metadata": {},
   "outputs": [],
   "source": [
    "from sklearn.preprocessing import StandardScaler"
   ]
  },
  {
   "cell_type": "code",
   "execution_count": 12,
   "id": "830ee198",
   "metadata": {},
   "outputs": [],
   "source": [
    "def data_process(data, window_size, predict_size):\n",
    "    scaler = StandardScaler()\n",
    "    data = scaler.fit_transform(np.array(data).reshape(-1, 1))\n",
    "    \n",
    "    data_in = []\n",
    "    data_out = []\n",
    "    \n",
    "    for i in range(data.shape[0] - window_size - predict_size):\n",
    "        data_in.append(data[i:i + window_size].reshape(1, window_size)[0])\n",
    "        data_out.append(data[i + window_size:i + window_size + predict_size].reshape(1, predict_size)[0])\n",
    "        \n",
    "    data_in = np.array(data_in).reshape(-1, window_size)\n",
    "    data_out = np.array(data_out).reshape(-1, predict_size)\n",
    "    \n",
    "    data_process = {'datain': data_in, 'dataout': data_out}\n",
    "    \n",
    "    return data_process, scaler"
   ]
  },
  {
   "cell_type": "markdown",
   "id": "6dfb91cd",
   "metadata": {},
   "source": [
    "## 1.3 prepare train/test dataset"
   ]
  },
  {
   "cell_type": "code",
   "execution_count": 13,
   "id": "0e5d3c47",
   "metadata": {},
   "outputs": [],
   "source": [
    "features_size = 4\n",
    "window_size = features_size * 3 # features num * time steps\n",
    "predict_size = features_size # features"
   ]
  },
  {
   "cell_type": "code",
   "execution_count": 14,
   "id": "cc8f2af3",
   "metadata": {},
   "outputs": [],
   "source": [
    "train_processed, train_scaler = data_process(train, window_size, predict_size)\n",
    "X_train, y_train = train_processed['datain'], train_processed['dataout']\n",
    "\n",
    "test_processed, test_scaler = data_process(test, window_size, predict_size)\n",
    "X_test, y_test = test_processed['datain'], test_processed['dataout']"
   ]
  },
  {
   "cell_type": "code",
   "execution_count": 15,
   "id": "a5f8eb30",
   "metadata": {},
   "outputs": [],
   "source": [
    "X_train = torch.from_numpy(X_train.astype(np.float32))\n",
    "X_test = torch.from_numpy(X_test.astype(np.float32))\n",
    "\n",
    "y_train = torch.from_numpy(y_train.astype(np.float32))\n",
    "y_test = torch.from_numpy(y_test.astype(np.float32))"
   ]
  },
  {
   "cell_type": "code",
   "execution_count": 16,
   "id": "f21471ca",
   "metadata": {},
   "outputs": [],
   "source": [
    "import torch.utils.data as Data\n",
    "\n",
    "train_data = Data.TensorDataset(X_train, y_train)\n",
    "test_data = Data.TensorDataset(X_test, y_test)"
   ]
  },
  {
   "cell_type": "markdown",
   "id": "4723cc72",
   "metadata": {},
   "source": [
    "# 2. Quantum Enhanced LSTM"
   ]
  },
  {
   "cell_type": "markdown",
   "id": "26931467",
   "metadata": {},
   "source": [
    "## 2.1 initiate quantum environment"
   ]
  },
  {
   "cell_type": "code",
   "execution_count": 17,
   "id": "db3b2a04",
   "metadata": {},
   "outputs": [],
   "source": [
    "class InitQMachine:\n",
    "    def __init__(self, qubitsCount, cbitsCount = 0, machineType = QMachineType.CPU):\n",
    "        self.machine = init_quantum_machine(machineType)\n",
    "        \n",
    "        self.qubits = self.machine.qAlloc_many(qubitsCount)\n",
    "        self.cbits = self.machine.cAlloc_many(cbitsCount)\n",
    "        \n",
    "        print(f'Init Quantum Machine with qubits:[{qubitsCount}] / cbits:[{cbitsCount}] Successfully')\n",
    "    \n",
    "    def __del__(self):\n",
    "        destroy_quantum_machine(self.machine)"
   ]
  },
  {
   "cell_type": "code",
   "execution_count": 18,
   "id": "b2f8454e",
   "metadata": {},
   "outputs": [
    {
     "name": "stdout",
     "output_type": "stream",
     "text": [
      "Init Quantum Machine with qubits:[4] / cbits:[0] Successfully\n"
     ]
    }
   ],
   "source": [
    "# maximum qubits size\n",
    "ctx = InitQMachine(4)"
   ]
  },
  {
   "cell_type": "markdown",
   "id": "eb6ef4b5",
   "metadata": {},
   "source": [
    "## 2.2 Quantum Layer"
   ]
  },
  {
   "cell_type": "markdown",
   "id": "7d5b4124",
   "metadata": {},
   "source": [
    "### 2.2.1 Quantum layer base"
   ]
  },
  {
   "cell_type": "code",
   "execution_count": 19,
   "id": "d193e949",
   "metadata": {},
   "outputs": [],
   "source": [
    "import torch.nn as nn\n",
    "from torch import Tensor\n",
    "from torch.nn import Parameter"
   ]
  },
  {
   "cell_type": "code",
   "execution_count": 20,
   "id": "2343ac52",
   "metadata": {},
   "outputs": [],
   "source": [
    "class QuantumLayerBase(nn.Module):\n",
    "    def __init__(self, input_size, output_size, *, n_qubits, n_layers = 1, ctx = None):\n",
    "        super(QuantumLayerBase, self).__init__()\n",
    "        \n",
    "        self.data = None # need to input during forward\n",
    "    \n",
    "        self.input_size = input_size\n",
    "        self.output_size = output_size # hidden size, not n_qubits\n",
    "        \n",
    "        # quantum infos\n",
    "        self.n_qubits = n_qubits\n",
    "        self.n_layers = n_layers\n",
    "        \n",
    "        self.ctx = ctx\n",
    "        self.qubits = ctx.qubits\n",
    "        self.machine = ctx.machine\n",
    "        \n",
    "        # convert quantum input/output to match classical computation\n",
    "        self.qin = nn.Linear(self.input_size, self.n_qubits)\n",
    "        self.qout = nn.Linear(self.n_qubits, self.output_size)\n",
    "        \n",
    "    @property\n",
    "    def circuit(self):\n",
    "        raise NotImplementedError('Should init circuit')"
   ]
  },
  {
   "cell_type": "code",
   "execution_count": 21,
   "id": "7565f43d",
   "metadata": {},
   "outputs": [],
   "source": [
    "def measure(self):\n",
    "    HamiZ = [ PauliOperator({f'Z{i}': 1}) for i in range(len(self.qubits)) ]\n",
    "    res = [ eval(qop(self.circuit, Hami, self.machine, self.qubits))[0,0] for Hami in HamiZ ]\n",
    "    \n",
    "    return Parameter(Tensor(res[:self.n_qubits]))\n",
    "\n",
    "QuantumLayerBase.measure = measure"
   ]
  },
  {
   "cell_type": "code",
   "execution_count": 22,
   "id": "10f9f410",
   "metadata": {},
   "outputs": [],
   "source": [
    "def forward(self, inputs):\n",
    "    y_t = self.qin(Parameter(inputs))\n",
    "    self.data = y_t[0]\n",
    "    \n",
    "    return self.qout(self.measure())\n",
    "\n",
    "QuantumLayerBase.forward = forward"
   ]
  },
  {
   "cell_type": "markdown",
   "id": "da550b13",
   "metadata": {},
   "source": [
    "### 2.2.2 Quantum layer design"
   ]
  },
  {
   "cell_type": "code",
   "execution_count": 23,
   "id": "ce7680ba",
   "metadata": {},
   "outputs": [],
   "source": [
    "class QuantumLayer(QuantumLayerBase):\n",
    "    def __init__(self, input_size, output_size, *, n_qubits, degree = 1, n_layers = 1, ctx = None):\n",
    "        super(QuantumLayer, self).__init__(input_size, output_size, \n",
    "                                         n_qubits = n_qubits, n_layers = n_layers, ctx = ctx)\n",
    "        \n",
    "        self.degree = degree\n",
    "        self.angles = Parameter(torch.rand(n_layers, degree, self.n_qubits))\n",
    "        \n",
    "    @property\n",
    "    def qparameters_size(self):\n",
    "        return self.angles.flatten().size()[0]\n",
    "        \n",
    "    @property\n",
    "    def circuit(self):\n",
    "        if self.data == None:\n",
    "            raise ValueError('Need to feed a input data!')\n",
    "        \n",
    "        n = self.n_qubits\n",
    "        q = self.qubits\n",
    "        x = self.data\n",
    "        p = self.angles\n",
    "        degree = self.degree\n",
    "        \n",
    "        # quantum gates - must use small case!\n",
    "        h = VariationalQuantumGate_H\n",
    "        ry = VariationalQuantumGate_RY\n",
    "        cx = VariationalQuantumGate_CNOT\n",
    "        u3 = VariationalQuantumGate_U3\n",
    "        \n",
    "        # init variational quantum circuit\n",
    "        vqc = VariationalQuantumCircuit()\n",
    "\n",
    "        # encoding layer\n",
    "        [ vqc.insert( h(q[i]) ) for i in range(n) ]\n",
    "        [ vqc.insert( ry(q[i], var(x[i] * torch.pi / 2)) ) for i in range(n) ]\n",
    "        \n",
    "        # variational layer\n",
    "        for layer in range(self.n_layers):\n",
    "            for i in range(n - 1):\n",
    "                vqc.insert(cx(q[i], q[i + 1]))\n",
    "            vqc.insert(cx(q[n - 1], q[0]))\n",
    "        \n",
    "        for layer in range(self.n_layers):\n",
    "            for i in range(n - 1):\n",
    "                vqc.insert(cx(q[i], q[i + 1]))\n",
    "            vqc.insert(cx(q[n - 1], q[0]))\n",
    "        \n",
    "        [ vqc.insert( u3(q[i], *[ var(p[layer][d][i]) for d in range(degree) ]) ) \n",
    "                 for i in range(n) ]\n",
    "        \n",
    "        return vqc"
   ]
  },
  {
   "cell_type": "markdown",
   "id": "23b60599",
   "metadata": {},
   "source": [
    "### 2.2.3 Plot Quantum Layer"
   ]
  },
  {
   "cell_type": "code",
   "execution_count": 24,
   "id": "b2a048f8",
   "metadata": {},
   "outputs": [
    {
     "data": {
      "text/plain": [
       "<pyqpanda.pyQPanda.QProg at 0x17d6491beb0>"
      ]
     },
     "execution_count": 24,
     "metadata": {},
     "output_type": "execute_result"
    }
   ],
   "source": [
    "data = Tensor([[0.1, 0.2, 0.3, 0.4]])\n",
    "layer = QuantumLayer(4, 4, n_qubits=4, n_layers=1, degree=3, ctx=ctx)\n",
    "layer.data = data[0]\n",
    "vqc = layer.circuit\n",
    "prog = create_empty_qprog()\n",
    "prog.insert(vqc.feed())"
   ]
  },
  {
   "cell_type": "code",
   "execution_count": 25,
   "id": "c3c1ad0d",
   "metadata": {},
   "outputs": [
    {
     "data": {
      "text/plain": [
       "'null'"
      ]
     },
     "execution_count": 25,
     "metadata": {},
     "output_type": "execute_result"
    }
   ],
   "source": [
    "draw_qprog(prog, 'pic', filename=f'pic/layer1')"
   ]
  },
  {
   "cell_type": "markdown",
   "id": "12bb115f",
   "metadata": {},
   "source": [
    "## 2.3 Quantum-LSTM"
   ]
  },
  {
   "cell_type": "code",
   "execution_count": 26,
   "id": "9caa42eb",
   "metadata": {},
   "outputs": [],
   "source": [
    "class QLSTMBase(nn.Module):\n",
    "    def __init__(self, input_size, hidden_size, *, ctx):\n",
    "        super().__init__()\n",
    "        \n",
    "        self.input_size = input_size\n",
    "        self.hidden_size = hidden_size\n",
    "        self.ctx = ctx\n",
    "        \n",
    "    @property\n",
    "    def qparameters_size(self):\n",
    "        num = 0\n",
    "        for attr in dir(self):\n",
    "            if attr.endswith('_circuit'):\n",
    "                num += getattr(self, attr).qparameters_size\n",
    "        return num"
   ]
  },
  {
   "cell_type": "code",
   "execution_count": 27,
   "id": "aed6dae9",
   "metadata": {},
   "outputs": [],
   "source": [
    "def forward(self, inputs, init_states = None):\n",
    "    sequence_size, batch_size, _ = inputs.size()\n",
    "    hidden_sequence = []\n",
    "    \n",
    "    if init_states == None:\n",
    "        h_t, c_t = (\n",
    "            torch.zeros(1, batch_size, self.hidden_size).to(inputs.device),\n",
    "            torch.zeros(1, batch_size, self.hidden_size).to(inputs.device),\n",
    "        )\n",
    "    else:\n",
    "        h_t, c_t = init_states\n",
    "    \n",
    "    return hidden_sequence, (h_t, c_t)\n",
    "\n",
    "QLSTMBase.forward = forward"
   ]
  },
  {
   "cell_type": "markdown",
   "id": "fd904440",
   "metadata": {},
   "source": [
    "## - classical quatum enhanced LSTM"
   ]
  },
  {
   "cell_type": "code",
   "execution_count": 28,
   "id": "82247e75",
   "metadata": {},
   "outputs": [],
   "source": [
    "class QLSTM(QLSTMBase):\n",
    "    def __init__(self, input_size, hidden_size, *, ctx):\n",
    "        super().__init__(input_size, hidden_size, ctx = ctx)\n",
    "    \n",
    "        # input gates\n",
    "        self.input_circuit = QuantumLayer(input_size + hidden_size, hidden_size, \n",
    "                                        n_qubits = 4, degree = 3, ctx = ctx) # 15\n",
    "        # forget gates\n",
    "        self.forget_circuit = QuantumLayer(input_size + hidden_size, hidden_size, \n",
    "                                         n_qubits = 4, degree = 3, ctx = ctx) # 15\n",
    "        # candidate\n",
    "        self.candidate_circuit = QuantumLayer(input_size + hidden_size, hidden_size, \n",
    "                                       n_qubits = 4, degree = 3, ctx = ctx) # 15\n",
    "        # output gates\n",
    "        self.output_circuit = QuantumLayer(input_size + hidden_size, hidden_size, \n",
    "                                         n_qubits = 4, degree = 3, ctx = ctx) # 15\n",
    "        \n",
    "    def forward(self, inputs, init_states = None):\n",
    "        hidden_sequence, (h_t, c_t) = super(QLSTM, self).forward(inputs, init_states)\n",
    "\n",
    "        for t in range(inputs.size()[0]):\n",
    "            x_t = inputs[t, :, :]\n",
    "            v_t = torch.cat((h_t[0], x_t), dim = 1)\n",
    "\n",
    "            # input gates\n",
    "            i_t = torch.sigmoid(self.input_circuit(v_t))\n",
    "            # forget gates\n",
    "            f_t = torch.sigmoid(self.forget_circuit(v_t))\n",
    "            # candidate for cell state update\n",
    "            g_t = torch.tanh(self.candidate_circuit(v_t))\n",
    "            c_t = (f_t * c_t) + (i_t * g_t)\n",
    "\n",
    "            # output gates\n",
    "            o_t = torch.sigmoid(self.output_circuit(v_t))\n",
    "            # update output ht\n",
    "            h_t = o_t * (torch.tanh(c_t))\n",
    "\n",
    "            hidden_sequence.append(h_t)\n",
    "\n",
    "        # reshape hidden_seq p/ retornar\n",
    "        #\n",
    "        # [tensor([[[0.0444, ...]]] => tensor([[[0.0444, ...]]]\n",
    "        # \n",
    "        hidden_sequence = torch.cat(hidden_sequence, dim = 0)\n",
    "\n",
    "        return hidden_sequence, (h_t, c_t)"
   ]
  },
  {
   "cell_type": "markdown",
   "id": "b0f80a61",
   "metadata": {},
   "source": [
    "## 2.4 Stacked QLSTM"
   ]
  },
  {
   "cell_type": "code",
   "execution_count": 29,
   "id": "f7034afa",
   "metadata": {},
   "outputs": [],
   "source": [
    "from collections import OrderedDict\n",
    "\n",
    "class StackedQLSTM(nn.Module):\n",
    "    def __init__(self, input_size, hidden_size, *, num_layers = 1, ctx = None, mode = 'classical'):\n",
    "        super().__init__()\n",
    "        \n",
    "        self.qlstms = nn.Sequential(OrderedDict([\n",
    "            (f'QLSTM {i + 1}', QLSTM(input_size if i == 0 else hidden_size , hidden_size, ctx = ctx)) \n",
    "                for i in range(num_layers)\n",
    "        ]))\n",
    "\n",
    "    def forward(self, inputs, parameters = None):\n",
    "        outputs = None\n",
    "        \n",
    "        for i, qlstm in enumerate(self.qlstms):\n",
    "            if i != 0:\n",
    "                inputs = outputs\n",
    "            \n",
    "            outputs, parameters = qlstm(inputs, parameters)\n",
    "        \n",
    "        return outputs, parameters"
   ]
  },
  {
   "cell_type": "markdown",
   "id": "e8c4918f",
   "metadata": {},
   "source": [
    "# 3. Quantum Model and Train"
   ]
  },
  {
   "cell_type": "code",
   "execution_count": 30,
   "id": "a63f5f02",
   "metadata": {},
   "outputs": [],
   "source": [
    "class QModel(nn.Module):\n",
    "    def __init__(self, input_size, hidden_size, num_output, *, num_layers = 1, ctx = None, mode = 'classical'):\n",
    "        super(QModel, self).__init__()\n",
    "        \n",
    "        self.hidden_size = hidden_size\n",
    "        self.num_layers = num_layers\n",
    "        \n",
    "        self.qlstm = StackedQLSTM(input_size, hidden_size, \n",
    "                                  num_layers = num_layers, ctx = ctx, mode = mode)\n",
    "        self.predict = nn.Linear(hidden_size, num_output)\n",
    "\n",
    "    def forward(self, x):\n",
    "        x = x.unsqueeze(0)\n",
    "        \n",
    "        # sequence lenth , batch_size, features length\n",
    "        # \n",
    "        h0 = torch.zeros(1, x.size(1), self.hidden_size)\n",
    "        c0 = torch.zeros(1, x.size(1), self.hidden_size)\n",
    "        \n",
    "        out, _ = self.qlstm(x, (h0, c0))\n",
    "        out = self.predict(out[0])\n",
    "        \n",
    "        return out"
   ]
  },
  {
   "cell_type": "markdown",
   "id": "1e9c67c0",
   "metadata": {},
   "source": [
    "## 3.1 train QModel"
   ]
  },
  {
   "cell_type": "code",
   "execution_count": 31,
   "id": "8de52210",
   "metadata": {},
   "outputs": [],
   "source": [
    "from torch.utils.data import RandomSampler\n",
    "\n",
    "def train_model(model, datas, batch_size, *, loss_func, optimizer, epoch = 50):\n",
    "    losses = []\n",
    "    sampler = RandomSampler(datas, num_samples = batch_size)\n",
    "    \n",
    "    for step in range(epoch):\n",
    "        train_loss = 0.0\n",
    "        \n",
    "        for index in sampler:\n",
    "            batch_x, batch_y = datas[index][0], datas[index][1]\n",
    "            b_x = batch_x.unsqueeze(0)\n",
    "            b_y = batch_y.unsqueeze(0)\n",
    "            \n",
    "            output = model(b_x)\n",
    "\n",
    "            loss = loss_func(output, b_y)\n",
    "            optimizer.zero_grad()\n",
    "            loss.backward()\n",
    "            optimizer.step()\n",
    "\n",
    "            train_loss += loss.item()\n",
    "\n",
    "        print(f'Epoch {step + 1}/{epoch}: Loss: {train_loss / batch_size}')\n",
    "        losses.append(train_loss / batch_size)\n",
    "    \n",
    "    return losses"
   ]
  },
  {
   "cell_type": "markdown",
   "id": "a6bc2b77",
   "metadata": {},
   "source": [
    "## 3.2 Evaluate Model"
   ]
  },
  {
   "cell_type": "code",
   "execution_count": 32,
   "id": "fcb00c75",
   "metadata": {},
   "outputs": [],
   "source": [
    "from sklearn.metrics import mean_squared_error, mean_absolute_error, mean_absolute_percentage_error\n",
    "\n",
    "def MAE_naive(actuals, predicteds):\n",
    "    n = len(actuals)\n",
    "    err = 0.0\n",
    "    \n",
    "    for i in range(1, n):\n",
    "        err += np.abs(actuals[i] - actuals[i - 1])\n",
    "    return err / (n - 1)\n",
    "\n",
    "def calculate_accuarcy(model, X_test, y_test, scaler=test_scaler):\n",
    "    n = len(X_test)\n",
    "    \n",
    "    actuals = []\n",
    "    predicteds = []\n",
    "    \n",
    "    for i in range(0, n, predict_size):\n",
    "        actual = scaler.inverse_transform(y_test[i:i+1].data)\n",
    "        actuals.append(np.array(actual[0]))\n",
    "        predicted = scaler.inverse_transform(model(X_test[i:i+1]).data)\n",
    "        predicteds.append(np.array(predicted[0]))\n",
    "    \n",
    "    actuals = np.array(actuals)\n",
    "    predicteds = np.array(predicteds)\n",
    "    \n",
    "    mae = mean_absolute_error(actuals, predicteds)\n",
    "    mase = mae / MAE_naive(actuals.flatten(), predicteds.flatten())\n",
    "    mape = mean_absolute_percentage_error(actuals, predicteds)\n",
    "    mse = mean_squared_error(actuals, predicteds)\n",
    "    rmse = mse ** 0.5\n",
    "    \n",
    "    return np.array([(1 - mase) * 100, rmse, mse, mae, mape])"
   ]
  },
  {
   "cell_type": "markdown",
   "id": "aab6c1be",
   "metadata": {},
   "source": [
    "## 3.3 Train Model"
   ]
  },
  {
   "cell_type": "code",
   "execution_count": 33,
   "id": "8f1b3c80",
   "metadata": {},
   "outputs": [],
   "source": [
    "features_size = 4\n",
    "window_size = features_size * 3 # \n",
    "predict_size = features_size # features\n",
    "\n",
    "input_size = window_size\n",
    "num_output = predict_size\n",
    "\n",
    "hidden_size = 32\n",
    "num_layers = 2"
   ]
  },
  {
   "cell_type": "code",
   "execution_count": 38,
   "id": "bf5d4bf4",
   "metadata": {
    "scrolled": true
   },
   "outputs": [
    {
     "name": "stdout",
     "output_type": "stream",
     "text": [
      "training epoch: 1\n",
      "Epoch 1/200: Loss: 1.0465084075927735\n",
      "Epoch 2/200: Loss: 1.0176357984542848\n",
      "Epoch 3/200: Loss: 1.019245058298111\n",
      "Epoch 4/200: Loss: 1.0169513016939162\n",
      "Epoch 5/200: Loss: 1.0056973963975906\n",
      "Epoch 6/200: Loss: 0.986315381526947\n",
      "Epoch 7/200: Loss: 0.9866503477096558\n",
      "Epoch 8/200: Loss: 0.9953180551528931\n",
      "Epoch 9/200: Loss: 0.9692169278860092\n",
      "Epoch 10/200: Loss: 0.9781980365514755\n",
      "Epoch 11/200: Loss: 0.9879008501768112\n",
      "Epoch 12/200: Loss: 0.9658823788166047\n",
      "Epoch 13/200: Loss: 0.9631255477666855\n",
      "Epoch 14/200: Loss: 0.947779169678688\n",
      "Epoch 15/200: Loss: 0.9458050847053527\n",
      "Epoch 16/200: Loss: 0.939058730006218\n",
      "Epoch 17/200: Loss: 0.9364449679851532\n",
      "Epoch 18/200: Loss: 0.91270911693573\n",
      "Epoch 19/200: Loss: 0.8850193530321121\n",
      "Epoch 20/200: Loss: 0.9036007285118103\n",
      "Epoch 21/200: Loss: 0.9043746948242187\n",
      "Epoch 22/200: Loss: 0.87623330950737\n",
      "Epoch 23/200: Loss: 0.8443528413772583\n",
      "Epoch 24/200: Loss: 0.841423949599266\n",
      "Epoch 25/200: Loss: 0.8768796384334564\n",
      "Epoch 26/200: Loss: 0.7841489911079407\n",
      "Epoch 27/200: Loss: 0.8232081741094589\n",
      "Epoch 28/200: Loss: 0.7729056537151336\n",
      "Epoch 29/200: Loss: 0.8393027663230896\n",
      "Epoch 30/200: Loss: 0.7890812560915947\n",
      "Epoch 31/200: Loss: 0.6939154744148255\n",
      "Epoch 32/200: Loss: 0.7099902406334877\n",
      "Epoch 33/200: Loss: 0.7369534954428673\n",
      "Epoch 34/200: Loss: 0.7877488017082215\n",
      "Epoch 35/200: Loss: 0.793451865017414\n",
      "Epoch 36/200: Loss: 0.7468416944146157\n",
      "Epoch 37/200: Loss: 0.7448990732431412\n",
      "Epoch 38/200: Loss: 0.600351594388485\n",
      "Epoch 39/200: Loss: 0.7463619999587536\n",
      "Epoch 40/200: Loss: 0.6516020752489566\n",
      "Epoch 41/200: Loss: 0.7435114607214928\n",
      "Epoch 42/200: Loss: 0.6965758509933948\n",
      "Epoch 43/200: Loss: 0.5663669824600219\n",
      "Epoch 44/200: Loss: 0.7063976660370826\n",
      "Epoch 45/200: Loss: 0.6163861997425556\n",
      "Epoch 46/200: Loss: 0.7745006032288074\n",
      "Epoch 47/200: Loss: 0.705786706507206\n",
      "Epoch 48/200: Loss: 0.6680849865078926\n",
      "Epoch 49/200: Loss: 0.7375078678131104\n",
      "Epoch 50/200: Loss: 0.6947183609008789\n",
      "Epoch 51/200: Loss: 0.5914203554391861\n",
      "Epoch 52/200: Loss: 0.6604363694787025\n",
      "Epoch 53/200: Loss: 0.6679247424006463\n",
      "Epoch 54/200: Loss: 0.6645664297044277\n",
      "Epoch 55/200: Loss: 0.5838510274887085\n",
      "Epoch 56/200: Loss: 0.7221481390297413\n",
      "Epoch 57/200: Loss: 0.6685540273785591\n",
      "Epoch 58/200: Loss: 0.6875191204249859\n",
      "Epoch 59/200: Loss: 0.6784634009003639\n",
      "Epoch 60/200: Loss: 0.7911066621541977\n",
      "Epoch 61/200: Loss: 0.7148863218724728\n",
      "Epoch 62/200: Loss: 0.6271232858300209\n",
      "Epoch 63/200: Loss: 0.7042437925934791\n",
      "Epoch 64/200: Loss: 0.6093920223414898\n",
      "Epoch 65/200: Loss: 0.6537681020796299\n",
      "Epoch 66/200: Loss: 0.7681757599115372\n",
      "Epoch 67/200: Loss: 0.7461917854845523\n",
      "Epoch 68/200: Loss: 0.6546582117676735\n",
      "Epoch 69/200: Loss: 0.6942779906094074\n",
      "Epoch 70/200: Loss: 0.5986506879329682\n",
      "Epoch 71/200: Loss: 0.6002917662262917\n",
      "Epoch 72/200: Loss: 0.6257850550115108\n",
      "Epoch 73/200: Loss: 0.6329772926867008\n",
      "Epoch 74/200: Loss: 0.71642205119133\n",
      "Epoch 75/200: Loss: 0.6453538164496422\n",
      "Epoch 76/200: Loss: 0.6382863618433475\n",
      "Epoch 77/200: Loss: 0.5588016547262669\n",
      "Epoch 78/200: Loss: 0.7186910107731819\n",
      "Epoch 79/200: Loss: 0.6252874277532101\n",
      "Epoch 80/200: Loss: 0.5525489538908005\n",
      "Epoch 81/200: Loss: 0.5391134321689606\n",
      "Epoch 82/200: Loss: 0.5626893252134323\n",
      "Epoch 83/200: Loss: 0.49591781198978424\n",
      "Epoch 84/200: Loss: 0.6566853761672974\n",
      "Epoch 85/200: Loss: 0.651787780970335\n",
      "Epoch 86/200: Loss: 0.5503492228686809\n",
      "Epoch 87/200: Loss: 0.557779585570097\n",
      "Epoch 88/200: Loss: 0.6023029662668705\n",
      "Epoch 89/200: Loss: 0.43638637810945513\n",
      "Epoch 90/200: Loss: 0.7294821947813034\n",
      "Epoch 91/200: Loss: 0.5510086983442306\n",
      "Epoch 92/200: Loss: 0.46291078589856627\n",
      "Epoch 93/200: Loss: 0.5514381892979145\n",
      "Epoch 94/200: Loss: 0.5913057427853345\n",
      "Epoch 95/200: Loss: 0.48654443100094796\n",
      "Epoch 96/200: Loss: 0.6436596117913723\n",
      "Epoch 97/200: Loss: 0.5082108199596405\n",
      "Epoch 98/200: Loss: 0.5745773490518331\n",
      "Epoch 99/200: Loss: 0.5623275443911553\n",
      "Epoch 100/200: Loss: 0.5089391689747572\n",
      "Epoch 101/200: Loss: 0.3597272101789713\n",
      "Epoch 102/200: Loss: 0.4544085953384638\n",
      "Epoch 103/200: Loss: 0.3863197322934866\n",
      "Epoch 104/200: Loss: 0.6124830514192581\n",
      "Epoch 105/200: Loss: 0.4999537169933319\n",
      "Epoch 106/200: Loss: 0.5263309583067894\n",
      "Epoch 107/200: Loss: 0.34701366238296033\n",
      "Epoch 108/200: Loss: 0.538705189153552\n",
      "Epoch 109/200: Loss: 0.41323464512825014\n",
      "Epoch 110/200: Loss: 0.4145722271874547\n",
      "Epoch 111/200: Loss: 0.4052429186180234\n",
      "Epoch 112/200: Loss: 0.42339371629059314\n",
      "Epoch 113/200: Loss: 0.5424068726599216\n",
      "Epoch 114/200: Loss: 0.39628469832241536\n",
      "Epoch 115/200: Loss: 0.3684398550540209\n",
      "Epoch 116/200: Loss: 0.556883342564106\n",
      "Epoch 117/200: Loss: 0.5784717366099358\n",
      "Epoch 118/200: Loss: 0.48164337761700154\n",
      "Epoch 119/200: Loss: 0.3915013521909714\n",
      "Epoch 120/200: Loss: 0.49681892395019533\n",
      "Epoch 121/200: Loss: 0.40854348577558997\n",
      "Epoch 122/200: Loss: 0.4043826712295413\n",
      "Epoch 123/200: Loss: 0.34804454259574413\n",
      "Epoch 124/200: Loss: 0.44903055429458616\n",
      "Epoch 125/200: Loss: 0.41188072841614487\n",
      "Epoch 126/200: Loss: 0.3481514070183039\n",
      "Epoch 127/200: Loss: 0.42071317695081234\n",
      "Epoch 128/200: Loss: 0.40285199172794817\n",
      "Epoch 129/200: Loss: 0.40936123915016653\n",
      "Epoch 130/200: Loss: 0.3706344533711672\n",
      "Epoch 131/200: Loss: 0.34968734849244354\n",
      "Epoch 132/200: Loss: 0.411374451033771\n",
      "Epoch 133/200: Loss: 0.4129441887140274\n",
      "Epoch 134/200: Loss: 0.3547615778632462\n",
      "Epoch 135/200: Loss: 0.2879530508071184\n",
      "Epoch 136/200: Loss: 0.3463606517761946\n",
      "Epoch 137/200: Loss: 0.30939112505875527\n",
      "Epoch 138/200: Loss: 0.36205077804625035\n",
      "Epoch 139/200: Loss: 0.3271334361284971\n",
      "Epoch 140/200: Loss: 0.3532097076997161\n",
      "Epoch 141/200: Loss: 0.270424834638834\n",
      "Epoch 142/200: Loss: 0.26919247303158045\n",
      "Epoch 143/200: Loss: 0.27156543601304295\n",
      "Epoch 144/200: Loss: 0.3052727036178112\n",
      "Epoch 145/200: Loss: 0.2492404967546463\n",
      "Epoch 146/200: Loss: 0.26266787173226475\n",
      "Epoch 147/200: Loss: 0.16720199612900616\n",
      "Epoch 148/200: Loss: 0.31412778338417413\n",
      "Epoch 149/200: Loss: 0.25242666602134706\n",
      "Epoch 150/200: Loss: 0.35943704154342415\n",
      "Epoch 151/200: Loss: 0.29248335119336843\n",
      "Epoch 152/200: Loss: 0.21676471522077917\n",
      "Epoch 153/200: Loss: 0.18836676960345358\n",
      "Epoch 154/200: Loss: 0.1123226351221092\n",
      "Epoch 155/200: Loss: 0.13381022347602994\n",
      "Epoch 156/200: Loss: 0.14424579311162233\n",
      "Epoch 157/200: Loss: 0.1975023889914155\n",
      "Epoch 158/200: Loss: 0.1395384557545185\n",
      "Epoch 159/200: Loss: 0.1530836950056255\n",
      "Epoch 160/200: Loss: 0.2995165810454637\n",
      "Epoch 161/200: Loss: 0.21995775401592255\n",
      "Epoch 162/200: Loss: 0.20468841241672636\n",
      "Epoch 163/200: Loss: 0.19684961386956273\n",
      "Epoch 164/200: Loss: 0.2195638308301568\n",
      "Epoch 165/200: Loss: 0.18996812175028027\n",
      "Epoch 166/200: Loss: 0.18169329240918158\n",
      "Epoch 167/200: Loss: 0.20787662507500498\n",
      "Epoch 168/200: Loss: 0.13743619532324375\n",
      "Epoch 169/200: Loss: 0.1534899556543678\n",
      "Epoch 170/200: Loss: 0.10924904763232916\n",
      "Epoch 171/200: Loss: 0.1274301301687956\n",
      "Epoch 172/200: Loss: 0.1801065647508949\n",
      "Epoch 173/200: Loss: 0.08550897007808089\n",
      "Epoch 174/200: Loss: 0.12562221460975706\n",
      "Epoch 175/200: Loss: 0.1947238892549649\n",
      "Epoch 176/200: Loss: 0.1046042823116295\n",
      "Epoch 177/200: Loss: 0.11015455957385711\n",
      "Epoch 178/200: Loss: 0.15026406602701173\n",
      "Epoch 179/200: Loss: 0.16517937949392944\n",
      "Epoch 180/200: Loss: 0.12856544727692382\n",
      "Epoch 181/200: Loss: 0.11778937127673998\n",
      "Epoch 182/200: Loss: 0.1147540875361301\n",
      "Epoch 183/200: Loss: 0.18245814056135715\n",
      "Epoch 184/200: Loss: 0.06556021469295956\n",
      "Epoch 185/200: Loss: 0.12609719968168065\n",
      "Epoch 186/200: Loss: 0.10020384014351294\n",
      "Epoch 187/200: Loss: 0.08265197130385786\n",
      "Epoch 188/200: Loss: 0.09785806930158288\n",
      "Epoch 189/200: Loss: 0.10977016615797766\n",
      "Epoch 190/200: Loss: 0.0820328560366761\n",
      "Epoch 191/200: Loss: 0.10633297832682728\n",
      "Epoch 192/200: Loss: 0.043230247605242765\n",
      "Epoch 193/200: Loss: 0.07920376099064015\n",
      "Epoch 194/200: Loss: 0.04676787643693388\n",
      "Epoch 195/200: Loss: 0.08163394082366722\n",
      "Epoch 196/200: Loss: 0.06762757701799274\n",
      "Epoch 197/200: Loss: 0.06747686644666828\n",
      "Epoch 198/200: Loss: 0.07104919562116266\n",
      "Epoch 199/200: Loss: 0.08582895571598784\n",
      "Epoch 200/200: Loss: 0.045852333400398494\n",
      "time costs: 915.6261417865753\n",
      "--------------------\n"
     ]
    }
   ],
   "source": [
    "accuarcies = []\n",
    "times = []\n",
    "\n",
    "for i in range(1):\n",
    "    print(f'training epoch: {i + 1}')\n",
    "    qmodel = QModel(input_size, hidden_size, num_output, \n",
    "                num_layers = num_layers, ctx = ctx, mode='classical')\n",
    "    optimizer = torch.optim.Adam(qmodel.parameters(), lr = 0.001)\n",
    "    loss_func = nn.MSELoss()\n",
    "    start = time.time()\n",
    "    losses = train_model(qmodel, train_data, batch_size=20,          \n",
    "                   loss_func = loss_func, optimizer = optimizer, epoch = 200)\n",
    "    end = time.time()\n",
    "\n",
    "    print(f'time costs: {end - start}')\n",
    "    times.append(end - start)\n",
    "    \n",
    "    acc = calculate_accuarcy(qmodel, X_test, y_test)[0]\n",
    "    accuarcies.append(acc)\n",
    "    \n",
    "    with open(f'loss/layer1/loss_layer1_{i + 1}.pkl', 'wb') as pkl_file:\n",
    "        pickle.dump(losses, pkl_file)\n",
    "    torch.save(qmodel.state_dict(), f\"model/layer1/model_layer1_{i+1}.pt\")\n",
    "    \n",
    "    print('-' * 20)"
   ]
  },
  {
   "cell_type": "code",
   "execution_count": 39,
   "id": "a2b62add",
   "metadata": {},
   "outputs": [
    {
     "data": {
      "text/plain": [
       "[<matplotlib.lines.Line2D at 0x17d66669eb0>]"
      ]
     },
     "execution_count": 39,
     "metadata": {},
     "output_type": "execute_result"
    },
    {
     "data": {
      "image/png": "[encoded data removed]",
      "text/plain": [
       "<Figure size 640x480 with 1 Axes>"
      ]
     },
     "metadata": {},
     "output_type": "display_data"
    }
   ],
   "source": [
    "import matplotlib.pyplot as plt\n",
    "\n",
    "plt.plot(losses, color=\"#FF6666\")"
   ]
  },
  {
   "cell_type": "code",
   "execution_count": 40,
   "id": "4f210f63",
   "metadata": {},
   "outputs": [
    {
     "name": "stdout",
     "output_type": "stream",
     "text": [
      "quantum paramers: 48\n"
     ]
    }
   ],
   "source": [
    "print(f'quantum paramers: {QLSTM(1, 1, ctx = ctx).qparameters_size}')"
   ]
  },
  {
   "cell_type": "code",
   "execution_count": 41,
   "id": "376498fe",
   "metadata": {},
   "outputs": [
    {
     "data": {
      "text/plain": [
       "[85.13998863740751]"
      ]
     },
     "execution_count": 41,
     "metadata": {},
     "output_type": "execute_result"
    }
   ],
   "source": [
    "accuarcies"
   ]
  },
  {
   "cell_type": "code",
   "execution_count": 40,
   "id": "4d92f71d",
   "metadata": {},
   "outputs": [
    {
     "data": {
      "text/plain": [
       "61.495089786273994"
      ]
     },
     "execution_count": 40,
     "metadata": {},
     "output_type": "execute_result"
    }
   ],
   "source": [
    "# 49.09517186730443\n",
    "# \n",
    "# [83.28042200996501,\n",
    "#  46.79652813010892,\n",
    "#  88.87307263991944,\n",
    "#  54.86488053929101,\n",
    "#  38.771207741033585,\n",
    "#  77.23666113945514,\n",
    "#  40.24725193003839,\n",
    "#  52.751618288438685,\n",
    "#  46.144399595830585,\n",
    "#  85.98485584865908]\n",
    "np.mean(accuarcies)"
   ]
  },
  {
   "cell_type": "code",
   "execution_count": 39,
   "id": "1216aa82",
   "metadata": {},
   "outputs": [
    {
     "data": {
      "text/plain": [
       "351.94433295726776"
      ]
     },
     "execution_count": 39,
     "metadata": {},
     "output_type": "execute_result"
    }
   ],
   "source": [
    "# 201.04187800884247\n",
    "np.mean(times)"
   ]
  },
  {
   "cell_type": "code",
   "execution_count": null,
   "id": "7195f3c4",
   "metadata": {},
   "outputs": [],
   "source": []
  }
 ],
 "metadata": {
  "kernelspec": {
   "display_name": "Python 3 (ipykernel)",
   "language": "python",
   "name": "python3"
  },
  "language_info": {
   "codemirror_mode": {
    "name": "ipython",
    "version": 3
   },
   "file_extension": ".py",
   "mimetype": "text/x-python",
   "name": "python",
   "nbconvert_exporter": "python",
   "pygments_lexer": "ipython3",
   "version": "3.8.13"
  }
 },
 "nbformat": 4,
 "nbformat_minor": 5
}
