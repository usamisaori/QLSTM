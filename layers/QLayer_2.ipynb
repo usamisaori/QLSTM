{
 "cells": [
  {
   "cell_type": "code",
   "execution_count": 1,
   "id": "6581af8d",
   "metadata": {},
   "outputs": [],
   "source": [
    "import math\n",
    "import time\n",
    "import pickle\n",
    "import pandas as pd\n",
    "import numpy as np"
   ]
  },
  {
   "cell_type": "code",
   "execution_count": 2,
   "id": "94243045",
   "metadata": {},
   "outputs": [],
   "source": [
    "import torch\n",
    "import sklearn"
   ]
  },
  {
   "cell_type": "code",
   "execution_count": 3,
   "id": "fff0ae78",
   "metadata": {},
   "outputs": [],
   "source": [
    "from pyqpanda import *"
   ]
  },
  {
   "cell_type": "code",
   "execution_count": 4,
   "id": "455c7f76",
   "metadata": {},
   "outputs": [],
   "source": [
    "%matplotlib inline"
   ]
  },
  {
   "cell_type": "markdown",
   "id": "2a618a3a",
   "metadata": {},
   "source": [
    "# 1. Prepare Dadaset"
   ]
  },
  {
   "cell_type": "code",
   "execution_count": 5,
   "id": "c64faba7",
   "metadata": {},
   "outputs": [],
   "source": [
    "# https://www.kaggle.com/datasets/sumanthvrao/daily-climate-time-series-data"
   ]
  },
  {
   "cell_type": "code",
   "execution_count": 6,
   "id": "de627766",
   "metadata": {},
   "outputs": [],
   "source": [
    "train_path = './../data/DailyDelhiClimateTrain.csv'\n",
    "test_path = './../data/DailyDelhiClimateTest.csv'"
   ]
  },
  {
   "cell_type": "code",
   "execution_count": 7,
   "id": "6d0827fb",
   "metadata": {},
   "outputs": [],
   "source": [
    "cols = [1,2,3,4]\n",
    "\n",
    "train = pd.read_csv(train_path, usecols=cols, engine=\"python\")\n",
    "test = pd.read_csv(test_path, usecols=cols, engine=\"python\")"
   ]
  },
  {
   "cell_type": "code",
   "execution_count": 8,
   "id": "5c3039c3",
   "metadata": {},
   "outputs": [
    {
     "name": "stdout",
     "output_type": "stream",
     "text": [
      "len(train)=1462\n",
      "len(test)=114\n"
     ]
    }
   ],
   "source": [
    "print(f'len(train)={len(train)}')\n",
    "print(f'len(test)={len(test)}')"
   ]
  },
  {
   "cell_type": "markdown",
   "id": "b941db2e",
   "metadata": {},
   "source": [
    "## 1.1 Outlier Detection"
   ]
  },
  {
   "cell_type": "code",
   "execution_count": 9,
   "id": "e59fddc0",
   "metadata": {},
   "outputs": [
    {
     "name": "stdout",
     "output_type": "stream",
     "text": [
      "remove outliers num: 9\n"
     ]
    }
   ],
   "source": [
    "unnormal_num = 0\n",
    "for i in range(len(train)):\n",
    "    mp = train.iloc[i][3]\n",
    "    if mp > 1200 or mp < 950:\n",
    "        unnormal_num += 1\n",
    "        train.iloc[i][3] = train.iloc[i + 1][3]\n",
    "print(f'remove outliers num: {unnormal_num}')"
   ]
  },
  {
   "cell_type": "code",
   "execution_count": 10,
   "id": "5fefec4f",
   "metadata": {},
   "outputs": [],
   "source": [
    "test.iloc[0][3] = test.iloc[1][3]"
   ]
  },
  {
   "cell_type": "markdown",
   "id": "6035297e",
   "metadata": {},
   "source": [
    "## 1.2 Transfer data to LSTM representation"
   ]
  },
  {
   "cell_type": "code",
   "execution_count": 11,
   "id": "4a1277fc",
   "metadata": {},
   "outputs": [],
   "source": [
    "from sklearn.preprocessing import StandardScaler"
   ]
  },
  {
   "cell_type": "code",
   "execution_count": 12,
   "id": "884bc13f",
   "metadata": {},
   "outputs": [],
   "source": [
    "def data_process(data, window_size, predict_size):\n",
    "    scaler = StandardScaler()\n",
    "    data = scaler.fit_transform(np.array(data).reshape(-1, 1))\n",
    "    \n",
    "    data_in = []\n",
    "    data_out = []\n",
    "    \n",
    "    for i in range(data.shape[0] - window_size - predict_size):\n",
    "        data_in.append(data[i:i + window_size].reshape(1, window_size)[0])\n",
    "        data_out.append(data[i + window_size:i + window_size + predict_size].reshape(1, predict_size)[0])\n",
    "        \n",
    "    data_in = np.array(data_in).reshape(-1, window_size)\n",
    "    data_out = np.array(data_out).reshape(-1, predict_size)\n",
    "    \n",
    "    data_process = {'datain': data_in, 'dataout': data_out}\n",
    "    \n",
    "    return data_process, scaler"
   ]
  },
  {
   "cell_type": "markdown",
   "id": "6517fe60",
   "metadata": {},
   "source": [
    "## 1.3 prepare train/test dataset"
   ]
  },
  {
   "cell_type": "code",
   "execution_count": 13,
   "id": "d333c7bc",
   "metadata": {},
   "outputs": [],
   "source": [
    "features_size = 4\n",
    "window_size = features_size * 3 # features num * time steps\n",
    "predict_size = features_size # features"
   ]
  },
  {
   "cell_type": "code",
   "execution_count": 14,
   "id": "0ef548b3",
   "metadata": {},
   "outputs": [],
   "source": [
    "train_processed, train_scaler = data_process(train, window_size, predict_size)\n",
    "X_train, y_train = train_processed['datain'], train_processed['dataout']\n",
    "\n",
    "test_processed, test_scaler = data_process(test, window_size, predict_size)\n",
    "X_test, y_test = test_processed['datain'], test_processed['dataout']"
   ]
  },
  {
   "cell_type": "code",
   "execution_count": 15,
   "id": "f779325c",
   "metadata": {},
   "outputs": [],
   "source": [
    "X_train = torch.from_numpy(X_train.astype(np.float32))\n",
    "X_test = torch.from_numpy(X_test.astype(np.float32))\n",
    "\n",
    "y_train = torch.from_numpy(y_train.astype(np.float32))\n",
    "y_test = torch.from_numpy(y_test.astype(np.float32))"
   ]
  },
  {
   "cell_type": "code",
   "execution_count": 16,
   "id": "dda516d1",
   "metadata": {},
   "outputs": [],
   "source": [
    "import torch.utils.data as Data\n",
    "\n",
    "train_data = Data.TensorDataset(X_train, y_train)\n",
    "test_data = Data.TensorDataset(X_test, y_test)"
   ]
  },
  {
   "cell_type": "markdown",
   "id": "70cb132c",
   "metadata": {},
   "source": [
    "# 2. Quantum Enhanced LSTM"
   ]
  },
  {
   "cell_type": "markdown",
   "id": "d517f5f3",
   "metadata": {},
   "source": [
    "## 2.1 initiate quantum environment"
   ]
  },
  {
   "cell_type": "code",
   "execution_count": 17,
   "id": "ffc85d3f",
   "metadata": {},
   "outputs": [],
   "source": [
    "class InitQMachine:\n",
    "    def __init__(self, qubitsCount, cbitsCount = 0, machineType = QMachineType.CPU):\n",
    "        self.machine = init_quantum_machine(machineType)\n",
    "        \n",
    "        self.qubits = self.machine.qAlloc_many(qubitsCount)\n",
    "        self.cbits = self.machine.cAlloc_many(cbitsCount)\n",
    "        \n",
    "        print(f'Init Quantum Machine with qubits:[{qubitsCount}] / cbits:[{cbitsCount}] Successfully')\n",
    "    \n",
    "    def __del__(self):\n",
    "        destroy_quantum_machine(self.machine)"
   ]
  },
  {
   "cell_type": "code",
   "execution_count": 18,
   "id": "741a6a13",
   "metadata": {},
   "outputs": [
    {
     "name": "stdout",
     "output_type": "stream",
     "text": [
      "Init Quantum Machine with qubits:[4] / cbits:[0] Successfully\n"
     ]
    }
   ],
   "source": [
    "# maximum qubits size\n",
    "ctx = InitQMachine(4)"
   ]
  },
  {
   "cell_type": "markdown",
   "id": "63a39cf3",
   "metadata": {},
   "source": [
    "## 2.2 Quantum Layer"
   ]
  },
  {
   "cell_type": "markdown",
   "id": "e63b029d",
   "metadata": {},
   "source": [
    "### 2.2.1 Quantum layer base"
   ]
  },
  {
   "cell_type": "code",
   "execution_count": 19,
   "id": "5570e76d",
   "metadata": {},
   "outputs": [],
   "source": [
    "import torch.nn as nn\n",
    "from torch import Tensor\n",
    "from torch.nn import Parameter"
   ]
  },
  {
   "cell_type": "code",
   "execution_count": 20,
   "id": "4f9cfd0b",
   "metadata": {},
   "outputs": [],
   "source": [
    "class QuantumLayerBase(nn.Module):\n",
    "    def __init__(self, input_size, output_size, *, n_qubits, n_layers = 1, ctx = None):\n",
    "        super(QuantumLayerBase, self).__init__()\n",
    "        \n",
    "        self.data = None # need to input during forward\n",
    "    \n",
    "        self.input_size = input_size\n",
    "        self.output_size = output_size # hidden size, not n_qubits\n",
    "        \n",
    "        # quantum infos\n",
    "        self.n_qubits = n_qubits\n",
    "        self.n_layers = n_layers\n",
    "        \n",
    "        self.ctx = ctx\n",
    "        self.qubits = ctx.qubits\n",
    "        self.machine = ctx.machine\n",
    "        \n",
    "        # convert quantum input/output to match classical computation\n",
    "        self.qin = nn.Linear(self.input_size, self.n_qubits)\n",
    "        self.qout = nn.Linear(self.n_qubits, self.output_size)\n",
    "        \n",
    "    @property\n",
    "    def circuit(self):\n",
    "        raise NotImplementedError('Should init circuit')"
   ]
  },
  {
   "cell_type": "code",
   "execution_count": 21,
   "id": "94c5bbcf",
   "metadata": {},
   "outputs": [],
   "source": [
    "def measure(self):\n",
    "    HamiZ = [ PauliOperator({f'Z{i}': 1}) for i in range(len(self.qubits)) ]\n",
    "    res = [ eval(qop(self.circuit, Hami, self.machine, self.qubits))[0,0] for Hami in HamiZ ]\n",
    "    \n",
    "    return Parameter(Tensor(res[:self.n_qubits]))\n",
    "\n",
    "QuantumLayerBase.measure = measure"
   ]
  },
  {
   "cell_type": "code",
   "execution_count": 22,
   "id": "4341341c",
   "metadata": {},
   "outputs": [],
   "source": [
    "def forward(self, inputs):\n",
    "    y_t = self.qin(Parameter(inputs))\n",
    "    self.data = y_t[0]\n",
    "    \n",
    "    return self.qout(self.measure())\n",
    "\n",
    "QuantumLayerBase.forward = forward"
   ]
  },
  {
   "cell_type": "markdown",
   "id": "fd4f794b",
   "metadata": {},
   "source": [
    "### 2.2.2 Quantum layer design"
   ]
  },
  {
   "cell_type": "code",
   "execution_count": 23,
   "id": "b98a8984",
   "metadata": {},
   "outputs": [],
   "source": [
    "class QuantumLayer(QuantumLayerBase):\n",
    "    def __init__(self, input_size, output_size, *, n_qubits, degree = 1, n_layers = 1, ctx = None):\n",
    "        super(QuantumLayer, self).__init__(input_size, output_size, \n",
    "                                         n_qubits = n_qubits, n_layers = n_layers, ctx = ctx)\n",
    "        \n",
    "        self.degree = degree\n",
    "        self.angles = Parameter(torch.rand(n_layers + 1, degree, self.n_qubits))\n",
    "        \n",
    "    @property\n",
    "    def qparameters_size(self):\n",
    "        return self.angles.flatten().size()[0]\n",
    "        \n",
    "    @property\n",
    "    def circuit(self):\n",
    "        if self.data == None:\n",
    "            raise ValueError('Need to feed a input data!')\n",
    "        \n",
    "        n = self.n_qubits\n",
    "        q = self.qubits\n",
    "        x = self.data\n",
    "        p = self.angles\n",
    "        degree = self.degree\n",
    "        \n",
    "        h = VariationalQuantumGate_H\n",
    "        ry = VariationalQuantumGate_RY\n",
    "        cz = VariationalQuantumGate_CZ\n",
    "        u = [\n",
    "            None,\n",
    "            VariationalQuantumGate_U1,\n",
    "            VariationalQuantumGate_U2,\n",
    "            VariationalQuantumGate_U3\n",
    "        ]\n",
    "        \n",
    "        # init variational quantum circuit\n",
    "        vqc = VariationalQuantumCircuit()\n",
    "\n",
    "        # encoding layer\n",
    "        [ vqc.insert( h(q[i]) ) for i in range(n) ]\n",
    "        [ vqc.insert( ry(q[i], var(x[i] * torch.pi / 2)) ) for i in range(n) ]\n",
    "        \n",
    "        # variational layer\n",
    "        [ vqc.insert( u[degree](q[i], *[ var(p[0][d][i]) for d in range(degree) ]) ) \n",
    "                 for i in range(n) ]\n",
    "        \n",
    "        for layer in range(self.n_layers):\n",
    "            for i in range(n - 1):\n",
    "                vqc.insert(cz(q[i], q[i + 1]))\n",
    "            vqc.insert(cz(q[n - 1], q[0]))\n",
    "            \n",
    "            [ vqc.insert( u[degree](q[i], *[ var(p[layer + 1][d][i]) for d in range(degree) ]) ) \n",
    "                 for i in range(n) ]\n",
    "        \n",
    "        return vqc"
   ]
  },
  {
   "cell_type": "markdown",
   "id": "fd3156df",
   "metadata": {},
   "source": [
    "### 2.2.3 Plot Quantum Layer"
   ]
  },
  {
   "cell_type": "code",
   "execution_count": 24,
   "id": "dd16d64c",
   "metadata": {},
   "outputs": [
    {
     "data": {
      "text/plain": [
       "<pyqpanda.pyQPanda.QProg at 0x166a62cba70>"
      ]
     },
     "execution_count": 24,
     "metadata": {},
     "output_type": "execute_result"
    }
   ],
   "source": [
    "data = Tensor([[0.1, 0.2, 0.3, 0.4]])\n",
    "layer = QuantumLayer(4, 4, n_qubits=4, n_layers=1, degree=3, ctx=ctx)\n",
    "layer.data = data[0]\n",
    "vqc = layer.circuit\n",
    "prog = create_empty_qprog()\n",
    "prog.insert(vqc.feed())"
   ]
  },
  {
   "cell_type": "code",
   "execution_count": 25,
   "id": "f82266f7",
   "metadata": {},
   "outputs": [
    {
     "data": {
      "text/plain": [
       "'null'"
      ]
     },
     "execution_count": 25,
     "metadata": {},
     "output_type": "execute_result"
    }
   ],
   "source": [
    "draw_qprog(prog, 'pic', filename=f'pic/layer2')"
   ]
  },
  {
   "cell_type": "markdown",
   "id": "50742459",
   "metadata": {},
   "source": [
    "## 2.3 Quantum-LSTM"
   ]
  },
  {
   "cell_type": "code",
   "execution_count": 26,
   "id": "e53ae0ad",
   "metadata": {},
   "outputs": [],
   "source": [
    "class QLSTMBase(nn.Module):\n",
    "    def __init__(self, input_size, hidden_size, *, ctx):\n",
    "        super().__init__()\n",
    "        \n",
    "        self.input_size = input_size\n",
    "        self.hidden_size = hidden_size\n",
    "        self.ctx = ctx\n",
    "        \n",
    "    @property\n",
    "    def qparameters_size(self):\n",
    "        num = 0\n",
    "        for attr in dir(self):\n",
    "            if attr.endswith('_circuit'):\n",
    "                num += getattr(self, attr).qparameters_size\n",
    "        return num"
   ]
  },
  {
   "cell_type": "code",
   "execution_count": 27,
   "id": "582b17af",
   "metadata": {},
   "outputs": [],
   "source": [
    "def forward(self, inputs, init_states = None):\n",
    "    sequence_size, batch_size, _ = inputs.size()\n",
    "    hidden_sequence = []\n",
    "    \n",
    "    if init_states == None:\n",
    "        h_t, c_t = (\n",
    "            torch.zeros(1, batch_size, self.hidden_size).to(inputs.device),\n",
    "            torch.zeros(1, batch_size, self.hidden_size).to(inputs.device),\n",
    "        )\n",
    "    else:\n",
    "        h_t, c_t = init_states\n",
    "    \n",
    "    return hidden_sequence, (h_t, c_t)\n",
    "\n",
    "QLSTMBase.forward = forward"
   ]
  },
  {
   "cell_type": "markdown",
   "id": "63d6b0af",
   "metadata": {},
   "source": [
    "## - classical quatum enhanced LSTM"
   ]
  },
  {
   "cell_type": "code",
   "execution_count": 71,
   "id": "adc8fb35",
   "metadata": {},
   "outputs": [],
   "source": [
    "class QLSTM(QLSTMBase):\n",
    "    def __init__(self, input_size, hidden_size, *, ctx):\n",
    "        super().__init__(input_size, hidden_size, ctx = ctx)\n",
    "    \n",
    "        # input gates\n",
    "        self.input_circuit = QuantumLayer(input_size + hidden_size, hidden_size, \n",
    "                                        n_qubits = 4, degree = 3, ctx = ctx) # 15\n",
    "        # forget gates\n",
    "        self.forget_circuit = QuantumLayer(input_size + hidden_size, hidden_size, \n",
    "                                         n_qubits = 4, degree = 3, ctx = ctx) # 15\n",
    "        # candidate\n",
    "        self.candidate_circuit = QuantumLayer(input_size + hidden_size, hidden_size, \n",
    "                                       n_qubits = 4, degree = 3, ctx = ctx) # 15\n",
    "        # output gates\n",
    "        self.output_circuit = QuantumLayer(input_size + hidden_size, hidden_size, \n",
    "                                         n_qubits = 4, degree = 3, ctx = ctx) # 15\n",
    "        \n",
    "    def forward(self, inputs, init_states = None):\n",
    "        hidden_sequence, (h_t, c_t) = super(QLSTM, self).forward(inputs, init_states)\n",
    "\n",
    "        for t in range(inputs.size()[0]):\n",
    "            x_t = inputs[t, :, :]\n",
    "            v_t = torch.cat((h_t[0], x_t), dim = 1)\n",
    "\n",
    "            # input gates\n",
    "            i_t = torch.sigmoid(self.input_circuit(v_t))\n",
    "            # forget gates\n",
    "            f_t = torch.sigmoid(self.forget_circuit(v_t))\n",
    "            # candidate for cell state update\n",
    "            g_t = torch.tanh(self.candidate_circuit(v_t))\n",
    "            c_t = (f_t * c_t) + (i_t * g_t)\n",
    "\n",
    "            # output gates\n",
    "            o_t = torch.sigmoid(self.output_circuit(v_t))\n",
    "            # update output ht\n",
    "            h_t = o_t * (torch.tanh(c_t))\n",
    "\n",
    "            hidden_sequence.append(h_t)\n",
    "\n",
    "        # reshape hidden_seq p/ retornar\n",
    "        #\n",
    "        # [tensor([[[0.0444, ...]]] => tensor([[[0.0444, ...]]]\n",
    "        # \n",
    "        hidden_sequence = torch.cat(hidden_sequence, dim = 0)\n",
    "\n",
    "        return hidden_sequence, (h_t, c_t)"
   ]
  },
  {
   "cell_type": "markdown",
   "id": "28836475",
   "metadata": {},
   "source": [
    "## 2.4 Stacked QLSTM"
   ]
  },
  {
   "cell_type": "code",
   "execution_count": 72,
   "id": "9ec06c93",
   "metadata": {},
   "outputs": [],
   "source": [
    "from collections import OrderedDict\n",
    "\n",
    "class StackedQLSTM(nn.Module):\n",
    "    def __init__(self, input_size, hidden_size, *, num_layers = 1, ctx = None, mode = 'classical'):\n",
    "        super().__init__()\n",
    "        \n",
    "        self.qlstms = nn.Sequential(OrderedDict([\n",
    "            (f'QLSTM {i + 1}', QLSTM(input_size if i == 0 else hidden_size , hidden_size, ctx = ctx)) \n",
    "                for i in range(num_layers)\n",
    "        ]))\n",
    "\n",
    "    def forward(self, inputs, parameters = None):\n",
    "        outputs = None\n",
    "        \n",
    "        for i, qlstm in enumerate(self.qlstms):\n",
    "            if i != 0:\n",
    "                inputs = outputs\n",
    "            \n",
    "            outputs, parameters = qlstm(inputs, parameters)\n",
    "        \n",
    "        return outputs, parameters"
   ]
  },
  {
   "cell_type": "markdown",
   "id": "0389535c",
   "metadata": {},
   "source": [
    "# 3. Quantum Model and Train"
   ]
  },
  {
   "cell_type": "code",
   "execution_count": 73,
   "id": "413150bd",
   "metadata": {},
   "outputs": [],
   "source": [
    "class QModel(nn.Module):\n",
    "    def __init__(self, input_size, hidden_size, num_output, *, num_layers = 1, ctx = None, mode = 'classical'):\n",
    "        super(QModel, self).__init__()\n",
    "        \n",
    "        self.hidden_size = hidden_size\n",
    "        self.num_layers = num_layers\n",
    "        \n",
    "        self.qlstm = StackedQLSTM(input_size, hidden_size, \n",
    "                                  num_layers = num_layers, ctx = ctx, mode = mode)\n",
    "        self.predict = nn.Linear(hidden_size, num_output)\n",
    "\n",
    "    def forward(self, x):\n",
    "        x = x.unsqueeze(0)\n",
    "        \n",
    "        # sequence lenth , batch_size, features length\n",
    "        # \n",
    "        h0 = torch.zeros(1, x.size(1), self.hidden_size)\n",
    "        c0 = torch.zeros(1, x.size(1), self.hidden_size)\n",
    "        \n",
    "        out, _ = self.qlstm(x, (h0, c0))\n",
    "        out = self.predict(out[0])\n",
    "        \n",
    "        return out"
   ]
  },
  {
   "cell_type": "markdown",
   "id": "111aebe4",
   "metadata": {},
   "source": [
    "## 3.1 train QModel"
   ]
  },
  {
   "cell_type": "code",
   "execution_count": 74,
   "id": "bc1d1439",
   "metadata": {},
   "outputs": [],
   "source": [
    "from torch.utils.data import RandomSampler\n",
    "\n",
    "def train_model(model, datas, batch_size, *, loss_func, optimizer, epoch = 50):\n",
    "    losses = []\n",
    "    sampler = RandomSampler(datas, num_samples = batch_size)\n",
    "    \n",
    "    for step in range(epoch):\n",
    "        train_loss = 0.0\n",
    "        \n",
    "        for index in sampler:\n",
    "            batch_x, batch_y = datas[index][0], datas[index][1]\n",
    "            b_x = batch_x.unsqueeze(0)\n",
    "            b_y = batch_y.unsqueeze(0)\n",
    "            \n",
    "            output = model(b_x)\n",
    "\n",
    "            loss = loss_func(output, b_y)\n",
    "            optimizer.zero_grad()\n",
    "            loss.backward()\n",
    "            optimizer.step()\n",
    "\n",
    "            train_loss += loss.item()\n",
    "\n",
    "        print(f'Epoch {step + 1}/{epoch}: Loss: {train_loss / batch_size}')\n",
    "        losses.append(train_loss / batch_size)\n",
    "    \n",
    "    return losses"
   ]
  },
  {
   "cell_type": "markdown",
   "id": "ef07934f",
   "metadata": {},
   "source": [
    "## 3.2 Evaluate Model"
   ]
  },
  {
   "cell_type": "code",
   "execution_count": 75,
   "id": "57e9b387",
   "metadata": {},
   "outputs": [],
   "source": [
    "from sklearn.metrics import mean_squared_error, mean_absolute_error, mean_absolute_percentage_error\n",
    "\n",
    "def MAE_naive(actuals, predicteds):\n",
    "    n = len(actuals)\n",
    "    err = 0.0\n",
    "    \n",
    "    for i in range(1, n):\n",
    "        err += np.abs(actuals[i] - actuals[i - 1])\n",
    "    return err / (n - 1)\n",
    "\n",
    "def calculate_accuarcy(model, X_test, y_test, scaler=test_scaler):\n",
    "    n = len(X_test)\n",
    "    \n",
    "    actuals = []\n",
    "    predicteds = []\n",
    "    \n",
    "    for i in range(0, n, predict_size):\n",
    "        actual = scaler.inverse_transform(y_test[i:i+1].data)\n",
    "        actuals.append(np.array(actual[0]))\n",
    "        predicted = scaler.inverse_transform(model(X_test[i:i+1]).data)\n",
    "        predicteds.append(np.array(predicted[0]))\n",
    "    \n",
    "    actuals = np.array(actuals)\n",
    "    predicteds = np.array(predicteds)\n",
    "    \n",
    "    mae = mean_absolute_error(actuals, predicteds)\n",
    "    mase = mae / MAE_naive(actuals.flatten(), predicteds.flatten())\n",
    "    mape = mean_absolute_percentage_error(actuals, predicteds)\n",
    "    mse = mean_squared_error(actuals, predicteds)\n",
    "    rmse = mse ** 0.5\n",
    "    \n",
    "    return np.array([(1 - mase) * 100, rmse, mse, mae, mape])"
   ]
  },
  {
   "cell_type": "markdown",
   "id": "6407f969",
   "metadata": {},
   "source": [
    "## 3.3 Train Model"
   ]
  },
  {
   "cell_type": "code",
   "execution_count": 76,
   "id": "305c9471",
   "metadata": {},
   "outputs": [],
   "source": [
    "features_size = 4\n",
    "window_size = features_size * 3 # \n",
    "predict_size = features_size # features\n",
    "\n",
    "input_size = window_size\n",
    "num_output = predict_size\n",
    "\n",
    "hidden_size = 32\n",
    "num_layers = 2"
   ]
  },
  {
   "cell_type": "code",
   "execution_count": 78,
   "id": "79660b22",
   "metadata": {
    "scrolled": true
   },
   "outputs": [
    {
     "name": "stdout",
     "output_type": "stream",
     "text": [
      "training epoch: 1\n",
      "Epoch 1/200: Loss: 1.0071428060531615\n",
      "Epoch 2/200: Loss: 0.9636303097009659\n",
      "Epoch 3/200: Loss: 1.0449674546718597\n",
      "Epoch 4/200: Loss: 1.007233190536499\n",
      "Epoch 5/200: Loss: 1.026509341597557\n",
      "Epoch 6/200: Loss: 0.9678881078958511\n",
      "Epoch 7/200: Loss: 0.9599214315414428\n",
      "Epoch 8/200: Loss: 0.9792125314474106\n",
      "Epoch 9/200: Loss: 0.9608184963464736\n",
      "Epoch 10/200: Loss: 0.943603390455246\n",
      "Epoch 11/200: Loss: 0.9173219919204711\n",
      "Epoch 12/200: Loss: 0.9313246309757233\n",
      "Epoch 13/200: Loss: 0.9157268345355988\n",
      "Epoch 14/200: Loss: 0.8935758650302887\n",
      "Epoch 15/200: Loss: 0.8797374784946441\n",
      "Epoch 16/200: Loss: 0.8550695538520813\n",
      "Epoch 17/200: Loss: 0.7922266542911529\n",
      "Epoch 18/200: Loss: 0.7883871495723724\n",
      "Epoch 19/200: Loss: 0.734552139043808\n",
      "Epoch 20/200: Loss: 0.7250767886638642\n",
      "Epoch 21/200: Loss: 0.660784849524498\n",
      "Epoch 22/200: Loss: 0.7006742566823959\n",
      "Epoch 23/200: Loss: 0.6759411081671715\n",
      "Epoch 24/200: Loss: 0.625003182888031\n",
      "Epoch 25/200: Loss: 0.561445240676403\n",
      "Epoch 26/200: Loss: 0.5705149874091149\n",
      "Epoch 27/200: Loss: 0.5028928637504577\n",
      "Epoch 28/200: Loss: 0.48608430922031404\n",
      "Epoch 29/200: Loss: 0.5399204954504967\n",
      "Epoch 30/200: Loss: 0.45191391557455063\n",
      "Epoch 31/200: Loss: 0.34956617951393126\n",
      "Epoch 32/200: Loss: 0.46723504066467286\n",
      "Epoch 33/200: Loss: 0.3971219450235367\n",
      "Epoch 34/200: Loss: 0.38095556050539015\n",
      "Epoch 35/200: Loss: 0.3374880425632\n",
      "Epoch 36/200: Loss: 0.33038275167346\n",
      "Epoch 37/200: Loss: 0.28794058337807654\n",
      "Epoch 38/200: Loss: 0.32502190992236135\n",
      "Epoch 39/200: Loss: 0.36011582165956496\n",
      "Epoch 40/200: Loss: 0.28797894194722173\n",
      "Epoch 41/200: Loss: 0.33464512676000596\n",
      "Epoch 42/200: Loss: 0.2597548499703407\n",
      "Epoch 43/200: Loss: 0.25197627022862434\n",
      "Epoch 44/200: Loss: 0.230638637393713\n",
      "Epoch 45/200: Loss: 0.20774255581200124\n",
      "Epoch 46/200: Loss: 0.174972465634346\n",
      "Epoch 47/200: Loss: 0.2168922457844019\n",
      "Epoch 48/200: Loss: 0.23534803204238414\n",
      "Epoch 49/200: Loss: 0.20213972069323063\n",
      "Epoch 50/200: Loss: 0.22028120830655099\n",
      "Epoch 51/200: Loss: 0.17468971824273466\n",
      "Epoch 52/200: Loss: 0.193614864628762\n",
      "Epoch 53/200: Loss: 0.19361606873571874\n",
      "Epoch 54/200: Loss: 0.13766767214983702\n",
      "Epoch 55/200: Loss: 0.22207897007465363\n",
      "Epoch 56/200: Loss: 0.1259817672893405\n",
      "Epoch 57/200: Loss: 0.1383504734840244\n",
      "Epoch 58/200: Loss: 0.11975502441637217\n",
      "Epoch 59/200: Loss: 0.11751427659764886\n",
      "Epoch 60/200: Loss: 0.11663934048265219\n",
      "Epoch 61/200: Loss: 0.09582885999698192\n",
      "Epoch 62/200: Loss: 0.07340411515906453\n",
      "Epoch 63/200: Loss: 0.11233817823231221\n",
      "Epoch 64/200: Loss: 0.13123449869453907\n",
      "Epoch 65/200: Loss: 0.08326080583501608\n",
      "Epoch 66/200: Loss: 0.08512231975328177\n",
      "Epoch 67/200: Loss: 0.07830559681169688\n",
      "Epoch 68/200: Loss: 0.06020208119880408\n",
      "Epoch 69/200: Loss: 0.057853221287950875\n",
      "Epoch 70/200: Loss: 0.04554215045645833\n",
      "Epoch 71/200: Loss: 0.046643901825882496\n",
      "Epoch 72/200: Loss: 0.042749249981716274\n",
      "Epoch 73/200: Loss: 0.031006750714732335\n",
      "Epoch 74/200: Loss: 0.03581741275265813\n",
      "Epoch 75/200: Loss: 0.023670531646348535\n",
      "Epoch 76/200: Loss: 0.01725852065719664\n",
      "Epoch 77/200: Loss: 0.019023388164350764\n",
      "Epoch 78/200: Loss: 0.023720430111279712\n",
      "Epoch 79/200: Loss: 0.02016267513972707\n",
      "Epoch 80/200: Loss: 0.01258737783646211\n",
      "Epoch 81/200: Loss: 0.01313083084387472\n",
      "Epoch 82/200: Loss: 0.009213298893882893\n",
      "Epoch 83/200: Loss: 0.005625110096298158\n",
      "Epoch 84/200: Loss: 0.005713945758179762\n",
      "Epoch 85/200: Loss: 0.007257945733726956\n",
      "Epoch 86/200: Loss: 0.006701470628468087\n",
      "Epoch 87/200: Loss: 0.0050509684515418485\n",
      "Epoch 88/200: Loss: 0.005777807327103801\n",
      "Epoch 89/200: Loss: 0.002584632499201689\n",
      "Epoch 90/200: Loss: 0.002546620367502328\n",
      "Epoch 91/200: Loss: 0.0023902785760583356\n",
      "Epoch 92/200: Loss: 0.0016273141884084908\n",
      "Epoch 93/200: Loss: 0.0017982631929044147\n",
      "Epoch 94/200: Loss: 0.0011655518203042448\n",
      "Epoch 95/200: Loss: 0.0007915808651887346\n",
      "Epoch 96/200: Loss: 0.0008086398286195617\n",
      "Epoch 97/200: Loss: 0.0013772747057373635\n",
      "Epoch 98/200: Loss: 0.0010835478955414147\n",
      "Epoch 99/200: Loss: 0.0008253374219748366\n",
      "Epoch 100/200: Loss: 0.0005766382684669225\n",
      "Epoch 101/200: Loss: 0.0009574464871548116\n",
      "Epoch 102/200: Loss: 0.0009183882211800665\n",
      "Epoch 103/200: Loss: 0.0008023381011298625\n",
      "Epoch 104/200: Loss: 0.0008306756433739792\n",
      "Epoch 105/200: Loss: 0.0007299626278836513\n",
      "Epoch 106/200: Loss: 0.0005615294781819103\n",
      "Epoch 107/200: Loss: 0.0005315566188073717\n",
      "Epoch 108/200: Loss: 0.0007327895111302496\n",
      "Epoch 109/200: Loss: 0.00040285930190293585\n",
      "Epoch 110/200: Loss: 0.0007435912000801181\n",
      "Epoch 111/200: Loss: 0.0004990365687717712\n",
      "Epoch 112/200: Loss: 0.0004483495114982361\n",
      "Epoch 113/200: Loss: 0.0006366645913658431\n",
      "Epoch 114/200: Loss: 0.0005356498582841596\n",
      "Epoch 115/200: Loss: 0.0007076562855218071\n",
      "Epoch 116/200: Loss: 0.0006635195422859397\n",
      "Epoch 117/200: Loss: 0.0006669434419563913\n",
      "Epoch 118/200: Loss: 0.0008872989787050755\n",
      "Epoch 119/200: Loss: 0.0007198875460744603\n",
      "Epoch 120/200: Loss: 0.000583363784244284\n",
      "Epoch 121/200: Loss: 0.0005508132562681567\n",
      "Epoch 122/200: Loss: 0.0006050733787560603\n",
      "Epoch 123/200: Loss: 0.00036394320050021635\n",
      "Epoch 124/200: Loss: 0.00038046684876462676\n",
      "Epoch 125/200: Loss: 0.0008559256088119582\n",
      "Epoch 126/200: Loss: 0.0005596533472271403\n",
      "Epoch 127/200: Loss: 0.0005525490061700112\n",
      "Epoch 128/200: Loss: 0.0005048170898589888\n",
      "Epoch 129/200: Loss: 0.0005369061102101114\n",
      "Epoch 130/200: Loss: 0.0007224860124551924\n",
      "Epoch 131/200: Loss: 0.0005251245976978681\n",
      "Epoch 132/200: Loss: 0.0005505484636159963\n",
      "Epoch 133/200: Loss: 0.0004300021944800392\n",
      "Epoch 134/200: Loss: 0.000642280690590269\n",
      "Epoch 135/200: Loss: 0.0006041783406544709\n",
      "Epoch 136/200: Loss: 0.000937547157627705\n",
      "Epoch 137/200: Loss: 0.0005545934376641526\n",
      "Epoch 138/200: Loss: 0.0007897945768490899\n",
      "Epoch 139/200: Loss: 0.0006169345560920192\n",
      "Epoch 140/200: Loss: 0.0008516040217728005\n",
      "Epoch 141/200: Loss: 0.0006262502114623203\n",
      "Epoch 142/200: Loss: 0.0006439449908612005\n",
      "Epoch 143/200: Loss: 0.0007251768223795807\n",
      "Epoch 144/200: Loss: 0.000837828410021757\n",
      "Epoch 145/200: Loss: 0.00036245027076802215\n",
      "Epoch 146/200: Loss: 0.0004926682934183191\n",
      "Epoch 147/200: Loss: 0.0007007242089457577\n",
      "Epoch 148/200: Loss: 0.0009659696097514825\n",
      "Epoch 149/200: Loss: 0.00047519682593701875\n",
      "Epoch 150/200: Loss: 0.0006248835154110566\n",
      "Epoch 151/200: Loss: 0.0010811628810188268\n",
      "Epoch 152/200: Loss: 0.0007021557967163972\n",
      "Epoch 153/200: Loss: 0.0005224513335519987\n",
      "Epoch 154/200: Loss: 0.0005722903087644227\n",
      "Epoch 155/200: Loss: 0.000704251748175011\n",
      "Epoch 156/200: Loss: 0.00035281141736049905\n",
      "Epoch 157/200: Loss: 0.000698692391597433\n",
      "Epoch 158/200: Loss: 0.0007532789943070384\n",
      "Epoch 159/200: Loss: 0.0004513630049132189\n",
      "Epoch 160/200: Loss: 0.000494563705251494\n",
      "Epoch 161/200: Loss: 0.0005359171436793986\n",
      "Epoch 162/200: Loss: 0.0005556293286645087\n",
      "Epoch 163/200: Loss: 0.0006117729333709576\n",
      "Epoch 164/200: Loss: 0.0003832881802736665\n",
      "Epoch 165/200: Loss: 0.0007474610967619811\n",
      "Epoch 166/200: Loss: 0.0007832123133994173\n",
      "Epoch 167/200: Loss: 0.0005786553905636538\n",
      "Epoch 168/200: Loss: 0.0005307714063746971\n",
      "Epoch 169/200: Loss: 0.0006345906226215448\n",
      "Epoch 170/200: Loss: 0.0006537732850119937\n",
      "Epoch 171/200: Loss: 0.0008513990327628562\n",
      "Epoch 172/200: Loss: 0.0007145737901737448\n",
      "Epoch 173/200: Loss: 0.000730624306743266\n",
      "Epoch 174/200: Loss: 0.000502648824294738\n",
      "Epoch 175/200: Loss: 0.0006909026120411\n",
      "Epoch 176/200: Loss: 0.0004907011408249673\n",
      "Epoch 177/200: Loss: 0.0007879388977016788\n",
      "Epoch 178/200: Loss: 0.0007155037929351237\n",
      "Epoch 179/200: Loss: 0.0005630478568491526\n",
      "Epoch 180/200: Loss: 0.0007132659113267437\n",
      "Epoch 181/200: Loss: 0.0005154913921842308\n",
      "Epoch 182/200: Loss: 0.0007280518329935148\n",
      "Epoch 183/200: Loss: 0.0008168120079062646\n",
      "Epoch 184/200: Loss: 0.0006786100948374951\n",
      "Epoch 185/200: Loss: 0.0005765531888755504\n",
      "Epoch 186/200: Loss: 0.0007175225564424181\n",
      "Epoch 187/200: Loss: 0.0009905122709824355\n",
      "Epoch 188/200: Loss: 0.0006088846066631959\n",
      "Epoch 189/200: Loss: 0.0006183272445923649\n",
      "Epoch 190/200: Loss: 0.0007619534289915464\n",
      "Epoch 191/200: Loss: 0.00075242819802952\n",
      "Epoch 192/200: Loss: 0.00039853322432463755\n",
      "Epoch 193/200: Loss: 0.0003988331876826123\n",
      "Epoch 194/200: Loss: 0.0005002040499675787\n",
      "Epoch 195/200: Loss: 0.0004216845745759201\n",
      "Epoch 196/200: Loss: 0.0005623443546937778\n",
      "Epoch 197/200: Loss: 0.000738557952172414\n",
      "Epoch 198/200: Loss: 0.0006422444858344533\n"
     ]
    },
    {
     "name": "stdout",
     "output_type": "stream",
     "text": [
      "Epoch 199/200: Loss: 0.0006617562416067812\n",
      "Epoch 200/200: Loss: 0.0006283891823841258\n",
      "time costs: 882.3609175682068\n",
      "--------------------\n"
     ]
    }
   ],
   "source": [
    "accuarcies = []\n",
    "times = []\n",
    "\n",
    "for i in range(1):\n",
    "    print(f'training epoch: {i + 1}')\n",
    "    qmodel = QModel(input_size, hidden_size, num_output, \n",
    "                num_layers = num_layers, ctx = ctx, mode='classical')\n",
    "    optimizer = torch.optim.Adam(qmodel.parameters(), lr = 0.001)\n",
    "    loss_func = nn.MSELoss()\n",
    "    start = time.time()\n",
    "    losses = train_model(qmodel, train_data, batch_size=20,          \n",
    "                   loss_func = loss_func, optimizer = optimizer, epoch = 200)\n",
    "    end = time.time()\n",
    "\n",
    "    print(f'time costs: {end - start}')\n",
    "    times.append(end - start)\n",
    "    \n",
    "    acc = calculate_accuarcy(qmodel, X_test, y_test)[0]\n",
    "    accuarcies.append(acc)\n",
    "    \n",
    "    with open(f'loss/layer2/loss_layer2_{i + 1}.pkl', 'wb') as pkl_file:\n",
    "        pickle.dump(losses, pkl_file)\n",
    "    torch.save(qmodel.state_dict(), f\"model/layer2/model_layer2_{i+1}.pt\")\n",
    "    \n",
    "    print('-' * 20)"
   ]
  },
  {
   "cell_type": "code",
   "execution_count": 79,
   "id": "6ac9c597",
   "metadata": {},
   "outputs": [
    {
     "data": {
      "text/plain": [
       "[<matplotlib.lines.Line2D at 0x166dfe0ec10>]"
      ]
     },
     "execution_count": 79,
     "metadata": {},
     "output_type": "execute_result"
    },
    {
     "data": {
      "image/png": "[encoded data removed]",
      "text/plain": [
       "<Figure size 640x480 with 1 Axes>"
      ]
     },
     "metadata": {},
     "output_type": "display_data"
    }
   ],
   "source": [
    "import matplotlib.pyplot as plt\n",
    "\n",
    "plt.plot(losses, color=\"#FF6666\")"
   ]
  },
  {
   "cell_type": "code",
   "execution_count": 80,
   "id": "d3343ae1",
   "metadata": {},
   "outputs": [
    {
     "name": "stdout",
     "output_type": "stream",
     "text": [
      "quantum paramers: 96\n"
     ]
    }
   ],
   "source": [
    "print(f'quantum paramers: {QLSTM(1, 1, ctx = ctx).qparameters_size}')"
   ]
  },
  {
   "cell_type": "code",
   "execution_count": 81,
   "id": "f77b43e7",
   "metadata": {},
   "outputs": [
    {
     "data": {
      "text/plain": [
       "[98.27944412838421]"
      ]
     },
     "execution_count": 81,
     "metadata": {},
     "output_type": "execute_result"
    }
   ],
   "source": [
    "accuarcies"
   ]
  },
  {
   "cell_type": "code",
   "execution_count": 69,
   "id": "4037ab75",
   "metadata": {},
   "outputs": [
    {
     "data": {
      "text/plain": [
       "98.72478899241493"
      ]
     },
     "execution_count": 69,
     "metadata": {},
     "output_type": "execute_result"
    }
   ],
   "source": [
    "# 0.94371223\n",
    "# \n",
    "# [tensor(0.6388),\n",
    "#  tensor(0.9699),\n",
    "#  tensor(0.9795),\n",
    "#  tensor(0.9805),\n",
    "#  tensor(0.9833),\n",
    "#  tensor(0.9587),\n",
    "#  tensor(0.9836),\n",
    "#  tensor(0.9782),\n",
    "#  tensor(0.9843),\n",
    "#  tensor(0.9803)]\n",
    "np.mean(accuarcies)"
   ]
  },
  {
   "cell_type": "code",
   "execution_count": 41,
   "id": "5dfec15c",
   "metadata": {},
   "outputs": [
    {
     "data": {
      "text/plain": [
       "597.4574043512345"
      ]
     },
     "execution_count": 41,
     "metadata": {},
     "output_type": "execute_result"
    }
   ],
   "source": [
    "# 597.4574043512345\n",
    "np.mean(times)"
   ]
  },
  {
   "cell_type": "code",
   "execution_count": null,
   "id": "f60eb24b",
   "metadata": {},
   "outputs": [],
   "source": []
  }
 ],
 "metadata": {
  "kernelspec": {
   "display_name": "Python 3 (ipykernel)",
   "language": "python",
   "name": "python3"
  },
  "language_info": {
   "codemirror_mode": {
    "name": "ipython",
    "version": 3
   },
   "file_extension": ".py",
   "mimetype": "text/x-python",
   "name": "python",
   "nbconvert_exporter": "python",
   "pygments_lexer": "ipython3",
   "version": "3.8.13"
  }
 },
 "nbformat": 4,
 "nbformat_minor": 5
}
