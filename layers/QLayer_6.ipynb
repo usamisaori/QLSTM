{
 "cells": [
  {
   "cell_type": "code",
   "execution_count": 1,
   "id": "6581af8d",
   "metadata": {},
   "outputs": [],
   "source": [
    "import math\n",
    "import time\n",
    "import pickle\n",
    "import pandas as pd\n",
    "import numpy as np"
   ]
  },
  {
   "cell_type": "code",
   "execution_count": 2,
   "id": "94243045",
   "metadata": {},
   "outputs": [],
   "source": [
    "import torch\n",
    "import sklearn"
   ]
  },
  {
   "cell_type": "code",
   "execution_count": 3,
   "id": "fff0ae78",
   "metadata": {},
   "outputs": [],
   "source": [
    "from pyqpanda import *"
   ]
  },
  {
   "cell_type": "code",
   "execution_count": 4,
   "id": "455c7f76",
   "metadata": {},
   "outputs": [],
   "source": [
    "%matplotlib inline"
   ]
  },
  {
   "cell_type": "markdown",
   "id": "2a618a3a",
   "metadata": {},
   "source": [
    "# 1. Prepare Dadaset"
   ]
  },
  {
   "cell_type": "code",
   "execution_count": 5,
   "id": "c64faba7",
   "metadata": {},
   "outputs": [],
   "source": [
    "# https://www.kaggle.com/datasets/sumanthvrao/daily-climate-time-series-data"
   ]
  },
  {
   "cell_type": "code",
   "execution_count": 6,
   "id": "de627766",
   "metadata": {},
   "outputs": [],
   "source": [
    "train_path = './../data/DailyDelhiClimateTrain.csv'\n",
    "test_path = './../data/DailyDelhiClimateTest.csv'"
   ]
  },
  {
   "cell_type": "code",
   "execution_count": 7,
   "id": "6d0827fb",
   "metadata": {},
   "outputs": [],
   "source": [
    "cols = [1,2,3,4]\n",
    "\n",
    "train = pd.read_csv(train_path, usecols=cols, engine=\"python\")\n",
    "test = pd.read_csv(test_path, usecols=cols, engine=\"python\")"
   ]
  },
  {
   "cell_type": "code",
   "execution_count": 8,
   "id": "5c3039c3",
   "metadata": {},
   "outputs": [
    {
     "name": "stdout",
     "output_type": "stream",
     "text": [
      "len(train)=1462\n",
      "len(test)=114\n"
     ]
    }
   ],
   "source": [
    "print(f'len(train)={len(train)}')\n",
    "print(f'len(test)={len(test)}')"
   ]
  },
  {
   "cell_type": "markdown",
   "id": "b941db2e",
   "metadata": {},
   "source": [
    "## 1.1 Outlier Detection"
   ]
  },
  {
   "cell_type": "code",
   "execution_count": 9,
   "id": "e59fddc0",
   "metadata": {},
   "outputs": [
    {
     "name": "stdout",
     "output_type": "stream",
     "text": [
      "remove outliers num: 9\n"
     ]
    }
   ],
   "source": [
    "unnormal_num = 0\n",
    "for i in range(len(train)):\n",
    "    mp = train.iloc[i][3]\n",
    "    if mp > 1200 or mp < 950:\n",
    "        unnormal_num += 1\n",
    "        train.iloc[i][3] = train.iloc[i + 1][3]\n",
    "print(f'remove outliers num: {unnormal_num}')"
   ]
  },
  {
   "cell_type": "code",
   "execution_count": 10,
   "id": "5fefec4f",
   "metadata": {},
   "outputs": [],
   "source": [
    "test.iloc[0][3] = test.iloc[1][3]"
   ]
  },
  {
   "cell_type": "markdown",
   "id": "6035297e",
   "metadata": {},
   "source": [
    "## 1.2 Transfer data to LSTM representation"
   ]
  },
  {
   "cell_type": "code",
   "execution_count": 11,
   "id": "4a1277fc",
   "metadata": {},
   "outputs": [],
   "source": [
    "from sklearn.preprocessing import StandardScaler"
   ]
  },
  {
   "cell_type": "code",
   "execution_count": 12,
   "id": "884bc13f",
   "metadata": {},
   "outputs": [],
   "source": [
    "def data_process(data, window_size, predict_size):\n",
    "    scaler = StandardScaler()\n",
    "    data = scaler.fit_transform(np.array(data).reshape(-1, 1))\n",
    "    \n",
    "    data_in = []\n",
    "    data_out = []\n",
    "    \n",
    "    for i in range(data.shape[0] - window_size - predict_size):\n",
    "        data_in.append(data[i:i + window_size].reshape(1, window_size)[0])\n",
    "        data_out.append(data[i + window_size:i + window_size + predict_size].reshape(1, predict_size)[0])\n",
    "        \n",
    "    data_in = np.array(data_in).reshape(-1, window_size)\n",
    "    data_out = np.array(data_out).reshape(-1, predict_size)\n",
    "    \n",
    "    data_process = {'datain': data_in, 'dataout': data_out}\n",
    "    \n",
    "    return data_process, scaler"
   ]
  },
  {
   "cell_type": "markdown",
   "id": "6517fe60",
   "metadata": {},
   "source": [
    "## 1.3 prepare train/test dataset"
   ]
  },
  {
   "cell_type": "code",
   "execution_count": 13,
   "id": "d333c7bc",
   "metadata": {},
   "outputs": [],
   "source": [
    "features_size = 4\n",
    "window_size = features_size * 3 # features num * time steps\n",
    "predict_size = features_size # features"
   ]
  },
  {
   "cell_type": "code",
   "execution_count": 14,
   "id": "0ef548b3",
   "metadata": {},
   "outputs": [],
   "source": [
    "train_processed, train_scaler = data_process(train, window_size, predict_size)\n",
    "X_train, y_train = train_processed['datain'], train_processed['dataout']\n",
    "\n",
    "test_processed, test_scaler = data_process(test, window_size, predict_size)\n",
    "X_test, y_test = test_processed['datain'], test_processed['dataout']"
   ]
  },
  {
   "cell_type": "code",
   "execution_count": 15,
   "id": "f779325c",
   "metadata": {},
   "outputs": [],
   "source": [
    "X_train = torch.from_numpy(X_train.astype(np.float32))\n",
    "X_test = torch.from_numpy(X_test.astype(np.float32))\n",
    "\n",
    "y_train = torch.from_numpy(y_train.astype(np.float32))\n",
    "y_test = torch.from_numpy(y_test.astype(np.float32))"
   ]
  },
  {
   "cell_type": "code",
   "execution_count": 16,
   "id": "dda516d1",
   "metadata": {},
   "outputs": [],
   "source": [
    "import torch.utils.data as Data\n",
    "\n",
    "train_data = Data.TensorDataset(X_train, y_train)\n",
    "test_data = Data.TensorDataset(X_test, y_test)"
   ]
  },
  {
   "cell_type": "markdown",
   "id": "70cb132c",
   "metadata": {},
   "source": [
    "# 2. Quantum Enhanced LSTM"
   ]
  },
  {
   "cell_type": "markdown",
   "id": "d517f5f3",
   "metadata": {},
   "source": [
    "## 2.1 initiate quantum environment"
   ]
  },
  {
   "cell_type": "code",
   "execution_count": 17,
   "id": "ffc85d3f",
   "metadata": {},
   "outputs": [],
   "source": [
    "class InitQMachine:\n",
    "    def __init__(self, qubitsCount, cbitsCount = 0, machineType = QMachineType.CPU):\n",
    "        self.machine = init_quantum_machine(machineType)\n",
    "        \n",
    "        self.qubits = self.machine.qAlloc_many(qubitsCount)\n",
    "        self.cbits = self.machine.cAlloc_many(cbitsCount)\n",
    "        \n",
    "        print(f'Init Quantum Machine with qubits:[{qubitsCount}] / cbits:[{cbitsCount}] Successfully')\n",
    "    \n",
    "    def __del__(self):\n",
    "        destroy_quantum_machine(self.machine)"
   ]
  },
  {
   "cell_type": "code",
   "execution_count": 18,
   "id": "741a6a13",
   "metadata": {},
   "outputs": [
    {
     "name": "stdout",
     "output_type": "stream",
     "text": [
      "Init Quantum Machine with qubits:[4] / cbits:[0] Successfully\n"
     ]
    }
   ],
   "source": [
    "# maximum qubits size\n",
    "ctx = InitQMachine(4)"
   ]
  },
  {
   "cell_type": "markdown",
   "id": "63a39cf3",
   "metadata": {},
   "source": [
    "## 2.2 Quantum Layer"
   ]
  },
  {
   "cell_type": "markdown",
   "id": "e63b029d",
   "metadata": {},
   "source": [
    "### 2.2.1 Quantum layer base"
   ]
  },
  {
   "cell_type": "code",
   "execution_count": 19,
   "id": "5570e76d",
   "metadata": {},
   "outputs": [],
   "source": [
    "import torch.nn as nn\n",
    "from torch import Tensor\n",
    "from torch.nn import Parameter"
   ]
  },
  {
   "cell_type": "code",
   "execution_count": 20,
   "id": "4f9cfd0b",
   "metadata": {},
   "outputs": [],
   "source": [
    "class QuantumLayerBase(nn.Module):\n",
    "    def __init__(self, input_size, output_size, *, n_qubits, n_layers = 1, ctx = None):\n",
    "        super(QuantumLayerBase, self).__init__()\n",
    "        \n",
    "        self.data = None # need to input during forward\n",
    "    \n",
    "        self.input_size = input_size\n",
    "        self.output_size = output_size # hidden size, not n_qubits\n",
    "        \n",
    "        # quantum infos\n",
    "        self.n_qubits = n_qubits\n",
    "        self.n_layers = n_layers\n",
    "        \n",
    "        self.ctx = ctx\n",
    "        self.qubits = ctx.qubits\n",
    "        self.machine = ctx.machine\n",
    "        \n",
    "        # convert quantum input/output to match classical computation\n",
    "        self.qin = nn.Linear(self.input_size, self.n_qubits)\n",
    "        self.qout = nn.Linear(self.n_qubits, self.output_size)\n",
    "        \n",
    "    @property\n",
    "    def circuit(self):\n",
    "        raise NotImplementedError('Should init circuit')"
   ]
  },
  {
   "cell_type": "code",
   "execution_count": 21,
   "id": "94c5bbcf",
   "metadata": {},
   "outputs": [],
   "source": [
    "def measure(self):\n",
    "    HamiZ = [ PauliOperator({f'Z{i}': 1}) for i in range(len(self.qubits)) ]\n",
    "    res = [ eval(qop(self.circuit, Hami, self.machine, self.qubits))[0,0] for Hami in HamiZ ]\n",
    "    \n",
    "    return Parameter(Tensor(res[:self.n_qubits]))\n",
    "\n",
    "QuantumLayerBase.measure = measure"
   ]
  },
  {
   "cell_type": "code",
   "execution_count": 22,
   "id": "4341341c",
   "metadata": {},
   "outputs": [],
   "source": [
    "def forward(self, inputs):\n",
    "    y_t = self.qin(Parameter(inputs))\n",
    "    self.data = y_t[0]\n",
    "    \n",
    "    return self.qout(self.measure())\n",
    "\n",
    "QuantumLayerBase.forward = forward"
   ]
  },
  {
   "cell_type": "markdown",
   "id": "fd4f794b",
   "metadata": {},
   "source": [
    "### 2.2.2 Quantum layer design"
   ]
  },
  {
   "cell_type": "code",
   "execution_count": 23,
   "id": "b98a8984",
   "metadata": {},
   "outputs": [],
   "source": [
    "class QuantumLayer(QuantumLayerBase):\n",
    "    def __init__(self, input_size, output_size, *, n_qubits, degree = 1, n_layers = 1, ctx = None):\n",
    "        super(QuantumLayer, self).__init__(input_size, output_size, \n",
    "                                         n_qubits = n_qubits, n_layers = n_layers, ctx = ctx)\n",
    "        \n",
    "        self.degree = degree\n",
    "        self.angles = Parameter(torch.rand(n_layers, degree, self.n_qubits))\n",
    "        \n",
    "    @property\n",
    "    def qparameters_size(self):\n",
    "        return self.angles.flatten().size()[0]\n",
    "        \n",
    "    @property\n",
    "    def circuit(self):\n",
    "        if self.data == None:\n",
    "            raise ValueError('Need to feed a input data!')\n",
    "        \n",
    "        n = self.n_qubits\n",
    "        q = self.qubits\n",
    "        x = self.data\n",
    "        p = self.angles\n",
    "        degree = self.degree\n",
    "        \n",
    "        h = VariationalQuantumGate_H\n",
    "        ry = VariationalQuantumGate_RY\n",
    "        cx = VariationalQuantumGate_CNOT\n",
    "        \n",
    "        # init variational quantum circuit\n",
    "        vqc = VariationalQuantumCircuit()\n",
    "\n",
    "        # encoding layer\n",
    "        [ vqc.insert( h(q[i]) ) for i in range(n) ]\n",
    "        [ vqc.insert( ry(q[i], var(x[i] * torch.pi / 2)) ) for i in range(n) ]\n",
    "        \n",
    "        # variational layer\n",
    "        [ vqc.insert( ry(q[i], var(p[0][0][i]) )) for i in range(n) ]\n",
    "        \n",
    "        vqc.insert(cx(q[0], q[1]))\n",
    "        vqc.insert(cx(q[2], q[3]))\n",
    "        vqc.insert(cx(q[1], q[2]))\n",
    "        \n",
    "        return vqc"
   ]
  },
  {
   "cell_type": "markdown",
   "id": "766692de",
   "metadata": {},
   "source": [
    "### 2.2.3 Plot Quantum Layer"
   ]
  },
  {
   "cell_type": "code",
   "execution_count": 24,
   "id": "88ff286b",
   "metadata": {},
   "outputs": [
    {
     "data": {
      "text/plain": [
       "<pyqpanda.pyQPanda.QProg at 0x1672faf1530>"
      ]
     },
     "execution_count": 24,
     "metadata": {},
     "output_type": "execute_result"
    }
   ],
   "source": [
    "data = Tensor([[0.1, 0.2, 0.3, 0.4]])\n",
    "layer = QuantumLayer(4, 4, n_qubits=4, n_layers=1, degree=3, ctx=ctx)\n",
    "layer.data = data[0]\n",
    "vqc = layer.circuit\n",
    "prog = create_empty_qprog()\n",
    "prog.insert(vqc.feed())"
   ]
  },
  {
   "cell_type": "code",
   "execution_count": 25,
   "id": "2fd364d1",
   "metadata": {},
   "outputs": [
    {
     "data": {
      "text/plain": [
       "'null'"
      ]
     },
     "execution_count": 25,
     "metadata": {},
     "output_type": "execute_result"
    }
   ],
   "source": [
    "draw_qprog(prog, 'pic', filename=f'pic/layer6')"
   ]
  },
  {
   "cell_type": "markdown",
   "id": "50742459",
   "metadata": {},
   "source": [
    "## 2.3 Quantum-LSTM"
   ]
  },
  {
   "cell_type": "code",
   "execution_count": 26,
   "id": "e53ae0ad",
   "metadata": {},
   "outputs": [],
   "source": [
    "class QLSTMBase(nn.Module):\n",
    "    def __init__(self, input_size, hidden_size, *, ctx):\n",
    "        super().__init__()\n",
    "        \n",
    "        self.input_size = input_size\n",
    "        self.hidden_size = hidden_size\n",
    "        self.ctx = ctx\n",
    "        \n",
    "    @property\n",
    "    def qparameters_size(self):\n",
    "        num = 0\n",
    "        for attr in dir(self):\n",
    "            if attr.endswith('_circuit'):\n",
    "                num += getattr(self, attr).qparameters_size\n",
    "        return num"
   ]
  },
  {
   "cell_type": "code",
   "execution_count": 27,
   "id": "582b17af",
   "metadata": {},
   "outputs": [],
   "source": [
    "def forward(self, inputs, init_states = None):\n",
    "    sequence_size, batch_size, _ = inputs.size()\n",
    "    hidden_sequence = []\n",
    "    \n",
    "    if init_states == None:\n",
    "        h_t, c_t = (\n",
    "            torch.zeros(1, batch_size, self.hidden_size).to(inputs.device),\n",
    "            torch.zeros(1, batch_size, self.hidden_size).to(inputs.device),\n",
    "        )\n",
    "    else:\n",
    "        h_t, c_t = init_states\n",
    "    \n",
    "    return hidden_sequence, (h_t, c_t)\n",
    "\n",
    "QLSTMBase.forward = forward"
   ]
  },
  {
   "cell_type": "markdown",
   "id": "63d6b0af",
   "metadata": {},
   "source": [
    "## - classical quatum enhanced LSTM"
   ]
  },
  {
   "cell_type": "code",
   "execution_count": 28,
   "id": "adc8fb35",
   "metadata": {},
   "outputs": [],
   "source": [
    "class QLSTM(QLSTMBase):\n",
    "    def __init__(self, input_size, hidden_size, *, ctx):\n",
    "        super().__init__(input_size, hidden_size, ctx = ctx)\n",
    "    \n",
    "        # input gates\n",
    "        self.input_circuit = QuantumLayer(input_size + hidden_size, hidden_size, \n",
    "                                        n_qubits = 4, ctx = ctx) # 15\n",
    "        # forget gates\n",
    "        self.forget_circuit = QuantumLayer(input_size + hidden_size, hidden_size, \n",
    "                                         n_qubits = 4, ctx = ctx) # 15\n",
    "        # candidate\n",
    "        self.candidate_circuit = QuantumLayer(input_size + hidden_size, hidden_size, \n",
    "                                       n_qubits = 4, ctx = ctx) # 15\n",
    "        # output gates\n",
    "        self.output_circuit = QuantumLayer(input_size + hidden_size, hidden_size, \n",
    "                                         n_qubits = 4, ctx = ctx) # 15\n",
    "        \n",
    "    def forward(self, inputs, init_states = None):\n",
    "        hidden_sequence, (h_t, c_t) = super(QLSTM, self).forward(inputs, init_states)\n",
    "\n",
    "        for t in range(inputs.size()[0]):\n",
    "            x_t = inputs[t, :, :]\n",
    "            v_t = torch.cat((h_t[0], x_t), dim = 1)\n",
    "\n",
    "            # input gates\n",
    "            i_t = torch.sigmoid(self.input_circuit(v_t))\n",
    "            # forget gates\n",
    "            f_t = torch.sigmoid(self.forget_circuit(v_t))\n",
    "            # candidate for cell state update\n",
    "            g_t = torch.tanh(self.candidate_circuit(v_t))\n",
    "            c_t = (f_t * c_t) + (i_t * g_t)\n",
    "\n",
    "            # output gates\n",
    "            o_t = torch.sigmoid(self.output_circuit(v_t))\n",
    "            # update output ht\n",
    "            h_t = o_t * (torch.tanh(c_t))\n",
    "\n",
    "            hidden_sequence.append(h_t)\n",
    "\n",
    "        # reshape hidden_seq p/ retornar\n",
    "        #\n",
    "        # [tensor([[[0.0444, ...]]] => tensor([[[0.0444, ...]]]\n",
    "        # \n",
    "        hidden_sequence = torch.cat(hidden_sequence, dim = 0)\n",
    "\n",
    "        return hidden_sequence, (h_t, c_t)"
   ]
  },
  {
   "cell_type": "markdown",
   "id": "28836475",
   "metadata": {},
   "source": [
    "## 2.4 Stacked QLSTM"
   ]
  },
  {
   "cell_type": "code",
   "execution_count": 29,
   "id": "9ec06c93",
   "metadata": {},
   "outputs": [],
   "source": [
    "from collections import OrderedDict\n",
    "\n",
    "class StackedQLSTM(nn.Module):\n",
    "    def __init__(self, input_size, hidden_size, *, num_layers = 1, ctx = None, mode = 'classical'):\n",
    "        super().__init__()\n",
    "        \n",
    "        self.qlstms = nn.Sequential(OrderedDict([\n",
    "            (f'QLSTM {i + 1}', QLSTM(input_size if i == 0 else hidden_size , hidden_size, ctx = ctx)) \n",
    "                for i in range(num_layers)\n",
    "        ]))\n",
    "\n",
    "    def forward(self, inputs, parameters = None):\n",
    "        outputs = None\n",
    "        \n",
    "        for i, qlstm in enumerate(self.qlstms):\n",
    "            if i != 0:\n",
    "                inputs = outputs\n",
    "            \n",
    "            outputs, parameters = qlstm(inputs, parameters)\n",
    "        \n",
    "        return outputs, parameters"
   ]
  },
  {
   "cell_type": "markdown",
   "id": "0389535c",
   "metadata": {},
   "source": [
    "# 3. Quantum Model and Train"
   ]
  },
  {
   "cell_type": "code",
   "execution_count": 30,
   "id": "413150bd",
   "metadata": {},
   "outputs": [],
   "source": [
    "class QModel(nn.Module):\n",
    "    def __init__(self, input_size, hidden_size, num_output, *, num_layers = 1, ctx = None, mode = 'classical'):\n",
    "        super(QModel, self).__init__()\n",
    "        \n",
    "        self.hidden_size = hidden_size\n",
    "        self.num_layers = num_layers\n",
    "        \n",
    "        self.qlstm = StackedQLSTM(input_size, hidden_size, \n",
    "                                  num_layers = num_layers, ctx = ctx, mode = mode)\n",
    "        self.predict = nn.Linear(hidden_size, num_output)\n",
    "\n",
    "    def forward(self, x):\n",
    "        x = x.unsqueeze(0)\n",
    "        \n",
    "        # sequence lenth , batch_size, features length\n",
    "        # \n",
    "        h0 = torch.zeros(1, x.size(1), self.hidden_size)\n",
    "        c0 = torch.zeros(1, x.size(1), self.hidden_size)\n",
    "        \n",
    "        out, _ = self.qlstm(x, (h0, c0))\n",
    "        out = self.predict(out[0])\n",
    "        \n",
    "        return out"
   ]
  },
  {
   "cell_type": "markdown",
   "id": "111aebe4",
   "metadata": {},
   "source": [
    "## 3.1 train QModel"
   ]
  },
  {
   "cell_type": "code",
   "execution_count": 31,
   "id": "bc1d1439",
   "metadata": {},
   "outputs": [],
   "source": [
    "from torch.utils.data import RandomSampler\n",
    "\n",
    "def train_model(model, datas, batch_size, *, loss_func, optimizer, epoch = 50):\n",
    "    losses = []\n",
    "    sampler = RandomSampler(datas, num_samples = batch_size)\n",
    "    \n",
    "    for step in range(epoch):\n",
    "        train_loss = 0.0\n",
    "        \n",
    "        for index in sampler:\n",
    "            batch_x, batch_y = datas[index][0], datas[index][1]\n",
    "            b_x = batch_x.unsqueeze(0)\n",
    "            b_y = batch_y.unsqueeze(0)\n",
    "            \n",
    "            output = model(b_x)\n",
    "\n",
    "            loss = loss_func(output, b_y)\n",
    "            optimizer.zero_grad()\n",
    "            loss.backward()\n",
    "            optimizer.step()\n",
    "\n",
    "            train_loss += loss.item()\n",
    "\n",
    "        print(f'Epoch {step + 1}/{epoch}: Loss: {train_loss / batch_size}')\n",
    "        losses.append(train_loss / batch_size)\n",
    "    \n",
    "    return losses"
   ]
  },
  {
   "cell_type": "markdown",
   "id": "ef07934f",
   "metadata": {},
   "source": [
    "## 3.2 Evaluate Model"
   ]
  },
  {
   "cell_type": "code",
   "execution_count": 32,
   "id": "57e9b387",
   "metadata": {},
   "outputs": [],
   "source": [
    "from sklearn.metrics import mean_squared_error, mean_absolute_error, mean_absolute_percentage_error\n",
    "\n",
    "def MAE_naive(actuals, predicteds):\n",
    "    n = len(actuals)\n",
    "    err = 0.0\n",
    "    \n",
    "    for i in range(1, n):\n",
    "        err += np.abs(actuals[i] - actuals[i - 1])\n",
    "    return err / (n - 1)\n",
    "\n",
    "def calculate_accuarcy(model, X_test, y_test, scaler=test_scaler):\n",
    "    n = len(X_test)\n",
    "    \n",
    "    actuals = []\n",
    "    predicteds = []\n",
    "    \n",
    "    for i in range(0, n, predict_size):\n",
    "        actual = scaler.inverse_transform(y_test[i:i+1].data)\n",
    "        actuals.append(np.array(actual[0]))\n",
    "        predicted = scaler.inverse_transform(model(X_test[i:i+1]).data)\n",
    "        predicteds.append(np.array(predicted[0]))\n",
    "    \n",
    "    actuals = np.array(actuals)\n",
    "    predicteds = np.array(predicteds)\n",
    "    \n",
    "    mae = mean_absolute_error(actuals, predicteds)\n",
    "    mase = mae / MAE_naive(actuals.flatten(), predicteds.flatten())\n",
    "    mape = mean_absolute_percentage_error(actuals, predicteds)\n",
    "    mse = mean_squared_error(actuals, predicteds)\n",
    "    rmse = mse ** 0.5\n",
    "    \n",
    "    return np.array([(1 - mase) * 100, rmse, mse, mae, mape])"
   ]
  },
  {
   "cell_type": "markdown",
   "id": "6407f969",
   "metadata": {},
   "source": [
    "## 3.3 Train Model"
   ]
  },
  {
   "cell_type": "code",
   "execution_count": 33,
   "id": "305c9471",
   "metadata": {},
   "outputs": [],
   "source": [
    "features_size = 4\n",
    "window_size = features_size * 3 # \n",
    "predict_size = features_size # features\n",
    "\n",
    "input_size = window_size\n",
    "num_output = predict_size\n",
    "\n",
    "hidden_size = 32\n",
    "num_layers = 2"
   ]
  },
  {
   "cell_type": "code",
   "execution_count": 35,
   "id": "50472565",
   "metadata": {},
   "outputs": [
    {
     "name": "stdout",
     "output_type": "stream",
     "text": [
      "training epoch: 1\n",
      "Epoch 1/200: Loss: 1.0170694768428803\n",
      "Epoch 2/200: Loss: 0.9943442583084107\n",
      "Epoch 3/200: Loss: 0.9863501489162445\n",
      "Epoch 4/200: Loss: 0.9697589129209518\n",
      "Epoch 5/200: Loss: 0.9687036126852036\n",
      "Epoch 6/200: Loss: 0.9876512259244918\n",
      "Epoch 7/200: Loss: 0.97669777572155\n",
      "Epoch 8/200: Loss: 0.9664420515298844\n",
      "Epoch 9/200: Loss: 0.9363575994968414\n",
      "Epoch 10/200: Loss: 0.9513701170682907\n",
      "Epoch 11/200: Loss: 0.9547044903039932\n",
      "Epoch 12/200: Loss: 0.9305862098932266\n",
      "Epoch 13/200: Loss: 0.8771763145923615\n",
      "Epoch 14/200: Loss: 0.9029681950807571\n",
      "Epoch 15/200: Loss: 0.8965591341257095\n",
      "Epoch 16/200: Loss: 0.9238628149032593\n",
      "Epoch 17/200: Loss: 0.8674261748790741\n",
      "Epoch 18/200: Loss: 0.8434236824512482\n",
      "Epoch 19/200: Loss: 0.8263620465993882\n",
      "Epoch 20/200: Loss: 0.8064547806978226\n",
      "Epoch 21/200: Loss: 0.8155294954776764\n",
      "Epoch 22/200: Loss: 0.7916770815849304\n",
      "Epoch 23/200: Loss: 0.7607294589281082\n",
      "Epoch 24/200: Loss: 0.7149068892002106\n",
      "Epoch 25/200: Loss: 0.736694073677063\n",
      "Epoch 26/200: Loss: 0.7194078624248504\n",
      "Epoch 27/200: Loss: 0.6594485834240913\n",
      "Epoch 28/200: Loss: 0.7156582280993462\n",
      "Epoch 29/200: Loss: 0.6590166494250298\n",
      "Epoch 30/200: Loss: 0.6467734605073929\n",
      "Epoch 31/200: Loss: 0.6609167471528054\n",
      "Epoch 32/200: Loss: 0.6549388155341148\n",
      "Epoch 33/200: Loss: 0.5470110058784485\n",
      "Epoch 34/200: Loss: 0.6988289520144463\n",
      "Epoch 35/200: Loss: 0.5942287087440491\n",
      "Epoch 36/200: Loss: 0.6553173661231995\n",
      "Epoch 37/200: Loss: 0.5761600360274315\n",
      "Epoch 38/200: Loss: 0.6591442286968231\n",
      "Epoch 39/200: Loss: 0.5915149599313736\n",
      "Epoch 40/200: Loss: 0.6660921096801757\n",
      "Epoch 41/200: Loss: 0.5827212512493134\n",
      "Epoch 42/200: Loss: 0.6736566677689553\n",
      "Epoch 43/200: Loss: 0.6472765669226647\n",
      "Epoch 44/200: Loss: 0.6221549227833748\n",
      "Epoch 45/200: Loss: 0.6772267684340477\n",
      "Epoch 46/200: Loss: 0.6008173808455467\n",
      "Epoch 47/200: Loss: 0.5830767929553986\n",
      "Epoch 48/200: Loss: 0.6094441458582878\n",
      "Epoch 49/200: Loss: 0.6256171628832817\n",
      "Epoch 50/200: Loss: 0.5787941440939903\n",
      "Epoch 51/200: Loss: 0.5815535739064217\n",
      "Epoch 52/200: Loss: 0.5270261511206626\n",
      "Epoch 53/200: Loss: 0.5380783751606941\n",
      "Epoch 54/200: Loss: 0.553477056324482\n",
      "Epoch 55/200: Loss: 0.538200031220913\n",
      "Epoch 56/200: Loss: 0.49378332644701006\n",
      "Epoch 57/200: Loss: 0.560545203089714\n",
      "Epoch 58/200: Loss: 0.507291454076767\n",
      "Epoch 59/200: Loss: 0.5637480705976486\n",
      "Epoch 60/200: Loss: 0.5696416109800339\n",
      "Epoch 61/200: Loss: 0.526773390173912\n",
      "Epoch 62/200: Loss: 0.4667593568563461\n",
      "Epoch 63/200: Loss: 0.5374358296394348\n",
      "Epoch 64/200: Loss: 0.47352212369441987\n",
      "Epoch 65/200: Loss: 0.4348007902503014\n",
      "Epoch 66/200: Loss: 0.4459344193339348\n",
      "Epoch 67/200: Loss: 0.4628292128443718\n",
      "Epoch 68/200: Loss: 0.41953726559877397\n",
      "Epoch 69/200: Loss: 0.4038158133625984\n",
      "Epoch 70/200: Loss: 0.38402732610702517\n",
      "Epoch 71/200: Loss: 0.40950903594493865\n",
      "Epoch 72/200: Loss: 0.39542373865842817\n",
      "Epoch 73/200: Loss: 0.3853374496102333\n",
      "Epoch 74/200: Loss: 0.3979192703962326\n",
      "Epoch 75/200: Loss: 0.38954064846038816\n",
      "Epoch 76/200: Loss: 0.3671344704926014\n",
      "Epoch 77/200: Loss: 0.38284900039434433\n",
      "Epoch 78/200: Loss: 0.32910488098859786\n",
      "Epoch 79/200: Loss: 0.34307130575180056\n",
      "Epoch 80/200: Loss: 0.3430123418569565\n",
      "Epoch 81/200: Loss: 0.30101579502224923\n",
      "Epoch 82/200: Loss: 0.28781361058354377\n",
      "Epoch 83/200: Loss: 0.2978885114192963\n",
      "Epoch 84/200: Loss: 0.2975038878619671\n",
      "Epoch 85/200: Loss: 0.25106112062931063\n",
      "Epoch 86/200: Loss: 0.2533844619989395\n",
      "Epoch 87/200: Loss: 0.2796007454395294\n",
      "Epoch 88/200: Loss: 0.21077547818422318\n",
      "Epoch 89/200: Loss: 0.26454604119062425\n",
      "Epoch 90/200: Loss: 0.2075517348945141\n",
      "Epoch 91/200: Loss: 0.23332880139350892\n",
      "Epoch 92/200: Loss: 0.2217317596077919\n",
      "Epoch 93/200: Loss: 0.20735513046383858\n",
      "Epoch 94/200: Loss: 0.20344016551971436\n",
      "Epoch 95/200: Loss: 0.19050140753388406\n",
      "Epoch 96/200: Loss: 0.17752787470817566\n",
      "Epoch 97/200: Loss: 0.17634900361299516\n",
      "Epoch 98/200: Loss: 0.14383931681513787\n",
      "Epoch 99/200: Loss: 0.17090680450201035\n",
      "Epoch 100/200: Loss: 0.1467245563864708\n",
      "Epoch 101/200: Loss: 0.166375482827425\n",
      "Epoch 102/200: Loss: 0.13994685597717763\n",
      "Epoch 103/200: Loss: 0.1276819959282875\n",
      "Epoch 104/200: Loss: 0.12295448128134012\n",
      "Epoch 105/200: Loss: 0.12109419330954552\n",
      "Epoch 106/200: Loss: 0.11276872530579567\n",
      "Epoch 107/200: Loss: 0.0966988168656826\n",
      "Epoch 108/200: Loss: 0.09622622150927782\n",
      "Epoch 109/200: Loss: 0.08325682617723942\n",
      "Epoch 110/200: Loss: 0.07822024999186397\n",
      "Epoch 111/200: Loss: 0.06990214493125677\n",
      "Epoch 112/200: Loss: 0.07807055925950408\n",
      "Epoch 113/200: Loss: 0.07128112260252237\n",
      "Epoch 114/200: Loss: 0.06585926311090588\n",
      "Epoch 115/200: Loss: 0.06811842694878578\n",
      "Epoch 116/200: Loss: 0.04977231258526445\n",
      "Epoch 117/200: Loss: 0.04325708830729127\n",
      "Epoch 118/200: Loss: 0.056493199057877065\n",
      "Epoch 119/200: Loss: 0.04301754953339696\n",
      "Epoch 120/200: Loss: 0.05034944335930049\n",
      "Epoch 121/200: Loss: 0.046723883412778375\n",
      "Epoch 122/200: Loss: 0.03200313716661185\n",
      "Epoch 123/200: Loss: 0.05465644388459623\n",
      "Epoch 124/200: Loss: 0.03246366488747299\n",
      "Epoch 125/200: Loss: 0.033699228800833224\n",
      "Epoch 126/200: Loss: 0.028386706905439495\n",
      "Epoch 127/200: Loss: 0.0221920364536345\n",
      "Epoch 128/200: Loss: 0.0261146827833727\n",
      "Epoch 129/200: Loss: 0.01732891850406304\n",
      "Epoch 130/200: Loss: 0.02855448176851496\n",
      "Epoch 131/200: Loss: 0.017445665696868673\n",
      "Epoch 132/200: Loss: 0.01558103811694309\n",
      "Epoch 133/200: Loss: 0.021085178863722832\n",
      "Epoch 134/200: Loss: 0.020565566583536567\n",
      "Epoch 135/200: Loss: 0.013231868587899953\n",
      "Epoch 136/200: Loss: 0.012987472757231444\n",
      "Epoch 137/200: Loss: 0.010580683266744018\n",
      "Epoch 138/200: Loss: 0.0109928545600269\n",
      "Epoch 139/200: Loss: 0.00840843805053737\n",
      "Epoch 140/200: Loss: 0.006201988333486952\n",
      "Epoch 141/200: Loss: 0.007697327178902924\n",
      "Epoch 142/200: Loss: 0.009176578013284597\n",
      "Epoch 143/200: Loss: 0.00738475426696823\n",
      "Epoch 144/200: Loss: 0.0075886904938670344\n",
      "Epoch 145/200: Loss: 0.010384667135076598\n",
      "Epoch 146/200: Loss: 0.004734727974573616\n",
      "Epoch 147/200: Loss: 0.00550397845072439\n",
      "Epoch 148/200: Loss: 0.00347130257578101\n",
      "Epoch 149/200: Loss: 0.004443955663373344\n",
      "Epoch 150/200: Loss: 0.0025400720223842654\n",
      "Epoch 151/200: Loss: 0.004354979583877139\n",
      "Epoch 152/200: Loss: 0.0040337745289434675\n",
      "Epoch 153/200: Loss: 0.0053447815706022085\n",
      "Epoch 154/200: Loss: 0.00420425280026393\n",
      "Epoch 155/200: Loss: 0.0038382954925509694\n",
      "Epoch 156/200: Loss: 0.0036630633345339446\n",
      "Epoch 157/200: Loss: 0.003571976314560743\n",
      "Epoch 158/200: Loss: 0.002865724573348416\n",
      "Epoch 159/200: Loss: 0.002514307085584733\n",
      "Epoch 160/200: Loss: 0.004477020263948361\n",
      "Epoch 161/200: Loss: 0.0021052360301837326\n",
      "Epoch 162/200: Loss: 0.001190624693845166\n",
      "Epoch 163/200: Loss: 0.0018579558343844837\n",
      "Epoch 164/200: Loss: 0.002775654337165179\n",
      "Epoch 165/200: Loss: 0.0022392481379938543\n",
      "Epoch 166/200: Loss: 0.001057041894637223\n",
      "Epoch 167/200: Loss: 0.0009282566612455412\n",
      "Epoch 168/200: Loss: 0.0014080143816499913\n",
      "Epoch 169/200: Loss: 0.0020250179528375155\n",
      "Epoch 170/200: Loss: 0.0009878337410555104\n",
      "Epoch 171/200: Loss: 0.002537598032358801\n",
      "Epoch 172/200: Loss: 0.004121379852222162\n",
      "Epoch 173/200: Loss: 0.0022241470160224708\n",
      "Epoch 174/200: Loss: 0.0013225704384240088\n",
      "Epoch 175/200: Loss: 0.0019234447292546975\n",
      "Epoch 176/200: Loss: 0.0029919132435679784\n",
      "Epoch 177/200: Loss: 0.0019441155651293228\n",
      "Epoch 178/200: Loss: 0.0010626049192069332\n",
      "Epoch 179/200: Loss: 0.0031166514183496473\n",
      "Epoch 180/200: Loss: 0.0023526046072220195\n",
      "Epoch 181/200: Loss: 0.0012865147926277131\n",
      "Epoch 182/200: Loss: 0.0015258071820426268\n",
      "Epoch 183/200: Loss: 0.0009690164421044756\n",
      "Epoch 184/200: Loss: 0.001858994045142026\n",
      "Epoch 185/200: Loss: 0.003225649259184138\n",
      "Epoch 186/200: Loss: 0.008092175520596356\n",
      "Epoch 187/200: Loss: 0.0010780927211271774\n",
      "Epoch 188/200: Loss: 0.0017589935574505943\n",
      "Epoch 189/200: Loss: 0.0023472911736462264\n",
      "Epoch 190/200: Loss: 0.0034589885312016123\n",
      "Epoch 191/200: Loss: 0.0020578997187840286\n",
      "Epoch 192/200: Loss: 0.0024398246430791916\n",
      "Epoch 193/200: Loss: 0.003248297502977948\n",
      "Epoch 194/200: Loss: 0.0020000203017843886\n",
      "Epoch 195/200: Loss: 0.001648359308455838\n",
      "Epoch 196/200: Loss: 0.0014599180653021905\n",
      "Epoch 197/200: Loss: 0.0009851977081780205\n",
      "Epoch 198/200: Loss: 0.0016571968419157202\n",
      "Epoch 199/200: Loss: 0.001879295699109207\n",
      "Epoch 200/200: Loss: 0.0018980370563440375\n",
      "time costs: 905.4613335132599\n",
      "--------------------\n"
     ]
    }
   ],
   "source": [
    "accuarcies = []\n",
    "times = []\n",
    "\n",
    "for i in range(1):\n",
    "    print(f'training epoch: {i + 1}')\n",
    "    qmodel = QModel(input_size, hidden_size, num_output, \n",
    "                num_layers = num_layers, ctx = ctx, mode='classical')\n",
    "    optimizer = torch.optim.Adam(qmodel.parameters(), lr = 0.001)\n",
    "    loss_func = nn.MSELoss()\n",
    "    start = time.time()\n",
    "    losses = train_model(qmodel, train_data, batch_size=20,          \n",
    "                   loss_func = loss_func, optimizer = optimizer, epoch = 200)\n",
    "    end = time.time()\n",
    "\n",
    "    print(f'time costs: {end - start}')\n",
    "    times.append(end - start)\n",
    "    \n",
    "    acc = calculate_accuarcy(qmodel, X_test, y_test)[0]\n",
    "    accuarcies.append(acc)\n",
    "    \n",
    "    with open(f'loss/layer6/loss_layer6_{i + 1}.pkl', 'wb') as pkl_file:\n",
    "        pickle.dump(losses, pkl_file)\n",
    "    torch.save(qmodel.state_dict(), f\"model/layer6/model_layer6_{i+1}.pt\")\n",
    "    \n",
    "    print('-' * 20)"
   ]
  },
  {
   "cell_type": "code",
   "execution_count": 36,
   "id": "6ac9c597",
   "metadata": {},
   "outputs": [
    {
     "data": {
      "text/plain": [
       "[<matplotlib.lines.Line2D at 0x16739b0cf40>]"
      ]
     },
     "execution_count": 36,
     "metadata": {},
     "output_type": "execute_result"
    },
    {
     "data": {
      "image/png": "[encoded data removed]",
      "text/plain": [
       "<Figure size 640x480 with 1 Axes>"
      ]
     },
     "metadata": {},
     "output_type": "display_data"
    }
   ],
   "source": [
    "import matplotlib.pyplot as plt\n",
    "\n",
    "plt.plot(losses, color=\"#FF6666\")"
   ]
  },
  {
   "cell_type": "code",
   "execution_count": 37,
   "id": "d3343ae1",
   "metadata": {},
   "outputs": [
    {
     "name": "stdout",
     "output_type": "stream",
     "text": [
      "quantum paramers: 16\n"
     ]
    }
   ],
   "source": [
    "print(f'quantum paramers: {QLSTM(1, 1, ctx = ctx).qparameters_size}')"
   ]
  },
  {
   "cell_type": "code",
   "execution_count": 38,
   "id": "46f6f504",
   "metadata": {},
   "outputs": [
    {
     "data": {
      "text/plain": [
       "[97.63765791166317]"
      ]
     },
     "execution_count": 38,
     "metadata": {},
     "output_type": "execute_result"
    }
   ],
   "source": [
    "accuarcies"
   ]
  },
  {
   "cell_type": "code",
   "execution_count": 42,
   "id": "d5af0126",
   "metadata": {},
   "outputs": [
    {
     "data": {
      "text/plain": [
       "84.95172216442157"
      ]
     },
     "execution_count": 42,
     "metadata": {},
     "output_type": "execute_result"
    }
   ],
   "source": [
    "# 84.95172216442157\n",
    "# \n",
    "# [97.55765262371202,\n",
    "#  83.32441209282517,\n",
    "#  96.3045084035267,\n",
    "#  56.08851310089852,\n",
    "#  96.46727799998833,\n",
    "#  92.58356227366893,\n",
    "#  88.60902168118207,\n",
    "#  96.38772477862966,\n",
    "#  43.72888332919298,\n",
    "#  98.46566536059125]\n",
    "np.mean(accuarcies)"
   ]
  },
  {
   "cell_type": "code",
   "execution_count": 40,
   "id": "5e317ee3",
   "metadata": {},
   "outputs": [
    {
     "data": {
      "text/plain": [
       "529.8514951467514"
      ]
     },
     "execution_count": 40,
     "metadata": {},
     "output_type": "execute_result"
    }
   ],
   "source": [
    "# 529.8514951467514\n",
    "np.mean(times)"
   ]
  },
  {
   "cell_type": "code",
   "execution_count": null,
   "id": "4297e213",
   "metadata": {},
   "outputs": [],
   "source": []
  },
  {
   "cell_type": "code",
   "execution_count": null,
   "id": "7abd9cda",
   "metadata": {},
   "outputs": [],
   "source": []
  }
 ],
 "metadata": {
  "kernelspec": {
   "display_name": "Python 3 (ipykernel)",
   "language": "python",
   "name": "python3"
  },
  "language_info": {
   "codemirror_mode": {
    "name": "ipython",
    "version": 3
   },
   "file_extension": ".py",
   "mimetype": "text/x-python",
   "name": "python",
   "nbconvert_exporter": "python",
   "pygments_lexer": "ipython3",
   "version": "3.8.13"
  }
 },
 "nbformat": 4,
 "nbformat_minor": 5
}
